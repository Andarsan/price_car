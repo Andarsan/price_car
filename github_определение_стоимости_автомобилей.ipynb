{
  "cells": [
    {
      "cell_type": "markdown",
      "metadata": {
        "id": "view-in-github",
        "colab_type": "text"
      },
      "source": [
        "<a href=\"https://colab.research.google.com/github/Andarsan/price_car/blob/main/github_%D0%BE%D0%BF%D1%80%D0%B5%D0%B4%D0%B5%D0%BB%D0%B5%D0%BD%D0%B8%D0%B5_%D1%81%D1%82%D0%BE%D0%B8%D0%BC%D0%BE%D1%81%D1%82%D0%B8_%D0%B0%D0%B2%D1%82%D0%BE%D0%BC%D0%BE%D0%B1%D0%B8%D0%BB%D0%B5%D0%B9.ipynb\" target=\"_parent\"><img src=\"https://colab.research.google.com/assets/colab-badge.svg\" alt=\"Open In Colab\"/></a>"
      ]
    },
    {
      "cell_type": "markdown",
      "metadata": {
        "id": "t0oJOrdFdAkr"
      },
      "source": [
        "# Определение стоимости автомобилей"
      ]
    },
    {
      "cell_type": "markdown",
      "metadata": {
        "id": "RSqvTVYVdAkr"
      },
      "source": [
        "Сервис по продаже автомобилей с пробегом «Не бит, не крашен» разрабатывает приложение для привлечения новых клиентов. В нём можно быстро узнать рыночную стоимость своего автомобиля. В вашем распоряжении исторические данные: технические характеристики, комплектации и цены автомобилей. Вам нужно построить модель для определения стоимости.\n",
        "\n",
        "Заказчику важны:\n",
        "\n",
        "- качество предсказания;\n",
        "- скорость предсказания;\n",
        "- время обучения."
      ]
    },
    {
      "cell_type": "markdown",
      "metadata": {
        "id": "zJ-wM0wNdAkr"
      },
      "source": [
        "## Подготовка данных"
      ]
    },
    {
      "cell_type": "code",
      "execution_count": 38,
      "metadata": {
        "scrolled": true,
        "colab": {
          "base_uri": "https://localhost:8080/"
        },
        "id": "UuzaFsKjdAkr",
        "outputId": "99ae79d4-3c41-4899-9019-78b49693c595"
      },
      "outputs": [
        {
          "output_type": "stream",
          "name": "stdout",
          "text": [
            "Defaulting to user installation because normal site-packages is not writeable\n",
            "Requirement already satisfied: catboost in c:\\users\\andar\\appdata\\roaming\\python\\python311\\site-packages (1.2.5)\n",
            "Requirement already satisfied: graphviz in c:\\users\\andar\\appdata\\roaming\\python\\python311\\site-packages (from catboost) (0.20.3)\n",
            "Requirement already satisfied: matplotlib in c:\\programdata\\anaconda3\\lib\\site-packages (from catboost) (3.8.0)\n",
            "Requirement already satisfied: numpy>=1.16.0 in c:\\users\\andar\\appdata\\roaming\\python\\python311\\site-packages (from catboost) (1.24.3)\n",
            "Requirement already satisfied: pandas>=0.24 in c:\\programdata\\anaconda3\\lib\\site-packages (from catboost) (2.1.4)\n",
            "Requirement already satisfied: scipy in c:\\programdata\\anaconda3\\lib\\site-packages (from catboost) (1.11.4)\n",
            "Requirement already satisfied: plotly in c:\\programdata\\anaconda3\\lib\\site-packages (from catboost) (5.9.0)\n",
            "Requirement already satisfied: six in c:\\programdata\\anaconda3\\lib\\site-packages (from catboost) (1.16.0)\n",
            "Requirement already satisfied: python-dateutil>=2.8.2 in c:\\programdata\\anaconda3\\lib\\site-packages (from pandas>=0.24->catboost) (2.8.2)\n",
            "Requirement already satisfied: pytz>=2020.1 in c:\\programdata\\anaconda3\\lib\\site-packages (from pandas>=0.24->catboost) (2023.3.post1)\n",
            "Requirement already satisfied: tzdata>=2022.1 in c:\\programdata\\anaconda3\\lib\\site-packages (from pandas>=0.24->catboost) (2023.3)\n",
            "Requirement already satisfied: contourpy>=1.0.1 in c:\\programdata\\anaconda3\\lib\\site-packages (from matplotlib->catboost) (1.2.0)\n",
            "Requirement already satisfied: cycler>=0.10 in c:\\programdata\\anaconda3\\lib\\site-packages (from matplotlib->catboost) (0.11.0)\n",
            "Requirement already satisfied: fonttools>=4.22.0 in c:\\programdata\\anaconda3\\lib\\site-packages (from matplotlib->catboost) (4.25.0)\n",
            "Requirement already satisfied: kiwisolver>=1.0.1 in c:\\programdata\\anaconda3\\lib\\site-packages (from matplotlib->catboost) (1.4.4)\n",
            "Requirement already satisfied: packaging>=20.0 in c:\\programdata\\anaconda3\\lib\\site-packages (from matplotlib->catboost) (23.1)\n",
            "Requirement already satisfied: pillow>=6.2.0 in c:\\programdata\\anaconda3\\lib\\site-packages (from matplotlib->catboost) (10.2.0)\n",
            "Requirement already satisfied: pyparsing>=2.3.1 in c:\\programdata\\anaconda3\\lib\\site-packages (from matplotlib->catboost) (3.0.9)\n",
            "Requirement already satisfied: tenacity>=6.2.0 in c:\\programdata\\anaconda3\\lib\\site-packages (from plotly->catboost) (8.2.2)\n",
            "An exception of type ModuleNotFoundError occurred. Arguments:\n",
            "(\"No module named 'google.colab'\",)\n",
            "Defaulting to user installation because normal site-packages is not writeable\n",
            "Requirement already satisfied: phik in c:\\users\\andar\\appdata\\roaming\\python\\python311\\site-packages (0.12.4)\n",
            "Requirement already satisfied: numpy>=1.18.0 in c:\\users\\andar\\appdata\\roaming\\python\\python311\\site-packages (from phik) (1.24.3)\n",
            "Requirement already satisfied: scipy>=1.5.2 in c:\\programdata\\anaconda3\\lib\\site-packages (from phik) (1.11.4)\n",
            "Requirement already satisfied: pandas>=0.25.1 in c:\\programdata\\anaconda3\\lib\\site-packages (from phik) (2.1.4)\n",
            "Requirement already satisfied: matplotlib>=2.2.3 in c:\\programdata\\anaconda3\\lib\\site-packages (from phik) (3.8.0)\n",
            "Requirement already satisfied: joblib>=0.14.1 in c:\\programdata\\anaconda3\\lib\\site-packages (from phik) (1.2.0)\n",
            "Requirement already satisfied: contourpy>=1.0.1 in c:\\programdata\\anaconda3\\lib\\site-packages (from matplotlib>=2.2.3->phik) (1.2.0)\n",
            "Requirement already satisfied: cycler>=0.10 in c:\\programdata\\anaconda3\\lib\\site-packages (from matplotlib>=2.2.3->phik) (0.11.0)\n",
            "Requirement already satisfied: fonttools>=4.22.0 in c:\\programdata\\anaconda3\\lib\\site-packages (from matplotlib>=2.2.3->phik) (4.25.0)\n",
            "Requirement already satisfied: kiwisolver>=1.0.1 in c:\\programdata\\anaconda3\\lib\\site-packages (from matplotlib>=2.2.3->phik) (1.4.4)\n",
            "Requirement already satisfied: packaging>=20.0 in c:\\programdata\\anaconda3\\lib\\site-packages (from matplotlib>=2.2.3->phik) (23.1)\n",
            "Requirement already satisfied: pillow>=6.2.0 in c:\\programdata\\anaconda3\\lib\\site-packages (from matplotlib>=2.2.3->phik) (10.2.0)\n",
            "Requirement already satisfied: pyparsing>=2.3.1 in c:\\programdata\\anaconda3\\lib\\site-packages (from matplotlib>=2.2.3->phik) (3.0.9)\n",
            "Requirement already satisfied: python-dateutil>=2.7 in c:\\programdata\\anaconda3\\lib\\site-packages (from matplotlib>=2.2.3->phik) (2.8.2)\n",
            "Requirement already satisfied: pytz>=2020.1 in c:\\programdata\\anaconda3\\lib\\site-packages (from pandas>=0.25.1->phik) (2023.3.post1)\n",
            "Requirement already satisfied: tzdata>=2022.1 in c:\\programdata\\anaconda3\\lib\\site-packages (from pandas>=0.25.1->phik) (2023.3)\n",
            "Requirement already satisfied: six>=1.5 in c:\\programdata\\anaconda3\\lib\\site-packages (from python-dateutil>=2.7->matplotlib>=2.2.3->phik) (1.16.0)\n"
          ]
        }
      ],
      "source": [
        "import warnings\n",
        "warnings.filterwarnings(\"ignore\")\n",
        "\n",
        "import pandas as pd\n",
        "import os\n",
        "import numpy as np\n",
        "import time\n",
        "import copy\n",
        "# модели\n",
        "! pip install catboost\n",
        "from catboost import CatBoostRegressor\n",
        "from sklearn.tree import DecisionTreeRegressor\n",
        "#import lightgbm as lgb\n",
        "from lightgbm import LGBMRegressor\n",
        "# метрика\n",
        "from sklearn.metrics import mean_squared_error\n",
        "# загружаем класс pipeline\n",
        "from sklearn.pipeline import Pipeline\n",
        "from sklearn.compose import ColumnTransformer\n",
        "from sklearn.model_selection import RandomizedSearchCV,\\\n",
        "train_test_split,\\\n",
        "cross_val_score\n",
        "# загружаем класс для работы с пропусками\n",
        "from sklearn.impute import SimpleImputer\n",
        "from sklearn.preprocessing import OneHotEncoder, \\\n",
        "OrdinalEncoder, StandardScaler, MinMaxScaler, RobustScaler\n",
        "\n",
        "RANDOM_STATE=42\n",
        "try:\n",
        "    from google.colab import drive\n",
        "    drive.mount('/content/drive')\n",
        "except Exception as ex:\n",
        "    template = \"An exception of type {0} occurred. Arguments:\\n{1!r}\"\n",
        "    message = template.format(type(ex).__name__, ex.args)\n",
        "    print(message)\n",
        "import matplotlib.pyplot as plt\n",
        "import seaborn as sns\n",
        "! pip install phik\n",
        "# Вычисление матрицы корреляции с использованием phik\n",
        "import phik\n"
      ]
    },
    {
      "cell_type": "code",
      "execution_count": 39,
      "metadata": {
        "colab": {
          "base_uri": "https://localhost:8080/",
          "height": 34
        },
        "id": "ydHGmIgJdAks",
        "outputId": "2467e92e-76d8-4bb2-e587-8f854e482d22"
      },
      "outputs": [
        {
          "output_type": "display_data",
          "data": {
            "text/plain": [
              "'рабочий каталог: C:/Users/andar/Downloads'"
            ]
          },
          "metadata": {}
        }
      ],
      "source": [
        "pth1 = '/datasets'#/ferma_main.csv'\n",
        "pth2 = '/content/drive/MyDrive/Colab Notebooks/all_project' #/ferma_main.csv'\n",
        "pth3 = 'C:/Users/andar/Downloads'\n",
        "if os.path.exists(pth1):\n",
        "  pth = pth1\n",
        "elif os.path.exists(pth2):\n",
        "  pth = pth2\n",
        "elif os.path.exists(pth3):\n",
        "  pth = pth3\n",
        "else:\n",
        "  pth = 'Something is wrong'\n",
        "display(f'рабочий каталог: {pth}')"
      ]
    },
    {
      "cell_type": "code",
      "source": [
        "\n",
        "def df_plt_describe(_df,_for,describe=False):\n",
        "    for i in _for:\n",
        "        j=0\n",
        "        for _ in range(1):\n",
        "            if _df[i].dtype != 'object':\n",
        "                # Set up the plot\n",
        "                ax = plt.subplot(2, 2, j + 1)\n",
        "                j = j+1\n",
        "                # Draw the plot\n",
        "                ax.boxplot(_df[i])\n",
        "                # Title and labels\n",
        "                ax.set_title(i)\n",
        "                ax = plt.subplot(2, 2, j + 1)\n",
        "                j = j+1\n",
        "                # Draw the plot\n",
        "                ax.hist(_df[i])\n",
        "                # Title and labels\n",
        "                ax.set_title(i)\n",
        "        plt.tight_layout()\n",
        "        plt.show()\n",
        "        plt.close()\n",
        "    if describe:\n",
        "        display(_df[_for].describe())\n"
      ],
      "metadata": {
        "id": "xdLg4hU9fOHe"
      },
      "execution_count": 40,
      "outputs": []
    },
    {
      "cell_type": "code",
      "execution_count": 41,
      "metadata": {
        "scrolled": true,
        "colab": {
          "base_uri": "https://localhost:8080/",
          "height": 816
        },
        "id": "2Hd89L99dAks",
        "outputId": "e490fa7e-9ee3-4da1-8468-1cd5b05c68c1"
      },
      "outputs": [
        {
          "output_type": "display_data",
          "data": {
            "text/plain": [
              "           DateCrawled  Price VehicleType  RegistrationYear Gearbox  Power  \\\n",
              "0  2016-03-24 11:52:17    480         NaN              1993  manual      0   \n",
              "1  2016-03-24 10:58:45  18300       coupe              2011  manual    190   \n",
              "2  2016-03-14 12:52:21   9800         suv              2004    auto    163   \n",
              "3  2016-03-17 16:54:04   1500       small              2001  manual     75   \n",
              "4  2016-03-31 17:25:20   3600       small              2008  manual     69   \n",
              "\n",
              "   Model  Kilometer  RegistrationMonth  FuelType       Brand Repaired  \\\n",
              "0   golf     150000                  0    petrol  volkswagen      NaN   \n",
              "1    NaN     125000                  5  gasoline        audi      yes   \n",
              "2  grand     125000                  8  gasoline        jeep      NaN   \n",
              "3   golf     150000                  6    petrol  volkswagen       no   \n",
              "4  fabia      90000                  7  gasoline       skoda       no   \n",
              "\n",
              "           DateCreated  NumberOfPictures  PostalCode             LastSeen  \n",
              "0  2016-03-24 00:00:00                 0       70435  2016-04-07 03:16:57  \n",
              "1  2016-03-24 00:00:00                 0       66954  2016-04-07 01:46:50  \n",
              "2  2016-03-14 00:00:00                 0       90480  2016-04-05 12:47:46  \n",
              "3  2016-03-17 00:00:00                 0       91074  2016-03-17 17:40:17  \n",
              "4  2016-03-31 00:00:00                 0       60437  2016-04-06 10:17:21  "
            ],
            "text/html": [
              "<div>\n",
              "<style scoped>\n",
              "    .dataframe tbody tr th:only-of-type {\n",
              "        vertical-align: middle;\n",
              "    }\n",
              "\n",
              "    .dataframe tbody tr th {\n",
              "        vertical-align: top;\n",
              "    }\n",
              "\n",
              "    .dataframe thead th {\n",
              "        text-align: right;\n",
              "    }\n",
              "</style>\n",
              "<table border=\"1\" class=\"dataframe\">\n",
              "  <thead>\n",
              "    <tr style=\"text-align: right;\">\n",
              "      <th></th>\n",
              "      <th>DateCrawled</th>\n",
              "      <th>Price</th>\n",
              "      <th>VehicleType</th>\n",
              "      <th>RegistrationYear</th>\n",
              "      <th>Gearbox</th>\n",
              "      <th>Power</th>\n",
              "      <th>Model</th>\n",
              "      <th>Kilometer</th>\n",
              "      <th>RegistrationMonth</th>\n",
              "      <th>FuelType</th>\n",
              "      <th>Brand</th>\n",
              "      <th>Repaired</th>\n",
              "      <th>DateCreated</th>\n",
              "      <th>NumberOfPictures</th>\n",
              "      <th>PostalCode</th>\n",
              "      <th>LastSeen</th>\n",
              "    </tr>\n",
              "  </thead>\n",
              "  <tbody>\n",
              "    <tr>\n",
              "      <th>0</th>\n",
              "      <td>2016-03-24 11:52:17</td>\n",
              "      <td>480</td>\n",
              "      <td>NaN</td>\n",
              "      <td>1993</td>\n",
              "      <td>manual</td>\n",
              "      <td>0</td>\n",
              "      <td>golf</td>\n",
              "      <td>150000</td>\n",
              "      <td>0</td>\n",
              "      <td>petrol</td>\n",
              "      <td>volkswagen</td>\n",
              "      <td>NaN</td>\n",
              "      <td>2016-03-24 00:00:00</td>\n",
              "      <td>0</td>\n",
              "      <td>70435</td>\n",
              "      <td>2016-04-07 03:16:57</td>\n",
              "    </tr>\n",
              "    <tr>\n",
              "      <th>1</th>\n",
              "      <td>2016-03-24 10:58:45</td>\n",
              "      <td>18300</td>\n",
              "      <td>coupe</td>\n",
              "      <td>2011</td>\n",
              "      <td>manual</td>\n",
              "      <td>190</td>\n",
              "      <td>NaN</td>\n",
              "      <td>125000</td>\n",
              "      <td>5</td>\n",
              "      <td>gasoline</td>\n",
              "      <td>audi</td>\n",
              "      <td>yes</td>\n",
              "      <td>2016-03-24 00:00:00</td>\n",
              "      <td>0</td>\n",
              "      <td>66954</td>\n",
              "      <td>2016-04-07 01:46:50</td>\n",
              "    </tr>\n",
              "    <tr>\n",
              "      <th>2</th>\n",
              "      <td>2016-03-14 12:52:21</td>\n",
              "      <td>9800</td>\n",
              "      <td>suv</td>\n",
              "      <td>2004</td>\n",
              "      <td>auto</td>\n",
              "      <td>163</td>\n",
              "      <td>grand</td>\n",
              "      <td>125000</td>\n",
              "      <td>8</td>\n",
              "      <td>gasoline</td>\n",
              "      <td>jeep</td>\n",
              "      <td>NaN</td>\n",
              "      <td>2016-03-14 00:00:00</td>\n",
              "      <td>0</td>\n",
              "      <td>90480</td>\n",
              "      <td>2016-04-05 12:47:46</td>\n",
              "    </tr>\n",
              "    <tr>\n",
              "      <th>3</th>\n",
              "      <td>2016-03-17 16:54:04</td>\n",
              "      <td>1500</td>\n",
              "      <td>small</td>\n",
              "      <td>2001</td>\n",
              "      <td>manual</td>\n",
              "      <td>75</td>\n",
              "      <td>golf</td>\n",
              "      <td>150000</td>\n",
              "      <td>6</td>\n",
              "      <td>petrol</td>\n",
              "      <td>volkswagen</td>\n",
              "      <td>no</td>\n",
              "      <td>2016-03-17 00:00:00</td>\n",
              "      <td>0</td>\n",
              "      <td>91074</td>\n",
              "      <td>2016-03-17 17:40:17</td>\n",
              "    </tr>\n",
              "    <tr>\n",
              "      <th>4</th>\n",
              "      <td>2016-03-31 17:25:20</td>\n",
              "      <td>3600</td>\n",
              "      <td>small</td>\n",
              "      <td>2008</td>\n",
              "      <td>manual</td>\n",
              "      <td>69</td>\n",
              "      <td>fabia</td>\n",
              "      <td>90000</td>\n",
              "      <td>7</td>\n",
              "      <td>gasoline</td>\n",
              "      <td>skoda</td>\n",
              "      <td>no</td>\n",
              "      <td>2016-03-31 00:00:00</td>\n",
              "      <td>0</td>\n",
              "      <td>60437</td>\n",
              "      <td>2016-04-06 10:17:21</td>\n",
              "    </tr>\n",
              "  </tbody>\n",
              "</table>\n",
              "</div>"
            ]
          },
          "metadata": {}
        },
        {
          "output_type": "stream",
          "name": "stdout",
          "text": [
            "<class 'pandas.core.frame.DataFrame'>\n",
            "RangeIndex: 354369 entries, 0 to 354368\n",
            "Data columns (total 16 columns):\n",
            " #   Column             Non-Null Count   Dtype \n",
            "---  ------             --------------   ----- \n",
            " 0   DateCrawled        354369 non-null  object\n",
            " 1   Price              354369 non-null  int64 \n",
            " 2   VehicleType        316879 non-null  object\n",
            " 3   RegistrationYear   354369 non-null  int64 \n",
            " 4   Gearbox            334536 non-null  object\n",
            " 5   Power              354369 non-null  int64 \n",
            " 6   Model              334664 non-null  object\n",
            " 7   Kilometer          354369 non-null  int64 \n",
            " 8   RegistrationMonth  354369 non-null  int64 \n",
            " 9   FuelType           321474 non-null  object\n",
            " 10  Brand              354369 non-null  object\n",
            " 11  Repaired           283215 non-null  object\n",
            " 12  DateCreated        354369 non-null  object\n",
            " 13  NumberOfPictures   354369 non-null  int64 \n",
            " 14  PostalCode         354369 non-null  int64 \n",
            " 15  LastSeen           354369 non-null  object\n",
            "dtypes: int64(7), object(9)\n",
            "memory usage: 43.3+ MB\n"
          ]
        },
        {
          "output_type": "display_data",
          "data": {
            "text/plain": [
              "None"
            ]
          },
          "metadata": {}
        }
      ],
      "source": [
        "df = pd.read_csv(pth + '/autos.csv')\n",
        "display(df.head(5))\n",
        "display(df.info())"
      ]
    },
    {
      "cell_type": "code",
      "execution_count": 42,
      "metadata": {
        "id": "3rhs6RH_dAks"
      },
      "outputs": [],
      "source": [
        "df.columns =  [item.lower() for item in df.columns]"
      ]
    },
    {
      "cell_type": "markdown",
      "metadata": {
        "id": "Nf8cJFcbdAks"
      },
      "source": [
        "•\tНазвание луче бы не трогал"
      ]
    },
    {
      "cell_type": "code",
      "execution_count": 43,
      "metadata": {
        "colab": {
          "base_uri": "https://localhost:8080/"
        },
        "id": "ufcSdESCdAkt",
        "outputId": "50ab7111-a4ee-4ef9-ee16-d954f8db6a05"
      },
      "outputs": [
        {
          "output_type": "execute_result",
          "data": {
            "text/plain": [
              "array([2016])"
            ]
          },
          "metadata": {},
          "execution_count": 43
        }
      ],
      "source": [
        "df['datecrawled'].astype('datetime64[ns]').dt.year.unique()"
      ]
    },
    {
      "cell_type": "code",
      "execution_count": 44,
      "metadata": {
        "id": "iuAbDyfkdAkt"
      },
      "outputs": [],
      "source": [
        "df = df.drop(columns=['datecrawled',\n",
        "                      'numberofpictures',\n",
        "                      'datecreated',\n",
        "                      'lastseen'])"
      ]
    },
    {
      "cell_type": "markdown",
      "metadata": {
        "id": "_2kBQfx3dAkt"
      },
      "source": [
        "•\tУдалили лишние признаки"
      ]
    },
    {
      "cell_type": "markdown",
      "metadata": {
        "id": "_2nVCWwUdAkt"
      },
      "source": [
        "### 'vehicletype'"
      ]
    },
    {
      "cell_type": "code",
      "execution_count": 45,
      "metadata": {
        "colab": {
          "base_uri": "https://localhost:8080/",
          "height": 86
        },
        "id": "yk6uY4-OdAkt",
        "outputId": "486825f2-8604-4aa5-f872-04fc663f8907"
      },
      "outputs": [
        {
          "output_type": "display_data",
          "data": {
            "text/plain": [
              "37490"
            ]
          },
          "metadata": {}
        },
        {
          "output_type": "display_data",
          "data": {
            "text/plain": [
              "0"
            ]
          },
          "metadata": {}
        },
        {
          "output_type": "display_data",
          "data": {
            "text/plain": [
              "array(['NaN', 'coupe', 'suv', 'small', 'sedan', 'convertible', 'bus',\n",
              "       'wagon', 'other'], dtype=object)"
            ]
          },
          "metadata": {}
        }
      ],
      "source": [
        "display(df['vehicletype'].isna().sum())\n",
        "df.loc[df['vehicletype'].isna(), 'vehicletype'] = 'NaN'\n",
        "display(df['vehicletype'].isna().sum())\n",
        "display(df['vehicletype'].unique())"
      ]
    },
    {
      "cell_type": "markdown",
      "metadata": {
        "id": "UyJ3p3JCdAkt"
      },
      "source": [
        "•\tЗаменили все пропуски на ‘NaN’"
      ]
    },
    {
      "cell_type": "markdown",
      "metadata": {
        "id": "fQM8h04ZdAkt"
      },
      "source": [
        "### 'registrationyear'"
      ]
    },
    {
      "cell_type": "code",
      "execution_count": 46,
      "metadata": {
        "colab": {
          "base_uri": "https://localhost:8080/"
        },
        "id": "ZFSqnBV7dAkt",
        "outputId": "fb63b86e-781a-4c04-8314-a05ec5ab1fd9"
      },
      "outputs": [
        {
          "output_type": "execute_result",
          "data": {
            "text/plain": [
              "count    354369.000000\n",
              "mean       2004.234448\n",
              "std          90.227958\n",
              "min        1000.000000\n",
              "25%        1999.000000\n",
              "50%        2003.000000\n",
              "75%        2008.000000\n",
              "max        9999.000000\n",
              "Name: registrationyear, dtype: float64"
            ]
          },
          "metadata": {},
          "execution_count": 46
        }
      ],
      "source": [
        "df['registrationyear'].describe()"
      ]
    },
    {
      "cell_type": "code",
      "execution_count": 47,
      "metadata": {
        "colab": {
          "base_uri": "https://localhost:8080/",
          "height": 794
        },
        "id": "YlSkGSYFdAkt",
        "outputId": "8155d423-5052-4582-ac3e-6026425062f1"
      },
      "outputs": [
        {
          "output_type": "display_data",
          "data": {
            "text/plain": [
              "<Figure size 640x480 with 2 Axes>"
            ],
            "image/png": "[encoded data removed]"
          },
          "metadata": {}
        },
        {
          "output_type": "display_data",
          "data": {
            "text/plain": [
              "<Figure size 640x480 with 2 Axes>"
            ],
            "image/png": "[encoded data removed]"
          },
          "metadata": {}
        },
        {
          "output_type": "display_data",
          "data": {
            "text/plain": [
              "<Figure size 640x480 with 2 Axes>"
            ],
            "image/png": "[encoded data removed]"
          },
          "metadata": {}
        }
      ],
      "source": [
        "df_plt_describe(\n",
        "    df.query('registrationyear >= 1975 and registrationyear <= 2024'),\n",
        "    ['registrationyear'])\n",
        "df_plt_describe(\n",
        "    df.query('registrationyear >= 1975 and registrationyear <= 1991'),\n",
        "    ['registrationyear'])\n",
        "df_plt_describe(\n",
        "    df.query('registrationyear >= 2015 and registrationyear <= 2020'),\n",
        "    ['registrationyear'])\n"
      ]
    },
    {
      "cell_type": "markdown",
      "metadata": {
        "id": "CM-xIhAydAkt"
      },
      "source": [
        "•\tОставим только период с 1900"
      ]
    },
    {
      "cell_type": "code",
      "execution_count": 48,
      "metadata": {
        "scrolled": false,
        "colab": {
          "base_uri": "https://localhost:8080/"
        },
        "id": "PIK8SDIndAku",
        "outputId": "efc36a34-ebc8-45f1-b83c-aa2f551c7fed"
      },
      "outputs": [
        {
          "output_type": "execute_result",
          "data": {
            "text/plain": [
              "old\n",
              "древняя        83469\n",
              "новая          74453\n",
              "ретро          89778\n",
              "старая         94194\n",
              "супер-ретро    10082\n",
              "Name: old, dtype: int64"
            ]
          },
          "metadata": {},
          "execution_count": 48
        }
      ],
      "source": [
        "df = df.query('registrationyear >= 1975')\n",
        "where = df['registrationyear'] <= 1990\n",
        "df.loc[where, 'old'] = 'супер-ретро'\n",
        "where = (df['registrationyear'] > 1990) & (df['registrationyear'] <= 1999)\n",
        "df.loc[where, 'old'] = 'ретро'\n",
        "where = (df['registrationyear'] > 1999) & (df['registrationyear'] <= 2003)\n",
        "df.loc[where, 'old'] = 'древняя'\n",
        "where = (df['registrationyear'] > 2003) & (df['registrationyear'] <= 2008)\n",
        "df.loc[where, 'old'] = 'старая'\n",
        "where = df['registrationyear'] > 2008\n",
        "df.loc[where, 'old'] = 'новая'\n",
        "df.groupby('old')['old'].count()"
      ]
    },
    {
      "cell_type": "markdown",
      "metadata": {
        "id": "70ftxvdOdAku"
      },
      "source": [
        "### 'gearbox'"
      ]
    },
    {
      "cell_type": "code",
      "execution_count": 49,
      "metadata": {
        "colab": {
          "base_uri": "https://localhost:8080/",
          "height": 69
        },
        "id": "4xPfsiwhdAku",
        "outputId": "860676e4-4f1e-463d-e9e0-acb846d69a2f"
      },
      "outputs": [
        {
          "output_type": "display_data",
          "data": {
            "text/plain": [
              "19181"
            ]
          },
          "metadata": {}
        },
        {
          "output_type": "display_data",
          "data": {
            "text/plain": [
              "array(['manual', 'auto', nan], dtype=object)"
            ]
          },
          "metadata": {}
        },
        {
          "output_type": "display_data",
          "data": {
            "text/plain": [
              "array(['manual', 'auto', 'NaN'], dtype=object)"
            ]
          },
          "metadata": {}
        }
      ],
      "source": [
        "display(df['gearbox'].isna().sum())\n",
        "display(df['gearbox'].unique())\n",
        "df.loc[df['gearbox'].isna(), 'gearbox'] = 'NaN'\n",
        "#df = df.query('gearbox == gearbox')\n",
        "display(df['gearbox'].unique())"
      ]
    },
    {
      "cell_type": "markdown",
      "metadata": {
        "id": "tlm1bkCddAku"
      },
      "source": [
        "•\tИсключили те где пропуски"
      ]
    },
    {
      "cell_type": "markdown",
      "metadata": {
        "id": "0jw5gGPcdAku"
      },
      "source": [
        "### 'power'"
      ]
    },
    {
      "cell_type": "code",
      "execution_count": 50,
      "metadata": {
        "colab": {
          "base_uri": "https://localhost:8080/"
        },
        "id": "_7SOqYlPdAku",
        "outputId": "12886c09-b01a-40ff-b4d0-980a5628d0e4"
      },
      "outputs": [
        {
          "output_type": "execute_result",
          "data": {
            "text/plain": [
              "count    351976.000000\n",
              "mean        110.346322\n",
              "std         188.289661\n",
              "min           0.000000\n",
              "25%          69.000000\n",
              "50%         105.000000\n",
              "75%         143.000000\n",
              "max       20000.000000\n",
              "Name: power, dtype: float64"
            ]
          },
          "metadata": {},
          "execution_count": 50
        }
      ],
      "source": [
        "df['power'].describe()"
      ]
    },
    {
      "cell_type": "code",
      "execution_count": 51,
      "metadata": {
        "scrolled": true,
        "colab": {
          "base_uri": "https://localhost:8080/",
          "height": 535
        },
        "id": "od8QYyMSdAku",
        "outputId": "fa2fccf7-91f1-4963-e21d-985579c8d381"
      },
      "outputs": [
        {
          "output_type": "display_data",
          "data": {
            "text/plain": [
              "<Figure size 640x480 with 2 Axes>"
            ],
            "image/png": "[encoded data removed]"
          },
          "metadata": {}
        },
        {
          "output_type": "display_data",
          "data": {
            "text/plain": [
              "<Figure size 640x480 with 2 Axes>"
            ],
            "image/png": "[encoded data removed]"
          },
          "metadata": {}
        }
      ],
      "source": [
        "df_plt_describe(df.query('power < 71'),['power'])\n",
        "df_plt_describe(df.query('power > 143 and power < 500'),['power'])"
      ]
    },
    {
      "cell_type": "markdown",
      "metadata": {
        "id": "JpReJeTkdAkv"
      },
      "source": [
        "•\tУ кого меньше 40 сделаем 40 кроме 0 (оставим 0)\n",
        "\n",
        "•\tУ кого больше 400 сделаем 400"
      ]
    },
    {
      "cell_type": "code",
      "execution_count": 52,
      "metadata": {
        "scrolled": true,
        "id": "rGTsnGv3dAkv"
      },
      "outputs": [],
      "source": [
        "df.loc[(df['power'] > 0) & (df['power']<40),'power'] = 40\n",
        "df.loc[(df['power'] >= 400),'power'] = 400\n"
      ]
    },
    {
      "cell_type": "markdown",
      "metadata": {
        "id": "XzrNrFxmdAkv"
      },
      "source": [
        "•\tЗаменили все пропуски на ‘NaN’"
      ]
    },
    {
      "cell_type": "markdown",
      "metadata": {
        "id": "n9240LfudAkv"
      },
      "source": [
        "### 'model'"
      ]
    },
    {
      "cell_type": "code",
      "execution_count": 53,
      "metadata": {
        "scrolled": false,
        "colab": {
          "base_uri": "https://localhost:8080/",
          "height": 34
        },
        "id": "fZfh6ZnKdAkv",
        "outputId": "e3bdba06-97ff-486d-b352-8406478e16db"
      },
      "outputs": [
        {
          "output_type": "display_data",
          "data": {
            "text/plain": [
              "19010"
            ]
          },
          "metadata": {}
        }
      ],
      "source": [
        "display(df['model'].isna().sum())\n",
        "df.loc[df['model'].isna(), 'model'] = 'NaN'"
      ]
    },
    {
      "cell_type": "markdown",
      "metadata": {
        "id": "I8cibvgSdAkv"
      },
      "source": [
        "•\tЗаменили все пропуски на ‘NaN’"
      ]
    },
    {
      "cell_type": "markdown",
      "metadata": {
        "id": "pYg3DjdJdAkv"
      },
      "source": [
        "### 'kilometer'"
      ]
    },
    {
      "cell_type": "code",
      "execution_count": 54,
      "metadata": {
        "scrolled": true,
        "colab": {
          "base_uri": "https://localhost:8080/"
        },
        "id": "BzM-aUkvdAkw",
        "outputId": "032be554-2228-41e6-b449-2b56ea283f34"
      },
      "outputs": [
        {
          "output_type": "execute_result",
          "data": {
            "text/plain": [
              "count    351976.000000\n",
              "mean     128552.799054\n",
              "std       37544.082564\n",
              "min        5000.000000\n",
              "25%      125000.000000\n",
              "50%      150000.000000\n",
              "75%      150000.000000\n",
              "max      150000.000000\n",
              "Name: kilometer, dtype: float64"
            ]
          },
          "metadata": {},
          "execution_count": 54
        }
      ],
      "source": [
        "df['kilometer'].describe()"
      ]
    },
    {
      "cell_type": "markdown",
      "metadata": {
        "id": "-P9VGj0QdAkw"
      },
      "source": [
        "### 'registrationmonth'"
      ]
    },
    {
      "cell_type": "code",
      "execution_count": 55,
      "metadata": {
        "scrolled": true,
        "colab": {
          "base_uri": "https://localhost:8080/",
          "height": 293
        },
        "id": "0Ga33M8ddAkw",
        "outputId": "d28f7bdf-a930-4332-a508-38cea16db5d3"
      },
      "outputs": [
        {
          "output_type": "display_data",
          "data": {
            "text/plain": [
              "<Figure size 640x480 with 2 Axes>"
            ],
            "image/png": "[encoded data removed]"
          },
          "metadata": {}
        },
        {
          "output_type": "display_data",
          "data": {
            "text/plain": [
              "0"
            ]
          },
          "metadata": {}
        }
      ],
      "source": [
        "df_plt_describe(df,['registrationmonth'])\n",
        "display(df['registrationmonth'].isna().sum())"
      ]
    },
    {
      "cell_type": "markdown",
      "metadata": {
        "id": "GMma4yBBdAkw"
      },
      "source": [
        "### 'fueltype'"
      ]
    },
    {
      "cell_type": "code",
      "execution_count": 56,
      "metadata": {
        "scrolled": true,
        "colab": {
          "base_uri": "https://localhost:8080/",
          "height": 86
        },
        "id": "54rgpl1HdAkw",
        "outputId": "d1cab5d4-d91d-4bf5-f309-243417ea32b2"
      },
      "outputs": [
        {
          "output_type": "display_data",
          "data": {
            "text/plain": [
              "32269"
            ]
          },
          "metadata": {}
        },
        {
          "output_type": "display_data",
          "data": {
            "text/plain": [
              "0"
            ]
          },
          "metadata": {}
        },
        {
          "output_type": "display_data",
          "data": {
            "text/plain": [
              "array(['petrol', 'gasoline', 'NaN', 'lpg', 'other', 'hybrid', 'cng',\n",
              "       'electric'], dtype=object)"
            ]
          },
          "metadata": {}
        }
      ],
      "source": [
        "display(df['fueltype'].isna().sum())\n",
        "df.loc[df['fueltype'].isna(), 'fueltype'] = 'NaN'\n",
        "display(df['fueltype'].isna().sum())\n",
        "display(df['fueltype'].unique())"
      ]
    },
    {
      "cell_type": "code",
      "execution_count": 57,
      "metadata": {
        "id": "R3zaZlygdAkw"
      },
      "outputs": [],
      "source": [
        "df.loc[df['fueltype']=='gasoline', 'fueltype'] = 'petrol'\n",
        "df.loc[df['fueltype']=='lpg', 'fueltype'] = 'cng'"
      ]
    },
    {
      "cell_type": "markdown",
      "metadata": {
        "id": "HqLh4D1sdAkw"
      },
      "source": [
        "•\tЗаменили все пропуски на ‘NaN’"
      ]
    },
    {
      "cell_type": "markdown",
      "metadata": {
        "id": "1xGlmGKhdAkx"
      },
      "source": [
        "### 'brand'"
      ]
    },
    {
      "cell_type": "code",
      "execution_count": 58,
      "metadata": {
        "colab": {
          "base_uri": "https://localhost:8080/",
          "height": 729
        },
        "id": "yZCtMApJdAkx",
        "outputId": "607d16ee-8ab2-445d-fe1d-4a2bc6024cd0"
      },
      "outputs": [
        {
          "output_type": "display_data",
          "data": {
            "text/plain": [
              "0"
            ]
          },
          "metadata": {}
        },
        {
          "output_type": "display_data",
          "data": {
            "text/plain": [
              "['alfa_romeo',\n",
              " 'audi',\n",
              " 'bmw',\n",
              " 'chevrolet',\n",
              " 'chrysler',\n",
              " 'citroen',\n",
              " 'dacia',\n",
              " 'daewoo',\n",
              " 'daihatsu',\n",
              " 'fiat',\n",
              " 'ford',\n",
              " 'honda',\n",
              " 'hyundai',\n",
              " 'jaguar',\n",
              " 'jeep',\n",
              " 'kia',\n",
              " 'lada',\n",
              " 'lancia',\n",
              " 'land_rover',\n",
              " 'mazda',\n",
              " 'mercedes_benz',\n",
              " 'mini',\n",
              " 'mitsubishi',\n",
              " 'nissan',\n",
              " 'opel',\n",
              " 'peugeot',\n",
              " 'porsche',\n",
              " 'renault',\n",
              " 'rover',\n",
              " 'saab',\n",
              " 'seat',\n",
              " 'skoda',\n",
              " 'smart',\n",
              " 'sonstige_autos',\n",
              " 'subaru',\n",
              " 'suzuki',\n",
              " 'toyota',\n",
              " 'trabant',\n",
              " 'volkswagen',\n",
              " 'volvo']"
            ]
          },
          "metadata": {}
        }
      ],
      "source": [
        "display(df['brand'].isna().sum())\n",
        "display(sorted(df['brand'].unique()))"
      ]
    },
    {
      "cell_type": "markdown",
      "metadata": {
        "id": "6KmjfhiQdAkx"
      },
      "source": [
        "### 'repaired'"
      ]
    },
    {
      "cell_type": "code",
      "execution_count": 59,
      "metadata": {
        "scrolled": false,
        "colab": {
          "base_uri": "https://localhost:8080/",
          "height": 69
        },
        "id": "FIPqn5a3dAkx",
        "outputId": "a6512b8a-756e-41ad-e4fc-c9ddae85aa21"
      },
      "outputs": [
        {
          "output_type": "display_data",
          "data": {
            "text/plain": [
              "70251"
            ]
          },
          "metadata": {}
        },
        {
          "output_type": "display_data",
          "data": {
            "text/plain": [
              "0"
            ]
          },
          "metadata": {}
        },
        {
          "output_type": "display_data",
          "data": {
            "text/plain": [
              "['NaN', 'no', 'yes']"
            ]
          },
          "metadata": {}
        }
      ],
      "source": [
        "display(df['repaired'].isna().sum())\n",
        "#df = df.query('repaired == repaired')\n",
        "df.loc[df['repaired']!=df['repaired'], 'repaired'] = 'NaN'\n",
        "display(df['repaired'].isna().sum())\n",
        "display(sorted(df['repaired'].unique()))"
      ]
    },
    {
      "cell_type": "markdown",
      "metadata": {
        "id": "6mIWXvckdAkx"
      },
      "source": [
        "•\tЭто одна из важнейших но пришлось исключить те где пропуски"
      ]
    },
    {
      "cell_type": "markdown",
      "metadata": {
        "id": "RkKQUm0YdAky"
      },
      "source": [
        "### 'postalcode'"
      ]
    },
    {
      "cell_type": "code",
      "execution_count": 60,
      "metadata": {
        "scrolled": true,
        "colab": {
          "base_uri": "https://localhost:8080/",
          "height": 311
        },
        "id": "sWucBI_WdAky",
        "outputId": "9f5dcc18-0eab-4094-dfde-61593d691230"
      },
      "outputs": [
        {
          "output_type": "display_data",
          "data": {
            "text/plain": [
              "<Figure size 640x480 with 2 Axes>"
            ],
            "image/png": "[encoded data removed]"
          },
          "metadata": {}
        },
        {
          "output_type": "display_data",
          "data": {
            "text/plain": [
              "0"
            ]
          },
          "metadata": {}
        },
        {
          "output_type": "display_data",
          "data": {
            "text/plain": [
              "8142"
            ]
          },
          "metadata": {}
        }
      ],
      "source": [
        "df_plt_describe(df,['postalcode'])\n",
        "display(df['postalcode'].isna().sum())\n",
        "display(len(df['postalcode'].unique()))"
      ]
    },
    {
      "cell_type": "code",
      "execution_count": 61,
      "metadata": {
        "colab": {
          "base_uri": "https://localhost:8080/",
          "height": 311
        },
        "id": "7yhbXhL8dAky",
        "outputId": "68d60be7-e73c-49e1-b0e2-87bf9b8de0dc"
      },
      "outputs": [
        {
          "output_type": "display_data",
          "data": {
            "text/plain": [
              "<Figure size 640x480 with 2 Axes>"
            ],
            "image/png": "[encoded data removed]"
          },
          "metadata": {}
        },
        {
          "output_type": "display_data",
          "data": {
            "text/plain": [
              "0"
            ]
          },
          "metadata": {}
        },
        {
          "output_type": "display_data",
          "data": {
            "text/plain": [
              "(10539,)"
            ]
          },
          "metadata": {}
        }
      ],
      "source": [
        "df_plt_describe(df,['price'])\n",
        "display(df['price'].isna().sum())\n",
        "display(df.loc[df['price']==0].shape[:1])\n",
        "df = df.loc[df['price']!=0]"
      ]
    },
    {
      "cell_type": "code",
      "execution_count": 62,
      "metadata": {
        "scrolled": false,
        "colab": {
          "base_uri": "https://localhost:8080/"
        },
        "id": "Ou2nixzvdAky",
        "outputId": "90015c7e-0914-4c61-aa26-d8065f78093e"
      },
      "outputs": [
        {
          "output_type": "stream",
          "name": "stdout",
          "text": [
            "<class 'pandas.core.frame.DataFrame'>\n",
            "Index: 341437 entries, 0 to 354368\n",
            "Data columns (total 13 columns):\n",
            " #   Column             Non-Null Count   Dtype \n",
            "---  ------             --------------   ----- \n",
            " 0   price              341437 non-null  int64 \n",
            " 1   vehicletype        341437 non-null  object\n",
            " 2   registrationyear   341437 non-null  int64 \n",
            " 3   gearbox            341437 non-null  object\n",
            " 4   power              341437 non-null  int64 \n",
            " 5   model              341437 non-null  object\n",
            " 6   kilometer          341437 non-null  int64 \n",
            " 7   registrationmonth  341437 non-null  int64 \n",
            " 8   fueltype           341437 non-null  object\n",
            " 9   brand              341437 non-null  object\n",
            " 10  repaired           341437 non-null  object\n",
            " 11  postalcode         341437 non-null  int64 \n",
            " 12  old                341437 non-null  object\n",
            "dtypes: int64(6), object(7)\n",
            "memory usage: 36.5+ MB\n"
          ]
        }
      ],
      "source": [
        "df.info()"
      ]
    },
    {
      "cell_type": "markdown",
      "metadata": {
        "id": "wwU6S5W_dAky"
      },
      "source": [
        "Заключение:\n",
        "* Исключил 6 признаков ['datecrawled',\n",
        "                      'numberofpictures',\n",
        "                      'datecreated',\n",
        "                      'lastseen','postalcode','registrationmonth']\n",
        "* VehicleType -  там где пусто записал строку NaN\n",
        "* RegistrationYear – разбил на пять категорий и удалили из модели те у которых < 1990\n",
        "* Gearbox - там где пусто записал строку NaN\n",
        "* Power - укого меньше 40 сделаем 40 кроме 0 (оставим 0), у кого больше 400 * сделаем 400\n",
        "* Model – там где пусто записал строку NaN\n",
        "* FuelType – объединил 'gasoline' с 'fueltype' и 'lpg' с 'fueltype'\n",
        "* Repaired - там где пусто записал строку NaN\n",
        "\n",
        "* Всего удаленно 12 931 (4%) записей из 354368.\n",
        "\n"
      ]
    },
    {
      "cell_type": "markdown",
      "metadata": {
        "id": "uPKS9r1ZdAky"
      },
      "source": [
        "## Обучение моделей"
      ]
    },
    {
      "cell_type": "markdown",
      "metadata": {
        "id": "zR8IEPKUdAkz"
      },
      "source": [
        "### Визуализация матрицы корреляции"
      ]
    },
    {
      "cell_type": "code",
      "execution_count": 63,
      "metadata": {
        "colab": {
          "base_uri": "https://localhost:8080/",
          "height": 569
        },
        "id": "P0GR86a-dAkz",
        "outputId": "86a8f937-efd5-4a4e-8e7f-f3aaac7a7be1"
      },
      "outputs": [
        {
          "output_type": "stream",
          "name": "stdout",
          "text": [
            "interval columns not set, guessing: ['price', 'registrationyear', 'power', 'kilometer', 'registrationmonth', 'postalcode']\n"
          ]
        },
        {
          "output_type": "display_data",
          "data": {
            "text/plain": [
              "<Figure size 1200x600 with 2 Axes>"
            ],
            "image/png": "[encoded data removed]"
          },
          "metadata": {}
        }
      ],
      "source": [
        "corr_matrix = df.phik_matrix()\n",
        "plt.figure(figsize=(12, 6))\n",
        "sns.heatmap(corr_matrix, annot=True, cmap='coolwarm')\n",
        "plt.title('Phi_K Correlation Matrix')\n",
        "plt.show()"
      ]
    },
    {
      "cell_type": "markdown",
      "metadata": {
        "id": "5H6Z2dPRdAkz"
      },
      "source": [
        "* очень высоких корреляций не видно, скорее всего мультиколлинеарности нет\n",
        "* есть низкая корреляция у 'postalcode', удалим из модели"
      ]
    },
    {
      "cell_type": "code",
      "execution_count": 64,
      "metadata": {
        "id": "ufBJhUVbdAkz"
      },
      "outputs": [],
      "source": [
        "df = df.drop(columns=['postalcode','registrationmonth'])"
      ]
    },
    {
      "cell_type": "markdown",
      "metadata": {
        "id": "2b5KwRBrdAkz"
      },
      "source": [
        "### Pipeline"
      ]
    },
    {
      "cell_type": "code",
      "execution_count": 65,
      "metadata": {
        "colab": {
          "base_uri": "https://localhost:8080/",
          "height": 34
        },
        "id": "Rj-WXEwCdAkz",
        "outputId": "1ef77c48-d23c-437e-d0d4-4c7fd031eabf"
      },
      "outputs": [
        {
          "output_type": "display_data",
          "data": {
            "text/plain": [
              "'После извлечения из df : (256078,)'"
            ]
          },
          "metadata": {}
        }
      ],
      "source": [
        "# извлечём четверть для онализа качества\n",
        "test_features_valid = df.sample(frac=0.25, replace=False, random_state=RANDOM_STATE)\n",
        "\n",
        "# целевой признак для онализа лутчей модели\n",
        "test_valid = test_features_valid.price\n",
        "# тестовый набор данных для анализа лучей модели\n",
        "test_features_valid = test_features_valid.drop('price', axis=1)\n",
        "\n",
        "# удалим эту четверть из обучения\n",
        "df = df.drop(index = test_valid.index)\n",
        "display(f'После извлечения из df : {df.shape[:1]}' )"
      ]
    },
    {
      "cell_type": "code",
      "execution_count": 66,
      "metadata": {
        "colab": {
          "base_uri": "https://localhost:8080/"
        },
        "id": "0FKLuMv3dAkz",
        "outputId": "fa853896-2ab0-457b-f46d-2c72eb66db62"
      },
      "outputs": [
        {
          "output_type": "execute_result",
          "data": {
            "text/plain": [
              "(64020, 10)"
            ]
          },
          "metadata": {},
          "execution_count": 66
        }
      ],
      "source": [
        "# списки с названиями колонок\n",
        "\n",
        "ord_columns = ['gearbox','fueltype', 'repaired',\n",
        "               'vehicletype','model', 'brand','old']\n",
        "\n",
        "num_columns = ['registrationyear','power','kilometer']\n",
        "\n",
        "features_train, features_valid, target_train, target_valid = train_test_split(\n",
        "    df.drop('price', axis=1), df.price, test_size=0.25, random_state=42)\n",
        "\n",
        "ord_pipe = Pipeline(\n",
        "    [('simpleImputer_before_ord', SimpleImputer(missing_values=np.nan,\n",
        "                                                strategy='most_frequent')),\n",
        "     ('ord',  OrdinalEncoder(handle_unknown='use_encoded_value',\n",
        "                             unknown_value=np.nan)),\n",
        "     ('simpleImputer_after_ord', SimpleImputer(missing_values=np.nan, strategy='most_frequent'))\n",
        "    ]\n",
        ")\n",
        "\n",
        "# создаём общий пайплайн для подготовки данных\n",
        "data_preprocessor = ColumnTransformer(\n",
        "    [('ord', ord_pipe, ord_columns),\n",
        "     ('num', MinMaxScaler(), num_columns)\n",
        "    ],\n",
        "    remainder='passthrough'\n",
        ")\n",
        "pipe_final = Pipeline([\n",
        "    ('preprocessor', data_preprocessor),\n",
        "    ('models', DecisionTreeRegressor(random_state=RANDOM_STATE))\n",
        "])\n",
        "data_preprocessor.fit_transform(features_valid).shape"
      ]
    },
    {
      "cell_type": "markdown",
      "metadata": {
        "id": "CmHLzDe9dAk0"
      },
      "source": [
        "#### DecisionTreeRegressor"
      ]
    },
    {
      "cell_type": "code",
      "execution_count": 67,
      "metadata": {
        "scrolled": false,
        "colab": {
          "base_uri": "https://localhost:8080/",
          "height": 104
        },
        "id": "BfOpFfD5dAk0",
        "outputId": "989b1ca9-169c-43e6-9f69-3b9dfb7caf39"
      },
      "outputs": [
        {
          "output_type": "display_data",
          "data": {
            "text/plain": [
              "'Лучшая модель : DecisionTreeRegressor(max_depth=6, max_features=5, min_samples_leaf=9,\\n                      min_samples_split=5, random_state=42)'"
            ]
          },
          "metadata": {}
        },
        {
          "output_type": "display_data",
          "data": {
            "text/plain": [
              "2376.6925708063004"
            ]
          },
          "metadata": {}
        },
        {
          "output_type": "stream",
          "name": "stdout",
          "text": [
            "CPU times: total: 469 ms\n",
            "Wall time: 1.22 s\n"
          ]
        }
      ],
      "source": [
        "%%time\n",
        "param_grid = [{\n",
        "        'models': [DecisionTreeRegressor(random_state=RANDOM_STATE)],\n",
        "        'models__max_depth': range(6,7),\n",
        "        'models__max_features': range(5,6),\n",
        "        'models__min_samples_split': range(5,6),\n",
        "        'models__min_samples_leaf': range(9,10),\n",
        "        'preprocessor__num': [ MinMaxScaler(), 'passthrough']\n",
        "}]\n",
        "\n",
        "randomized_search = RandomizedSearchCV(\n",
        "    pipe_final,\n",
        "    param_grid,\n",
        "    cv=2,\n",
        "    scoring='neg_root_mean_squared_error',\n",
        "    n_jobs=-1,\n",
        "    error_score='raise',\n",
        "    random_state=RANDOM_STATE\n",
        ")\n",
        "# игнорируем сообщения перед обучением\n",
        "warnings.filterwarnings('ignore')\n",
        "\n",
        "# обучим модель с учителем\n",
        "randomized_search.fit(features_train, target_train)\n",
        "\n",
        "best_model = randomized_search.best_estimator_.named_steps['models']\n",
        "display(f'Лучшая модель : {best_model}')\n",
        "\n",
        "# попробуем предсказать\n",
        "y_pred = randomized_search.best_estimator_.predict(features_valid)\n",
        "\n",
        "# расчитаем метрику RMSE\n",
        "display(mean_squared_error(target_valid, y_pred, squared=False))\n"
      ]
    },
    {
      "cell_type": "markdown",
      "metadata": {
        "id": "w5hBrAhAdAk0"
      },
      "source": [
        "#### CatBoostRegressor"
      ]
    },
    {
      "cell_type": "code",
      "execution_count": 68,
      "metadata": {
        "scrolled": true,
        "colab": {
          "base_uri": "https://localhost:8080/",
          "height": 86
        },
        "id": "mjr7iM_BdAk0",
        "outputId": "e0d897cb-22ff-40cd-c01d-f57a2c382525"
      },
      "outputs": [
        {
          "output_type": "display_data",
          "data": {
            "text/plain": [
              "'Лучшая модель : <catboost.core.CatBoostRegressor object at 0x000001F1CA5F2750>'"
            ]
          },
          "metadata": {}
        },
        {
          "output_type": "display_data",
          "data": {
            "text/plain": [
              "2181.9539747866124"
            ]
          },
          "metadata": {}
        },
        {
          "output_type": "stream",
          "name": "stdout",
          "text": [
            "CPU times: total: 781 ms\n",
            "Wall time: 2.41 s\n"
          ]
        }
      ],
      "source": [
        "%%time\n",
        "param_grid = [\n",
        "    {\n",
        "        'models': [CatBoostRegressor(silent=True, iterations=5) ],\n",
        "        'preprocessor__num': [MinMaxScaler(), 'passthrough']\n",
        "    }\n",
        "]\n",
        "\n",
        "randomized_search = RandomizedSearchCV(\n",
        "    pipe_final,\n",
        "    param_grid,\n",
        "    cv=2,\n",
        "    scoring='neg_root_mean_squared_error',\n",
        "    n_jobs=-1,\n",
        "    error_score='raise',\n",
        "    random_state=RANDOM_STATE\n",
        ")\n",
        "# обучим модель с учителем y\n",
        "randomized_search.fit(features_train, target_train)\n",
        "best_model = randomized_search.best_estimator_.named_steps['models']\n",
        "display(f'Лучшая модель : {best_model}')\n",
        "# попробуем предсказать\n",
        "y_pred = randomized_search.best_estimator_.predict(features_valid)\n",
        "display(mean_squared_error(target_valid, y_pred, squared=False))"
      ]
    },
    {
      "cell_type": "markdown",
      "metadata": {
        "id": "Jk1-Edi1dAk0"
      },
      "source": [
        "#### LGBMRegressor"
      ]
    },
    {
      "cell_type": "code",
      "execution_count": 69,
      "metadata": {
        "colab": {
          "base_uri": "https://localhost:8080/",
          "height": 191
        },
        "id": "i59bPwjLdAk0",
        "outputId": "1aabc25e-a471-4361-c8e1-600297c1c3d6"
      },
      "outputs": [
        {
          "output_type": "stream",
          "name": "stdout",
          "text": [
            "[LightGBM] [Info] Auto-choosing row-wise multi-threading, the overhead of testing was 0.004785 seconds.\n",
            "You can set `force_row_wise=true` to remove the overhead.\n",
            "And if memory is not enough, you can set `force_col_wise=true`.\n",
            "[LightGBM] [Info] Total Bins 574\n",
            "[LightGBM] [Info] Number of data points in the train set: 192058, number of used features: 10\n",
            "[LightGBM] [Info] Start training from score 4531.742635\n"
          ]
        },
        {
          "output_type": "display_data",
          "data": {
            "text/plain": [
              "'Лучшая модель : LGBMRegressor(max_depth=23, num_leaves=23)'"
            ]
          },
          "metadata": {}
        },
        {
          "output_type": "display_data",
          "data": {
            "text/plain": [
              "1789.2556141204886"
            ]
          },
          "metadata": {}
        },
        {
          "output_type": "stream",
          "name": "stdout",
          "text": [
            "CPU times: total: 3.83 s\n",
            "Wall time: 4.64 s\n"
          ]
        }
      ],
      "source": [
        "%%time\n",
        "param_grid = [\n",
        "    {\n",
        "        'models': [LGBMRegressor()],\n",
        "        'models__num_leaves': range(23,24),\n",
        "        'models__max_depth': range(23,24),\n",
        "        'preprocessor__num': [ MinMaxScaler(), 'passthrough']\n",
        "    }\n",
        "]\n",
        "\n",
        "randomized_search = RandomizedSearchCV(\n",
        "    pipe_final,\n",
        "    param_grid,\n",
        "    cv=10,\n",
        "    scoring='neg_root_mean_squared_error',\n",
        "    n_jobs=-1,\n",
        "    error_score='raise',\n",
        "    random_state=RANDOM_STATE\n",
        ")\n",
        "\n",
        "randomized_search.fit(features_train, target_train)\n",
        "best_model = randomized_search.best_estimator_.named_steps['models']\n",
        "display(f'Лучшая модель : {best_model}')\n",
        "y_pred = randomized_search.best_estimator_.predict(features_valid)\n",
        "display(mean_squared_error(target_valid, y_pred, squared=False))"
      ]
    },
    {
      "cell_type": "markdown",
      "metadata": {
        "id": "YoYDkObhdAk1"
      },
      "source": [
        "## Анализ моделей"
      ]
    },
    {
      "cell_type": "markdown",
      "metadata": {
        "id": "DG4ZIp3FdAk1"
      },
      "source": [
        "### Время DecisionTreeRegressor"
      ]
    },
    {
      "cell_type": "markdown",
      "metadata": {
        "id": "331Q9m5jdAk1"
      },
      "source": [
        "•\tПовторно натренируем модель на летучих параметрах и проведём анализ качества"
      ]
    },
    {
      "cell_type": "code",
      "execution_count": 70,
      "metadata": {
        "colab": {
          "base_uri": "https://localhost:8080/",
          "height": 104
        },
        "id": "WmALG9QEdAk1",
        "outputId": "e80f0469-c6a7-4206-c0c9-0a79c615f96a"
      },
      "outputs": [
        {
          "output_type": "display_data",
          "data": {
            "text/plain": [
              "'Время работы fit: 0.07442903518676758'"
            ]
          },
          "metadata": {}
        },
        {
          "output_type": "display_data",
          "data": {
            "text/plain": [
              "'Время работы predict: 0.0029973983764648438'"
            ]
          },
          "metadata": {}
        },
        {
          "output_type": "display_data",
          "data": {
            "text/plain": [
              "2376.683310051152"
            ]
          },
          "metadata": {}
        },
        {
          "output_type": "display_data",
          "data": {
            "text/plain": [
              "'SMAPE на кросс-валидации :2434.9271495793487'"
            ]
          },
          "metadata": {}
        },
        {
          "output_type": "display_data",
          "data": {
            "text/plain": [
              "'Время работы кросс-валидации: 0.11438679695129395'"
            ]
          },
          "metadata": {}
        }
      ],
      "source": [
        "# трансформируем тренировочные и тестовые данные\n",
        "\n",
        "X_train = data_preprocessor.transform(features_train)\n",
        "X_valid = data_preprocessor.transform(features_valid)\n",
        "\n",
        "model = DecisionTreeRegressor(max_depth=6,\n",
        "                              max_features=5,\n",
        "                              min_samples_leaf=9,\n",
        "                              min_samples_split=5,\n",
        "                              random_state=42)\n",
        "# фиксируем время старта работы кода\n",
        "start = time.time()\n",
        "model.fit(X_train,target_train)\n",
        "display('Время работы fit: ' + str(time.time() - start))\n",
        "# фиксируем время старта работы кода\n",
        "start = time.time()\n",
        "y_pred = model.predict(X_valid)\n",
        "display('Время работы predict: ' + str(time.time() - start))\n",
        "display(mean_squared_error(target_valid, y_pred, squared=False))\n",
        "# фиксируем время старта работы кода\n",
        "start = time.time()\n",
        "display(f'SMAPE на кросс-валидации :{cross_val_score(model,X_valid,target_valid,cv=5,scoring = \"neg_root_mean_squared_error\").mean()*-1}')\n",
        "display('Время работы кросс-валидации: ' + str(time.time() - start))"
      ]
    },
    {
      "cell_type": "markdown",
      "metadata": {
        "id": "CdmNhyV6dAk1"
      },
      "source": [
        "### Время CatBoostRegressor"
      ]
    },
    {
      "cell_type": "markdown",
      "metadata": {
        "id": "PjyHf3-1dAk1"
      },
      "source": [
        "•\tПовторно натренируем модель и проведём анализ качества"
      ]
    },
    {
      "cell_type": "code",
      "execution_count": 71,
      "metadata": {
        "colab": {
          "base_uri": "https://localhost:8080/",
          "height": 104
        },
        "id": "ZxJWe9B4dAk1",
        "outputId": "c1ae86c4-1420-4560-da34-7bf912d17d30"
      },
      "outputs": [
        {
          "output_type": "display_data",
          "data": {
            "text/plain": [
              "'Время работы fit: 0.2964186668395996'"
            ]
          },
          "metadata": {}
        },
        {
          "output_type": "display_data",
          "data": {
            "text/plain": [
              "'Время работы predict: 0.07352542877197266'"
            ]
          },
          "metadata": {}
        },
        {
          "output_type": "display_data",
          "data": {
            "text/plain": [
              "2171.170626611968"
            ]
          },
          "metadata": {}
        },
        {
          "output_type": "display_data",
          "data": {
            "text/plain": [
              "'SMAPE на кросс-валидации :2209.514831549228'"
            ]
          },
          "metadata": {}
        },
        {
          "output_type": "display_data",
          "data": {
            "text/plain": [
              "'Время работы кросс-валидации: 0.6198382377624512'"
            ]
          },
          "metadata": {}
        }
      ],
      "source": [
        "# трансформируем тренировочные и тестовые данные\n",
        "X_train = data_preprocessor.transform(features_train)\n",
        "X_valid = data_preprocessor.transform(features_valid)\n",
        "\n",
        "model = CatBoostRegressor(silent=True, iterations=5)\n",
        "# фиксируем время старта работы кода\n",
        "start = time.time()\n",
        "model.fit(X_train,target_train)\n",
        "display('Время работы fit: ' + str(time.time() - start))\n",
        "# фиксируем время старта работы кода\n",
        "start = time.time()\n",
        "y_pred = model.predict(X_valid)\n",
        "display('Время работы predict: ' + str(time.time() - start))\n",
        "display(mean_squared_error(target_valid, y_pred, squared=False))\n",
        "# фиксируем время старта работы кода\n",
        "start = time.time()\n",
        "display(f'SMAPE на кросс-валидации :{cross_val_score(model,X_valid,target_valid,cv=5,scoring = \"neg_root_mean_squared_error\").mean()*-1}')\n",
        "display('Время работы кросс-валидации: ' + str(time.time() - start))"
      ]
    },
    {
      "cell_type": "markdown",
      "metadata": {
        "id": "k7S6yMrgdAk1"
      },
      "source": [
        "### Время LGBMRegressor"
      ]
    },
    {
      "cell_type": "markdown",
      "metadata": {
        "id": "hcETMOgHdAk1"
      },
      "source": [
        "•\tПовторно натренируем модель на летучих параметрах и проведём анализ качествен"
      ]
    },
    {
      "cell_type": "code",
      "execution_count": 72,
      "metadata": {
        "scrolled": false,
        "colab": {
          "base_uri": "https://localhost:8080/",
          "height": 729
        },
        "id": "taOdNTJGdAk1",
        "outputId": "f9758b5b-3cec-44a7-d984-ee342d58cac7"
      },
      "outputs": [
        {
          "output_type": "stream",
          "name": "stdout",
          "text": [
            "[LightGBM] [Info] Auto-choosing row-wise multi-threading, the overhead of testing was 0.002655 seconds.\n",
            "You can set `force_row_wise=true` to remove the overhead.\n",
            "And if memory is not enough, you can set `force_col_wise=true`.\n",
            "[LightGBM] [Info] Total Bins 572\n",
            "[LightGBM] [Info] Number of data points in the train set: 192058, number of used features: 10\n",
            "[LightGBM] [Info] Start training from score 4531.742635\n"
          ]
        },
        {
          "output_type": "display_data",
          "data": {
            "text/plain": [
              "'Время работы fit: 0.19045376777648926'"
            ]
          },
          "metadata": {}
        },
        {
          "output_type": "display_data",
          "data": {
            "text/plain": [
              "'Время работы predict: 0.01500082015991211'"
            ]
          },
          "metadata": {}
        },
        {
          "output_type": "display_data",
          "data": {
            "text/plain": [
              "1783.8872865540573"
            ]
          },
          "metadata": {}
        },
        {
          "output_type": "stream",
          "name": "stdout",
          "text": [
            "[LightGBM] [Info] Auto-choosing row-wise multi-threading, the overhead of testing was 0.000938 seconds.\n",
            "You can set `force_row_wise=true` to remove the overhead.\n",
            "And if memory is not enough, you can set `force_col_wise=true`.\n",
            "[LightGBM] [Info] Total Bins 559\n",
            "[LightGBM] [Info] Number of data points in the train set: 51216, number of used features: 10\n",
            "[LightGBM] [Info] Start training from score 4503.708470\n",
            "[LightGBM] [Info] Auto-choosing row-wise multi-threading, the overhead of testing was 0.000693 seconds.\n",
            "You can set `force_row_wise=true` to remove the overhead.\n",
            "And if memory is not enough, you can set `force_col_wise=true`.\n",
            "[LightGBM] [Info] Total Bins 552\n",
            "[LightGBM] [Info] Number of data points in the train set: 51216, number of used features: 10\n",
            "[LightGBM] [Info] Start training from score 4516.633630\n",
            "[LightGBM] [Info] Auto-choosing row-wise multi-threading, the overhead of testing was 0.001134 seconds.\n",
            "You can set `force_row_wise=true` to remove the overhead.\n",
            "And if memory is not enough, you can set `force_col_wise=true`.\n",
            "[LightGBM] [Info] Total Bins 552\n",
            "[LightGBM] [Info] Number of data points in the train set: 51216, number of used features: 10\n",
            "[LightGBM] [Info] Start training from score 4507.388980\n",
            "[LightGBM] [Info] Auto-choosing row-wise multi-threading, the overhead of testing was 0.001093 seconds.\n",
            "You can set `force_row_wise=true` to remove the overhead.\n",
            "And if memory is not enough, you can set `force_col_wise=true`.\n",
            "[LightGBM] [Info] Total Bins 554\n",
            "[LightGBM] [Info] Number of data points in the train set: 51216, number of used features: 10\n",
            "[LightGBM] [Info] Start training from score 4513.138277\n",
            "[LightGBM] [Info] Auto-choosing row-wise multi-threading, the overhead of testing was 0.000972 seconds.\n",
            "You can set `force_row_wise=true` to remove the overhead.\n",
            "And if memory is not enough, you can set `force_col_wise=true`.\n",
            "[LightGBM] [Info] Total Bins 558\n",
            "[LightGBM] [Info] Number of data points in the train set: 51216, number of used features: 10\n",
            "[LightGBM] [Info] Start training from score 4519.720849\n"
          ]
        },
        {
          "output_type": "display_data",
          "data": {
            "text/plain": [
              "'SMAPE на кросс-валидации :1808.356050121536'"
            ]
          },
          "metadata": {}
        },
        {
          "output_type": "display_data",
          "data": {
            "text/plain": [
              "'Время работы кросс-валидации: 0.4597764015197754'"
            ]
          },
          "metadata": {}
        }
      ],
      "source": [
        "# трансформируем тренировочные и тестовые данные\n",
        "\n",
        "X_train = data_preprocessor.transform(features_train)\n",
        "X_valid = data_preprocessor.transform(features_valid)\n",
        "\n",
        "model = LGBMRegressor(num_leaves = 24, max_depth = 24)\n",
        "# фиксируем время старта работы кода\n",
        "start = time.time()\n",
        "model.fit(X_train,target_train)\n",
        "display('Время работы fit: ' + str(time.time() - start))\n",
        "# фиксируем время старта работы кода\n",
        "start = time.time()\n",
        "y_pred = model.predict(X_valid)\n",
        "display('Время работы predict: ' + str(time.time() - start))\n",
        "display(mean_squared_error(target_valid, y_pred, squared=False))\n",
        "# фиксируем время старта работы кода\n",
        "start = time.time()\n",
        "display(f'SMAPE на кросс-валидации :{cross_val_score(model,X_valid,target_valid,cv=5,scoring = \"neg_root_mean_squared_error\").mean()*-1}')\n",
        "display('Время работы кросс-валидации: ' + str(time.time() - start))"
      ]
    },
    {
      "cell_type": "markdown",
      "metadata": {
        "id": "IpnVDzdgdAk2"
      },
      "source": [
        "### Тест лучей модели"
      ]
    },
    {
      "cell_type": "code",
      "execution_count": 73,
      "metadata": {
        "colab": {
          "base_uri": "https://localhost:8080/",
          "height": 52
        },
        "id": "ZfAL9kOAdAk2",
        "outputId": "4aa2dbe8-35b5-40db-9d55-eb89d11e6067"
      },
      "outputs": [
        {
          "output_type": "display_data",
          "data": {
            "text/plain": [
              "'Время работы predict: 0.0189971923828125'"
            ]
          },
          "metadata": {}
        },
        {
          "output_type": "display_data",
          "data": {
            "text/plain": [
              "1773.1318324211827"
            ]
          },
          "metadata": {}
        }
      ],
      "source": [
        "# набор данных извлечённый из df перед обучением моделий\n",
        "#(см. Pipeline)\n",
        "\n",
        "X_valid = data_preprocessor.transform(test_features_valid)\n",
        "\n",
        "# фиксируем время старта работы кода\n",
        "start = time.time()\n",
        "y_pred = model.predict(X_valid)\n",
        "display('Время работы predict: ' + str(time.time() - start))\n",
        "display(mean_squared_error(test_valid, y_pred, squared=False))"
      ]
    },
    {
      "cell_type": "markdown",
      "metadata": {
        "id": "Lk6QfpW6dAk2"
      },
      "source": [
        "**Вывод:**\n",
        "\n",
        "\n",
        "* **Здесь представлено решение, которое опробовало несколько моделей предсказание стоимости автомобиля**\n",
        "\n",
        "- была представлена информация о 354368 автомобилей об их характеристиках и рыночной стоимости.\n",
        "\n",
        "- данные небыли корректны  и были пропуски.\n",
        "\n",
        "- часть данных была удалена часть дополнена.\n",
        "\n",
        "- для поиска лучшей модели использовал конвейер Pipeline который позволил автоматизировать действия по подготовке данных, обучению моделей и оценке их качества.\n",
        "                   \n",
        "* **В итоге можно порекомендовать модель LGBMRegressor у неё самый лутчий показатель точности и приемлемая скорость.**\n"
      ]
    },
    {
      "cell_type": "code",
      "execution_count": 74,
      "metadata": {
        "colab": {
          "base_uri": "https://localhost:8080/"
        },
        "id": "s6mlf2hZdAk3",
        "outputId": "42f9affe-8626-4bc6-9597-c61eb6c20ef9"
      },
      "outputs": [
        {
          "output_type": "execute_result",
          "data": {
            "text/plain": [
              "'end'"
            ]
          },
          "metadata": {},
          "execution_count": 74
        }
      ],
      "source": [
        "'end'"
      ]
    }
  ],
  "metadata": {
    "ExecuteTimeLog": [
      {
        "duration": 401,
        "start_time": "2024-04-19T06:34:44.676Z"
      },
      {
        "duration": 5,
        "start_time": "2024-04-19T06:35:29.229Z"
      },
      {
        "duration": 80,
        "start_time": "2024-04-19T06:35:45.149Z"
      },
      {
        "duration": 5,
        "start_time": "2024-04-19T06:35:50.683Z"
      },
      {
        "duration": 2,
        "start_time": "2024-04-19T06:35:54.394Z"
      },
      {
        "duration": 7,
        "start_time": "2024-04-19T06:35:57.495Z"
      },
      {
        "duration": 9,
        "start_time": "2024-04-19T06:36:44.667Z"
      },
      {
        "duration": 4,
        "start_time": "2024-04-19T06:37:18.476Z"
      },
      {
        "duration": 21,
        "start_time": "2024-04-19T06:37:22.696Z"
      },
      {
        "duration": 254,
        "start_time": "2024-04-19T06:37:27.346Z"
      },
      {
        "duration": 3094,
        "start_time": "2024-04-19T06:40:59.253Z"
      },
      {
        "duration": 5,
        "start_time": "2024-04-19T06:42:58.841Z"
      },
      {
        "duration": 3,
        "start_time": "2024-04-19T06:43:08.160Z"
      },
      {
        "duration": 4,
        "start_time": "2024-04-19T06:45:51.825Z"
      },
      {
        "duration": 4,
        "start_time": "2024-04-19T06:46:14.562Z"
      },
      {
        "duration": 7,
        "start_time": "2024-04-19T06:47:23.847Z"
      },
      {
        "duration": 8,
        "start_time": "2024-04-19T06:50:21.736Z"
      },
      {
        "duration": 4,
        "start_time": "2024-04-19T06:50:33.022Z"
      },
      {
        "duration": 17,
        "start_time": "2024-04-19T06:52:43.954Z"
      },
      {
        "duration": 5,
        "start_time": "2024-04-19T06:53:12.502Z"
      },
      {
        "duration": 17,
        "start_time": "2024-04-19T06:53:27.833Z"
      },
      {
        "duration": 10,
        "start_time": "2024-04-19T06:53:35.112Z"
      },
      {
        "duration": 17,
        "start_time": "2024-04-19T06:53:52.806Z"
      },
      {
        "duration": 9,
        "start_time": "2024-04-19T06:53:57.742Z"
      },
      {
        "duration": 18,
        "start_time": "2024-04-19T07:00:32.784Z"
      },
      {
        "duration": 10,
        "start_time": "2024-04-19T07:00:37.158Z"
      },
      {
        "duration": 457,
        "start_time": "2024-04-19T07:01:08.665Z"
      },
      {
        "duration": 443,
        "start_time": "2024-04-19T07:01:17.995Z"
      },
      {
        "duration": 360,
        "start_time": "2024-04-19T07:02:45.424Z"
      },
      {
        "duration": 17,
        "start_time": "2024-04-19T07:03:21.212Z"
      },
      {
        "duration": 1502,
        "start_time": "2024-04-19T07:03:25.269Z"
      },
      {
        "duration": 17,
        "start_time": "2024-04-19T07:03:49.615Z"
      },
      {
        "duration": 1516,
        "start_time": "2024-04-19T07:03:53.957Z"
      },
      {
        "duration": 18,
        "start_time": "2024-04-19T07:08:27.885Z"
      },
      {
        "duration": 673,
        "start_time": "2024-04-19T07:08:40.296Z"
      },
      {
        "duration": 18,
        "start_time": "2024-04-19T07:09:19.628Z"
      },
      {
        "duration": 1351,
        "start_time": "2024-04-19T07:09:28.249Z"
      },
      {
        "duration": 17,
        "start_time": "2024-04-19T07:11:48.495Z"
      },
      {
        "duration": 17,
        "start_time": "2024-04-19T07:12:55.316Z"
      },
      {
        "duration": 375,
        "start_time": "2024-04-19T07:13:00.739Z"
      },
      {
        "duration": 17,
        "start_time": "2024-04-19T07:16:07.099Z"
      },
      {
        "duration": 373,
        "start_time": "2024-04-19T07:16:11.825Z"
      },
      {
        "duration": 18,
        "start_time": "2024-04-19T07:18:00.520Z"
      },
      {
        "duration": 352,
        "start_time": "2024-04-19T07:18:07.986Z"
      },
      {
        "duration": 17,
        "start_time": "2024-04-19T07:18:38.319Z"
      },
      {
        "duration": 469,
        "start_time": "2024-04-19T07:18:43.579Z"
      },
      {
        "duration": 17,
        "start_time": "2024-04-19T07:19:08.058Z"
      },
      {
        "duration": 212,
        "start_time": "2024-04-19T07:19:13.974Z"
      },
      {
        "duration": 18,
        "start_time": "2024-04-19T07:22:58.696Z"
      },
      {
        "duration": 17,
        "start_time": "2024-04-19T07:23:23.581Z"
      },
      {
        "duration": 27761,
        "start_time": "2024-04-19T07:23:26.278Z"
      },
      {
        "duration": 17,
        "start_time": "2024-04-19T07:25:51.891Z"
      },
      {
        "duration": 3434,
        "start_time": "2024-04-19T07:25:59.199Z"
      },
      {
        "duration": 17,
        "start_time": "2024-04-19T07:26:28.839Z"
      },
      {
        "duration": 232,
        "start_time": "2024-04-19T07:26:32.078Z"
      },
      {
        "duration": 17,
        "start_time": "2024-04-19T07:26:47.427Z"
      },
      {
        "duration": 200,
        "start_time": "2024-04-19T07:26:54.529Z"
      },
      {
        "duration": 17,
        "start_time": "2024-04-19T07:27:29.270Z"
      },
      {
        "duration": 3463,
        "start_time": "2024-04-19T07:27:34.068Z"
      },
      {
        "duration": 19,
        "start_time": "2024-04-19T07:28:38.064Z"
      },
      {
        "duration": 2259,
        "start_time": "2024-04-19T07:28:40.877Z"
      },
      {
        "duration": 17,
        "start_time": "2024-04-19T07:31:45.001Z"
      },
      {
        "duration": 2098,
        "start_time": "2024-04-19T07:31:50.444Z"
      },
      {
        "duration": 17,
        "start_time": "2024-04-19T07:32:26.700Z"
      },
      {
        "duration": 2376,
        "start_time": "2024-04-19T07:32:32.028Z"
      },
      {
        "duration": 4439,
        "start_time": "2024-04-19T08:26:57.769Z"
      },
      {
        "duration": 70,
        "start_time": "2024-04-19T08:28:40.386Z"
      },
      {
        "duration": 1239,
        "start_time": "2024-04-19T08:46:03.730Z"
      },
      {
        "duration": 3502,
        "start_time": "2024-04-19T08:46:31.979Z"
      },
      {
        "duration": 18,
        "start_time": "2024-04-19T08:46:35.484Z"
      },
      {
        "duration": 3037,
        "start_time": "2024-04-19T08:46:35.504Z"
      },
      {
        "duration": 5,
        "start_time": "2024-04-19T08:46:38.543Z"
      },
      {
        "duration": 2403,
        "start_time": "2024-04-19T08:46:38.549Z"
      },
      {
        "duration": 2042,
        "start_time": "2024-04-19T08:46:40.953Z"
      },
      {
        "duration": 1003,
        "start_time": "2024-04-19T10:46:10.189Z"
      },
      {
        "duration": 8,
        "start_time": "2024-04-19T10:46:30.335Z"
      },
      {
        "duration": 2858,
        "start_time": "2024-04-19T10:46:39.903Z"
      },
      {
        "duration": 19,
        "start_time": "2024-04-19T10:46:42.764Z"
      },
      {
        "duration": 3056,
        "start_time": "2024-04-19T10:46:42.785Z"
      },
      {
        "duration": 4,
        "start_time": "2024-04-19T10:46:45.843Z"
      },
      {
        "duration": 2544,
        "start_time": "2024-04-19T10:46:45.848Z"
      },
      {
        "duration": 2386,
        "start_time": "2024-04-19T10:47:06.215Z"
      },
      {
        "duration": 18,
        "start_time": "2024-04-19T10:47:08.603Z"
      },
      {
        "duration": 1068,
        "start_time": "2024-04-19T10:47:08.622Z"
      },
      {
        "duration": 4,
        "start_time": "2024-04-19T10:47:09.692Z"
      },
      {
        "duration": 2463,
        "start_time": "2024-04-19T10:47:09.697Z"
      },
      {
        "duration": 188,
        "start_time": "2024-04-19T10:47:15.444Z"
      },
      {
        "duration": 58,
        "start_time": "2024-04-19T10:47:37.244Z"
      },
      {
        "duration": 2,
        "start_time": "2024-04-19T11:01:14.315Z"
      },
      {
        "duration": 3,
        "start_time": "2024-04-19T11:07:23.646Z"
      },
      {
        "duration": 65,
        "start_time": "2024-04-19T11:39:38.283Z"
      },
      {
        "duration": 2151,
        "start_time": "2024-04-19T11:39:44.267Z"
      },
      {
        "duration": 225,
        "start_time": "2024-04-19T11:59:35.471Z"
      },
      {
        "duration": 95,
        "start_time": "2024-04-19T11:59:53.102Z"
      },
      {
        "duration": 2734,
        "start_time": "2024-04-19T12:00:01.173Z"
      },
      {
        "duration": 13,
        "start_time": "2024-04-19T12:07:57.046Z"
      },
      {
        "duration": 8,
        "start_time": "2024-04-19T12:15:24.389Z"
      },
      {
        "duration": 8,
        "start_time": "2024-04-19T12:15:36.494Z"
      },
      {
        "duration": 47,
        "start_time": "2024-04-19T12:15:49.258Z"
      },
      {
        "duration": 8,
        "start_time": "2024-04-19T12:16:17.975Z"
      },
      {
        "duration": 0,
        "start_time": "2024-04-19T12:16:17.985Z"
      },
      {
        "duration": 0,
        "start_time": "2024-04-19T12:16:17.986Z"
      },
      {
        "duration": 0,
        "start_time": "2024-04-19T12:16:17.987Z"
      },
      {
        "duration": 0,
        "start_time": "2024-04-19T12:16:17.988Z"
      },
      {
        "duration": 1657,
        "start_time": "2024-04-19T12:16:17.998Z"
      },
      {
        "duration": 44,
        "start_time": "2024-04-19T12:16:35.084Z"
      },
      {
        "duration": 2361,
        "start_time": "2024-04-19T12:16:47.973Z"
      },
      {
        "duration": 19,
        "start_time": "2024-04-19T12:16:50.336Z"
      },
      {
        "duration": 54,
        "start_time": "2024-04-19T12:16:50.356Z"
      },
      {
        "duration": 14,
        "start_time": "2024-04-19T12:17:13.554Z"
      },
      {
        "duration": 925,
        "start_time": "2024-04-19T12:17:23.323Z"
      },
      {
        "duration": 9,
        "start_time": "2024-04-19T12:17:27.263Z"
      },
      {
        "duration": 8,
        "start_time": "2024-04-19T12:17:46.374Z"
      },
      {
        "duration": 3,
        "start_time": "2024-04-19T12:20:56.490Z"
      },
      {
        "duration": 5,
        "start_time": "2024-04-19T12:21:17.704Z"
      },
      {
        "duration": 975,
        "start_time": "2024-04-19T12:21:35.652Z"
      },
      {
        "duration": 249,
        "start_time": "2024-04-19T12:22:06.811Z"
      },
      {
        "duration": 40,
        "start_time": "2024-04-19T12:22:28.659Z"
      },
      {
        "duration": 107,
        "start_time": "2024-04-19T12:23:04.953Z"
      },
      {
        "duration": 6,
        "start_time": "2024-04-19T12:23:25.018Z"
      },
      {
        "duration": 5,
        "start_time": "2024-04-19T12:23:31.204Z"
      },
      {
        "duration": 9,
        "start_time": "2024-04-19T12:24:21.373Z"
      },
      {
        "duration": 67,
        "start_time": "2024-04-19T12:28:15.436Z"
      },
      {
        "duration": 14,
        "start_time": "2024-04-19T12:28:31.733Z"
      },
      {
        "duration": 10,
        "start_time": "2024-04-19T12:28:51.118Z"
      },
      {
        "duration": 5,
        "start_time": "2024-04-19T12:29:00.505Z"
      },
      {
        "duration": 6,
        "start_time": "2024-04-19T12:29:44.764Z"
      },
      {
        "duration": 5,
        "start_time": "2024-04-19T12:29:59.197Z"
      },
      {
        "duration": 7,
        "start_time": "2024-04-19T12:30:09.675Z"
      },
      {
        "duration": 9,
        "start_time": "2024-04-19T12:30:30.289Z"
      },
      {
        "duration": 8,
        "start_time": "2024-04-19T12:30:42.451Z"
      },
      {
        "duration": 8,
        "start_time": "2024-04-19T12:30:49.277Z"
      },
      {
        "duration": 5,
        "start_time": "2024-04-19T12:30:59.256Z"
      },
      {
        "duration": 15,
        "start_time": "2024-04-19T12:42:04.563Z"
      },
      {
        "duration": 13,
        "start_time": "2024-04-19T12:42:44.753Z"
      },
      {
        "duration": 27,
        "start_time": "2024-04-19T12:44:10.426Z"
      },
      {
        "duration": 6,
        "start_time": "2024-04-19T12:45:28.302Z"
      },
      {
        "duration": 18,
        "start_time": "2024-04-19T12:46:14.362Z"
      },
      {
        "duration": 35,
        "start_time": "2024-04-19T12:46:55.102Z"
      },
      {
        "duration": 24,
        "start_time": "2024-04-19T12:48:30.479Z"
      },
      {
        "duration": 25,
        "start_time": "2024-04-19T12:48:41.678Z"
      },
      {
        "duration": 64,
        "start_time": "2024-04-19T12:49:03.069Z"
      },
      {
        "duration": 23,
        "start_time": "2024-04-19T12:51:37.830Z"
      },
      {
        "duration": 19,
        "start_time": "2024-04-19T12:51:51.979Z"
      },
      {
        "duration": 10,
        "start_time": "2024-04-19T12:52:51.471Z"
      },
      {
        "duration": 21,
        "start_time": "2024-04-19T12:53:27.020Z"
      },
      {
        "duration": 18,
        "start_time": "2024-04-19T12:53:31.949Z"
      },
      {
        "duration": 18,
        "start_time": "2024-04-19T12:53:43.129Z"
      },
      {
        "duration": 5,
        "start_time": "2024-04-19T12:54:42.781Z"
      },
      {
        "duration": 20,
        "start_time": "2024-04-19T12:55:32.861Z"
      },
      {
        "duration": 11,
        "start_time": "2024-04-19T12:56:47.015Z"
      },
      {
        "duration": 11,
        "start_time": "2024-04-19T12:57:49.655Z"
      },
      {
        "duration": 59,
        "start_time": "2024-04-19T12:58:51.406Z"
      },
      {
        "duration": 9,
        "start_time": "2024-04-19T12:58:56.361Z"
      },
      {
        "duration": 35,
        "start_time": "2024-04-19T13:00:08.210Z"
      },
      {
        "duration": 1037,
        "start_time": "2024-04-19T13:02:07.941Z"
      },
      {
        "duration": 17,
        "start_time": "2024-04-19T13:02:16.900Z"
      },
      {
        "duration": 31,
        "start_time": "2024-04-19T13:02:55.061Z"
      },
      {
        "duration": 3,
        "start_time": "2024-04-19T13:04:02.131Z"
      },
      {
        "duration": 886,
        "start_time": "2024-04-19T13:04:05.530Z"
      },
      {
        "duration": 70,
        "start_time": "2024-04-19T13:05:04.779Z"
      },
      {
        "duration": 69,
        "start_time": "2024-04-19T13:05:17.540Z"
      },
      {
        "duration": 4,
        "start_time": "2024-04-19T13:05:53.551Z"
      },
      {
        "duration": 9,
        "start_time": "2024-04-19T13:06:18.920Z"
      },
      {
        "duration": 10,
        "start_time": "2024-04-19T13:06:40.790Z"
      },
      {
        "duration": 14,
        "start_time": "2024-04-19T13:06:54.521Z"
      },
      {
        "duration": 18,
        "start_time": "2024-04-19T13:07:55.649Z"
      },
      {
        "duration": 382,
        "start_time": "2024-04-19T13:10:04.115Z"
      },
      {
        "duration": 10,
        "start_time": "2024-04-19T13:16:38.366Z"
      },
      {
        "duration": 8,
        "start_time": "2024-04-19T13:16:54.077Z"
      },
      {
        "duration": 9,
        "start_time": "2024-04-19T13:17:15.830Z"
      },
      {
        "duration": 27,
        "start_time": "2024-04-19T13:17:31.344Z"
      },
      {
        "duration": 13,
        "start_time": "2024-04-19T13:19:30.094Z"
      },
      {
        "duration": 24,
        "start_time": "2024-04-19T13:20:57.726Z"
      },
      {
        "duration": 14,
        "start_time": "2024-04-19T13:23:04.164Z"
      },
      {
        "duration": 10,
        "start_time": "2024-04-19T13:23:33.295Z"
      },
      {
        "duration": 95,
        "start_time": "2024-04-19T13:23:47.212Z"
      },
      {
        "duration": 10,
        "start_time": "2024-04-19T13:24:00.645Z"
      },
      {
        "duration": 9,
        "start_time": "2024-04-19T13:26:30.903Z"
      },
      {
        "duration": 9,
        "start_time": "2024-04-19T13:26:43.598Z"
      },
      {
        "duration": 10,
        "start_time": "2024-04-19T13:26:52.234Z"
      },
      {
        "duration": 11,
        "start_time": "2024-04-19T13:27:01.744Z"
      },
      {
        "duration": 3,
        "start_time": "2024-04-19T13:29:45.551Z"
      },
      {
        "duration": 85,
        "start_time": "2024-04-19T13:31:12.611Z"
      },
      {
        "duration": 11,
        "start_time": "2024-04-19T13:31:21.851Z"
      },
      {
        "duration": 96,
        "start_time": "2024-04-19T13:31:30.870Z"
      },
      {
        "duration": 11,
        "start_time": "2024-04-19T13:31:44.570Z"
      },
      {
        "duration": 11,
        "start_time": "2024-04-19T13:32:16.692Z"
      },
      {
        "duration": 98,
        "start_time": "2024-04-19T13:33:28.278Z"
      },
      {
        "duration": 27,
        "start_time": "2024-04-19T13:33:39.081Z"
      },
      {
        "duration": 12,
        "start_time": "2024-04-19T13:34:43.379Z"
      },
      {
        "duration": 11,
        "start_time": "2024-04-19T13:36:42.358Z"
      },
      {
        "duration": 75,
        "start_time": "2024-04-19T13:38:18.364Z"
      },
      {
        "duration": 8,
        "start_time": "2024-04-19T13:39:33.661Z"
      },
      {
        "duration": 6,
        "start_time": "2024-04-19T13:39:38.149Z"
      },
      {
        "duration": 18,
        "start_time": "2024-04-19T13:39:46.973Z"
      },
      {
        "duration": 12,
        "start_time": "2024-04-19T13:40:21.301Z"
      },
      {
        "duration": 7,
        "start_time": "2024-04-19T13:40:38.991Z"
      },
      {
        "duration": 17,
        "start_time": "2024-04-19T13:40:43.000Z"
      },
      {
        "duration": 7,
        "start_time": "2024-04-19T13:41:30.801Z"
      },
      {
        "duration": 16,
        "start_time": "2024-04-19T13:41:35.321Z"
      },
      {
        "duration": 69,
        "start_time": "2024-04-19T13:45:04.518Z"
      },
      {
        "duration": 71,
        "start_time": "2024-04-19T13:45:58.598Z"
      },
      {
        "duration": 75,
        "start_time": "2024-04-19T13:47:35.278Z"
      },
      {
        "duration": 335,
        "start_time": "2024-04-19T13:50:24.747Z"
      },
      {
        "duration": 385,
        "start_time": "2024-04-19T13:51:08.397Z"
      },
      {
        "duration": 355,
        "start_time": "2024-04-19T13:51:45.928Z"
      },
      {
        "duration": 899,
        "start_time": "2024-04-19T13:52:32.944Z"
      },
      {
        "duration": 295,
        "start_time": "2024-04-19T13:52:39.358Z"
      },
      {
        "duration": 676,
        "start_time": "2024-04-19T13:53:15.199Z"
      },
      {
        "duration": 67,
        "start_time": "2024-04-19T13:54:58.078Z"
      },
      {
        "duration": 66,
        "start_time": "2024-04-19T13:55:47.956Z"
      },
      {
        "duration": 75,
        "start_time": "2024-04-19T13:56:12.255Z"
      },
      {
        "duration": 68,
        "start_time": "2024-04-19T13:58:11.824Z"
      },
      {
        "duration": 317,
        "start_time": "2024-04-19T13:59:32.684Z"
      },
      {
        "duration": 301,
        "start_time": "2024-04-19T13:59:55.851Z"
      },
      {
        "duration": 90,
        "start_time": "2024-04-19T14:00:13.113Z"
      },
      {
        "duration": 22,
        "start_time": "2024-04-19T14:00:54.526Z"
      },
      {
        "duration": 25,
        "start_time": "2024-04-19T14:01:06.024Z"
      },
      {
        "duration": 1830,
        "start_time": "2024-04-19T14:01:11.905Z"
      },
      {
        "duration": 11,
        "start_time": "2024-04-19T14:18:12.581Z"
      },
      {
        "duration": 74,
        "start_time": "2024-04-19T14:21:41.105Z"
      },
      {
        "duration": 2186,
        "start_time": "2024-04-19T14:22:18.360Z"
      },
      {
        "duration": 1219,
        "start_time": "2024-04-19T14:23:04.539Z"
      },
      {
        "duration": 1213,
        "start_time": "2024-04-19T14:25:39.405Z"
      },
      {
        "duration": 1515,
        "start_time": "2024-04-19T14:30:42.754Z"
      },
      {
        "duration": 2257,
        "start_time": "2024-04-19T14:30:56.210Z"
      },
      {
        "duration": 14,
        "start_time": "2024-04-19T15:52:52.772Z"
      },
      {
        "duration": 52,
        "start_time": "2024-04-19T15:56:53.400Z"
      },
      {
        "duration": 2292,
        "start_time": "2024-04-19T15:57:13.039Z"
      },
      {
        "duration": 2290,
        "start_time": "2024-04-19T15:57:18.830Z"
      },
      {
        "duration": 22,
        "start_time": "2024-04-19T15:57:23.540Z"
      },
      {
        "duration": 2160,
        "start_time": "2024-04-19T16:00:10.171Z"
      },
      {
        "duration": 23,
        "start_time": "2024-04-19T16:00:37.500Z"
      },
      {
        "duration": 9730,
        "start_time": "2024-04-19T16:19:37.560Z"
      },
      {
        "duration": 1929,
        "start_time": "2024-04-19T16:20:21.181Z"
      },
      {
        "duration": 9644,
        "start_time": "2024-04-19T16:20:36.554Z"
      },
      {
        "duration": 5,
        "start_time": "2024-04-19T16:35:18.261Z"
      },
      {
        "duration": 8,
        "start_time": "2024-04-19T16:48:24.339Z"
      },
      {
        "duration": 8,
        "start_time": "2024-04-19T16:48:57.270Z"
      },
      {
        "duration": 8,
        "start_time": "2024-04-19T16:49:23.360Z"
      },
      {
        "duration": 8,
        "start_time": "2024-04-19T16:50:18.130Z"
      },
      {
        "duration": 92,
        "start_time": "2024-04-19T16:57:19.500Z"
      },
      {
        "duration": 55,
        "start_time": "2024-04-19T16:58:49.684Z"
      },
      {
        "duration": 65,
        "start_time": "2024-04-19T16:59:56.101Z"
      },
      {
        "duration": 55,
        "start_time": "2024-04-19T17:00:21.907Z"
      },
      {
        "duration": 56,
        "start_time": "2024-04-19T17:00:50.276Z"
      },
      {
        "duration": 54,
        "start_time": "2024-04-19T17:01:53.189Z"
      },
      {
        "duration": 58,
        "start_time": "2024-04-19T17:02:25.209Z"
      },
      {
        "duration": 67,
        "start_time": "2024-04-19T17:02:45.440Z"
      },
      {
        "duration": 57,
        "start_time": "2024-04-19T17:03:41.583Z"
      },
      {
        "duration": 57,
        "start_time": "2024-04-19T17:05:15.792Z"
      },
      {
        "duration": 68,
        "start_time": "2024-04-19T17:05:31.440Z"
      },
      {
        "duration": 1017,
        "start_time": "2024-04-19T17:06:03.225Z"
      },
      {
        "duration": 5,
        "start_time": "2024-04-19T17:07:53.979Z"
      },
      {
        "duration": 4,
        "start_time": "2024-04-19T17:08:06.645Z"
      },
      {
        "duration": 9,
        "start_time": "2024-04-19T17:08:21.854Z"
      },
      {
        "duration": 5,
        "start_time": "2024-04-19T17:08:28.723Z"
      },
      {
        "duration": 4,
        "start_time": "2024-04-19T17:08:56.695Z"
      },
      {
        "duration": 1027,
        "start_time": "2024-04-19T17:09:30.743Z"
      },
      {
        "duration": 5,
        "start_time": "2024-04-19T17:11:56.644Z"
      },
      {
        "duration": 5115,
        "start_time": "2024-04-19T17:14:14.549Z"
      },
      {
        "duration": 5117,
        "start_time": "2024-04-19T17:16:00.062Z"
      },
      {
        "duration": 2280,
        "start_time": "2024-04-19T17:20:29.480Z"
      },
      {
        "duration": 18,
        "start_time": "2024-04-19T17:20:31.763Z"
      },
      {
        "duration": 921,
        "start_time": "2024-04-19T17:20:31.782Z"
      },
      {
        "duration": 3,
        "start_time": "2024-04-19T17:20:32.705Z"
      },
      {
        "duration": 42,
        "start_time": "2024-04-19T17:20:32.709Z"
      },
      {
        "duration": 78,
        "start_time": "2024-04-19T17:20:32.752Z"
      },
      {
        "duration": 54,
        "start_time": "2024-04-19T17:20:32.832Z"
      },
      {
        "duration": 78,
        "start_time": "2024-04-19T17:20:32.888Z"
      },
      {
        "duration": 436,
        "start_time": "2024-04-19T17:20:32.967Z"
      },
      {
        "duration": 81,
        "start_time": "2024-04-19T17:20:33.405Z"
      },
      {
        "duration": 414,
        "start_time": "2024-04-19T17:20:33.488Z"
      },
      {
        "duration": 321,
        "start_time": "2024-04-19T17:20:33.904Z"
      },
      {
        "duration": 80,
        "start_time": "2024-04-19T17:20:34.226Z"
      },
      {
        "duration": 83,
        "start_time": "2024-04-19T17:20:34.307Z"
      },
      {
        "duration": 80,
        "start_time": "2024-04-19T17:20:34.392Z"
      },
      {
        "duration": 312,
        "start_time": "2024-04-19T17:20:34.474Z"
      },
      {
        "duration": 90,
        "start_time": "2024-04-19T17:20:34.787Z"
      },
      {
        "duration": 2221,
        "start_time": "2024-04-19T17:20:34.878Z"
      },
      {
        "duration": 11304,
        "start_time": "2024-04-19T17:20:43.079Z"
      },
      {
        "duration": 5219,
        "start_time": "2024-04-19T17:21:07.987Z"
      },
      {
        "duration": 92,
        "start_time": "2024-04-19T17:21:44.341Z"
      },
      {
        "duration": 5190,
        "start_time": "2024-04-19T17:34:13.157Z"
      },
      {
        "duration": 6,
        "start_time": "2024-04-19T17:35:23.244Z"
      },
      {
        "duration": 25,
        "start_time": "2024-04-19T17:35:40.634Z"
      },
      {
        "duration": 5097,
        "start_time": "2024-04-19T17:36:13.563Z"
      },
      {
        "duration": 5123,
        "start_time": "2024-04-19T17:36:59.779Z"
      },
      {
        "duration": 2089,
        "start_time": "2024-04-19T17:37:31.233Z"
      },
      {
        "duration": 1114,
        "start_time": "2024-04-19T17:37:57.603Z"
      },
      {
        "duration": 111,
        "start_time": "2024-04-19T17:42:23.187Z"
      },
      {
        "duration": 13,
        "start_time": "2024-04-19T17:43:08.215Z"
      },
      {
        "duration": 81,
        "start_time": "2024-04-19T17:44:21.494Z"
      },
      {
        "duration": 104,
        "start_time": "2024-04-19T17:45:09.993Z"
      },
      {
        "duration": 96,
        "start_time": "2024-04-19T17:45:56.586Z"
      },
      {
        "duration": 1495,
        "start_time": "2024-04-19T17:46:19.152Z"
      },
      {
        "duration": 5459,
        "start_time": "2024-04-19T17:47:24.023Z"
      },
      {
        "duration": 247,
        "start_time": "2024-04-19T17:58:16.927Z"
      },
      {
        "duration": 133,
        "start_time": "2024-04-19T17:59:08.769Z"
      },
      {
        "duration": 220,
        "start_time": "2024-04-19T17:59:37.460Z"
      },
      {
        "duration": 236,
        "start_time": "2024-04-19T18:00:09.506Z"
      },
      {
        "duration": 87887,
        "start_time": "2024-04-19T18:00:55.866Z"
      },
      {
        "duration": 86457,
        "start_time": "2024-04-19T18:04:13.066Z"
      },
      {
        "duration": 99,
        "start_time": "2024-04-19T18:12:14.954Z"
      },
      {
        "duration": 76,
        "start_time": "2024-04-19T18:13:00.956Z"
      },
      {
        "duration": 91,
        "start_time": "2024-04-19T18:13:30.912Z"
      },
      {
        "duration": 18880,
        "start_time": "2024-04-19T18:15:31.104Z"
      },
      {
        "duration": 11050,
        "start_time": "2024-04-19T18:23:38.530Z"
      },
      {
        "duration": 14,
        "start_time": "2024-04-19T18:39:04.996Z"
      },
      {
        "duration": 3358,
        "start_time": "2024-04-19T18:57:15.909Z"
      },
      {
        "duration": 19,
        "start_time": "2024-04-19T18:57:19.268Z"
      },
      {
        "duration": 1027,
        "start_time": "2024-04-19T18:57:19.288Z"
      },
      {
        "duration": 3,
        "start_time": "2024-04-19T18:57:20.317Z"
      },
      {
        "duration": 68,
        "start_time": "2024-04-19T18:57:20.322Z"
      },
      {
        "duration": 68,
        "start_time": "2024-04-19T18:57:20.393Z"
      },
      {
        "duration": 46,
        "start_time": "2024-04-19T18:57:20.465Z"
      },
      {
        "duration": 85,
        "start_time": "2024-04-19T18:57:20.512Z"
      },
      {
        "duration": 451,
        "start_time": "2024-04-19T18:57:20.598Z"
      },
      {
        "duration": 79,
        "start_time": "2024-04-19T18:57:21.051Z"
      },
      {
        "duration": 354,
        "start_time": "2024-04-19T18:57:21.132Z"
      },
      {
        "duration": 311,
        "start_time": "2024-04-19T18:57:21.488Z"
      },
      {
        "duration": 85,
        "start_time": "2024-04-19T18:57:21.800Z"
      },
      {
        "duration": 93,
        "start_time": "2024-04-19T18:57:21.886Z"
      },
      {
        "duration": 65,
        "start_time": "2024-04-19T18:57:21.980Z"
      },
      {
        "duration": 322,
        "start_time": "2024-04-19T18:57:22.047Z"
      },
      {
        "duration": 116,
        "start_time": "2024-04-19T18:57:22.371Z"
      },
      {
        "duration": 2445,
        "start_time": "2024-04-19T18:57:22.489Z"
      },
      {
        "duration": 9750,
        "start_time": "2024-04-19T18:57:24.935Z"
      },
      {
        "duration": 160,
        "start_time": "2024-04-19T18:57:34.687Z"
      },
      {
        "duration": 0,
        "start_time": "2024-04-19T18:57:34.849Z"
      },
      {
        "duration": 0,
        "start_time": "2024-04-19T18:57:34.850Z"
      },
      {
        "duration": 3362,
        "start_time": "2024-04-19T18:58:08.904Z"
      },
      {
        "duration": 18,
        "start_time": "2024-04-19T18:58:12.268Z"
      },
      {
        "duration": 1004,
        "start_time": "2024-04-19T18:58:12.288Z"
      },
      {
        "duration": 3,
        "start_time": "2024-04-19T18:58:13.294Z"
      },
      {
        "duration": 59,
        "start_time": "2024-04-19T18:58:13.298Z"
      },
      {
        "duration": 75,
        "start_time": "2024-04-19T18:58:13.358Z"
      },
      {
        "duration": 49,
        "start_time": "2024-04-19T18:58:13.435Z"
      },
      {
        "duration": 83,
        "start_time": "2024-04-19T18:58:13.485Z"
      },
      {
        "duration": 444,
        "start_time": "2024-04-19T18:58:13.570Z"
      },
      {
        "duration": 76,
        "start_time": "2024-04-19T18:58:14.016Z"
      },
      {
        "duration": 373,
        "start_time": "2024-04-19T18:58:14.094Z"
      },
      {
        "duration": 269,
        "start_time": "2024-04-19T18:58:14.469Z"
      },
      {
        "duration": 78,
        "start_time": "2024-04-19T18:58:14.740Z"
      },
      {
        "duration": 81,
        "start_time": "2024-04-19T18:58:14.820Z"
      },
      {
        "duration": 79,
        "start_time": "2024-04-19T18:58:14.903Z"
      },
      {
        "duration": 324,
        "start_time": "2024-04-19T18:58:14.983Z"
      },
      {
        "duration": 115,
        "start_time": "2024-04-19T18:58:15.308Z"
      },
      {
        "duration": 2460,
        "start_time": "2024-04-19T18:58:15.424Z"
      },
      {
        "duration": 9404,
        "start_time": "2024-04-19T18:58:17.885Z"
      },
      {
        "duration": 371,
        "start_time": "2024-04-19T18:58:27.291Z"
      },
      {
        "duration": 0,
        "start_time": "2024-04-19T18:58:27.663Z"
      },
      {
        "duration": 20640,
        "start_time": "2024-04-19T18:59:27.585Z"
      },
      {
        "duration": 15,
        "start_time": "2024-04-19T18:59:58.975Z"
      },
      {
        "duration": 71923,
        "start_time": "2024-04-19T19:00:28.045Z"
      },
      {
        "duration": 90826,
        "start_time": "2024-04-19T19:15:41.050Z"
      },
      {
        "duration": 4820,
        "start_time": "2024-04-20T13:39:43.759Z"
      },
      {
        "duration": 19,
        "start_time": "2024-04-20T13:39:48.581Z"
      },
      {
        "duration": 3064,
        "start_time": "2024-04-20T13:39:48.602Z"
      },
      {
        "duration": 3,
        "start_time": "2024-04-20T13:39:51.668Z"
      },
      {
        "duration": 56,
        "start_time": "2024-04-20T13:39:51.682Z"
      },
      {
        "duration": 75,
        "start_time": "2024-04-20T13:39:51.739Z"
      },
      {
        "duration": 48,
        "start_time": "2024-04-20T13:39:51.816Z"
      },
      {
        "duration": 84,
        "start_time": "2024-04-20T13:39:51.866Z"
      },
      {
        "duration": 537,
        "start_time": "2024-04-20T13:39:51.951Z"
      },
      {
        "duration": 124,
        "start_time": "2024-04-20T13:39:52.491Z"
      },
      {
        "duration": 403,
        "start_time": "2024-04-20T13:39:52.616Z"
      },
      {
        "duration": 345,
        "start_time": "2024-04-20T13:39:53.020Z"
      },
      {
        "duration": 79,
        "start_time": "2024-04-20T13:39:53.367Z"
      },
      {
        "duration": 87,
        "start_time": "2024-04-20T13:39:53.447Z"
      },
      {
        "duration": 86,
        "start_time": "2024-04-20T13:39:53.535Z"
      },
      {
        "duration": 394,
        "start_time": "2024-04-20T13:39:53.622Z"
      },
      {
        "duration": 114,
        "start_time": "2024-04-20T13:39:54.017Z"
      },
      {
        "duration": 3344,
        "start_time": "2024-04-20T13:39:54.133Z"
      },
      {
        "duration": 172,
        "start_time": "2024-04-20T13:39:57.479Z"
      },
      {
        "duration": 21447,
        "start_time": "2024-04-20T13:39:57.653Z"
      },
      {
        "duration": 88986,
        "start_time": "2024-04-20T13:40:19.101Z"
      },
      {
        "duration": 3555,
        "start_time": "2024-04-20T13:51:14.641Z"
      },
      {
        "duration": 23,
        "start_time": "2024-04-20T13:51:18.198Z"
      },
      {
        "duration": 1022,
        "start_time": "2024-04-20T13:51:18.223Z"
      },
      {
        "duration": 3,
        "start_time": "2024-04-20T13:51:19.247Z"
      },
      {
        "duration": 57,
        "start_time": "2024-04-20T13:51:19.251Z"
      },
      {
        "duration": 77,
        "start_time": "2024-04-20T13:51:19.309Z"
      },
      {
        "duration": 46,
        "start_time": "2024-04-20T13:51:19.388Z"
      },
      {
        "duration": 111,
        "start_time": "2024-04-20T13:51:19.436Z"
      },
      {
        "duration": 459,
        "start_time": "2024-04-20T13:51:19.549Z"
      },
      {
        "duration": 86,
        "start_time": "2024-04-20T13:51:20.010Z"
      },
      {
        "duration": 371,
        "start_time": "2024-04-20T13:51:20.097Z"
      },
      {
        "duration": 317,
        "start_time": "2024-04-20T13:51:20.470Z"
      },
      {
        "duration": 98,
        "start_time": "2024-04-20T13:51:20.788Z"
      },
      {
        "duration": 73,
        "start_time": "2024-04-20T13:51:20.888Z"
      },
      {
        "duration": 86,
        "start_time": "2024-04-20T13:51:20.962Z"
      },
      {
        "duration": 344,
        "start_time": "2024-04-20T13:51:21.050Z"
      },
      {
        "duration": 98,
        "start_time": "2024-04-20T13:51:21.396Z"
      },
      {
        "duration": 2612,
        "start_time": "2024-04-20T13:51:21.495Z"
      },
      {
        "duration": 4160,
        "start_time": "2024-04-20T13:53:31.155Z"
      },
      {
        "duration": 19,
        "start_time": "2024-04-20T13:53:35.317Z"
      },
      {
        "duration": 1164,
        "start_time": "2024-04-20T13:53:35.337Z"
      },
      {
        "duration": 5,
        "start_time": "2024-04-20T13:53:36.503Z"
      },
      {
        "duration": 49,
        "start_time": "2024-04-20T13:53:36.509Z"
      },
      {
        "duration": 83,
        "start_time": "2024-04-20T13:53:36.560Z"
      },
      {
        "duration": 61,
        "start_time": "2024-04-20T13:53:36.644Z"
      },
      {
        "duration": 86,
        "start_time": "2024-04-20T13:53:36.707Z"
      },
      {
        "duration": 461,
        "start_time": "2024-04-20T13:53:36.795Z"
      },
      {
        "duration": 81,
        "start_time": "2024-04-20T13:53:37.258Z"
      },
      {
        "duration": 366,
        "start_time": "2024-04-20T13:53:37.341Z"
      },
      {
        "duration": 338,
        "start_time": "2024-04-20T13:53:37.709Z"
      },
      {
        "duration": 85,
        "start_time": "2024-04-20T13:53:38.049Z"
      },
      {
        "duration": 80,
        "start_time": "2024-04-20T13:53:38.135Z"
      },
      {
        "duration": 78,
        "start_time": "2024-04-20T13:53:38.217Z"
      },
      {
        "duration": 371,
        "start_time": "2024-04-20T13:53:38.297Z"
      },
      {
        "duration": 103,
        "start_time": "2024-04-20T13:53:38.669Z"
      },
      {
        "duration": 2641,
        "start_time": "2024-04-20T13:53:38.782Z"
      },
      {
        "duration": 83390,
        "start_time": "2024-04-20T13:53:41.424Z"
      },
      {
        "duration": 3730,
        "start_time": "2024-04-20T13:55:04.816Z"
      },
      {
        "duration": 0,
        "start_time": "2024-04-20T13:55:08.549Z"
      },
      {
        "duration": 0,
        "start_time": "2024-04-20T13:55:08.554Z"
      },
      {
        "duration": 4,
        "start_time": "2024-04-20T13:55:13.140Z"
      },
      {
        "duration": 33623,
        "start_time": "2024-04-20T13:55:24.610Z"
      },
      {
        "duration": 9,
        "start_time": "2024-04-20T13:56:00.162Z"
      },
      {
        "duration": 21328,
        "start_time": "2024-04-20T13:56:16.009Z"
      },
      {
        "duration": 87485,
        "start_time": "2024-04-20T13:56:43.806Z"
      },
      {
        "duration": 247328,
        "start_time": "2024-04-20T13:58:29.316Z"
      },
      {
        "duration": 286,
        "start_time": "2024-04-20T14:03:38.034Z"
      },
      {
        "duration": 801,
        "start_time": "2024-04-20T14:03:55.034Z"
      },
      {
        "duration": 4997,
        "start_time": "2024-04-20T14:09:04.941Z"
      },
      {
        "duration": 35681,
        "start_time": "2024-04-20T14:09:13.503Z"
      },
      {
        "duration": 111,
        "start_time": "2024-04-20T14:14:12.280Z"
      },
      {
        "duration": 81662,
        "start_time": "2024-04-20T14:15:52.442Z"
      },
      {
        "duration": 12714,
        "start_time": "2024-04-20T14:18:12.575Z"
      },
      {
        "duration": 5537,
        "start_time": "2024-04-20T14:19:22.551Z"
      },
      {
        "duration": 40074,
        "start_time": "2024-04-20T14:19:53.909Z"
      },
      {
        "duration": 222668,
        "start_time": "2024-04-20T14:21:20.201Z"
      },
      {
        "duration": 2307,
        "start_time": "2024-04-20T14:25:02.871Z"
      },
      {
        "duration": 2164,
        "start_time": "2024-04-20T14:25:11.156Z"
      },
      {
        "duration": 2237,
        "start_time": "2024-04-20T14:25:37.961Z"
      },
      {
        "duration": 306,
        "start_time": "2024-04-20T14:39:53.822Z"
      },
      {
        "duration": 244,
        "start_time": "2024-04-20T14:40:33.826Z"
      },
      {
        "duration": 256,
        "start_time": "2024-04-20T14:41:47.110Z"
      },
      {
        "duration": 71,
        "start_time": "2024-04-20T14:43:54.931Z"
      },
      {
        "duration": 308,
        "start_time": "2024-04-20T14:44:24.612Z"
      },
      {
        "duration": 281,
        "start_time": "2024-04-20T14:45:38.456Z"
      },
      {
        "duration": 66686,
        "start_time": "2024-04-20T14:47:50.497Z"
      },
      {
        "duration": 9499,
        "start_time": "2024-04-20T15:00:23.412Z"
      },
      {
        "duration": 5615,
        "start_time": "2024-04-20T15:01:17.874Z"
      },
      {
        "duration": 9,
        "start_time": "2024-04-20T15:02:31.636Z"
      },
      {
        "duration": 13,
        "start_time": "2024-04-20T15:03:11.246Z"
      },
      {
        "duration": 76,
        "start_time": "2024-04-20T15:07:40.989Z"
      },
      {
        "duration": 63,
        "start_time": "2024-04-20T15:08:47.244Z"
      },
      {
        "duration": 109,
        "start_time": "2024-04-20T15:09:14.799Z"
      },
      {
        "duration": 65,
        "start_time": "2024-04-20T15:09:24.536Z"
      },
      {
        "duration": 12,
        "start_time": "2024-04-20T15:09:50.337Z"
      },
      {
        "duration": 9197,
        "start_time": "2024-04-20T15:10:14.904Z"
      },
      {
        "duration": 13,
        "start_time": "2024-04-20T15:10:51.515Z"
      },
      {
        "duration": 12,
        "start_time": "2024-04-20T15:11:13.867Z"
      },
      {
        "duration": 12,
        "start_time": "2024-04-20T15:11:41.501Z"
      },
      {
        "duration": 12,
        "start_time": "2024-04-20T15:12:00.279Z"
      },
      {
        "duration": 12,
        "start_time": "2024-04-20T15:12:39.936Z"
      },
      {
        "duration": 12,
        "start_time": "2024-04-20T15:13:32.292Z"
      },
      {
        "duration": 14,
        "start_time": "2024-04-20T15:14:37.440Z"
      },
      {
        "duration": 22,
        "start_time": "2024-04-20T15:18:24.057Z"
      },
      {
        "duration": 69,
        "start_time": "2024-04-20T15:19:54.398Z"
      },
      {
        "duration": 9279,
        "start_time": "2024-04-20T15:20:21.126Z"
      },
      {
        "duration": 50895,
        "start_time": "2024-04-20T15:24:29.899Z"
      },
      {
        "duration": 31476,
        "start_time": "2024-04-20T15:26:50.009Z"
      },
      {
        "duration": 33262,
        "start_time": "2024-04-20T15:33:15.831Z"
      },
      {
        "duration": 31499,
        "start_time": "2024-04-20T18:06:42.297Z"
      },
      {
        "duration": 4,
        "start_time": "2024-04-20T18:08:36.003Z"
      },
      {
        "duration": 4,
        "start_time": "2024-04-20T18:08:52.011Z"
      },
      {
        "duration": 3,
        "start_time": "2024-04-20T18:08:56.616Z"
      },
      {
        "duration": 11076,
        "start_time": "2024-04-20T18:10:51.712Z"
      },
      {
        "duration": 34475,
        "start_time": "2024-04-20T18:11:31.907Z"
      },
      {
        "duration": 6651,
        "start_time": "2024-04-20T18:13:25.761Z"
      },
      {
        "duration": 134055,
        "start_time": "2024-04-20T18:15:52.354Z"
      },
      {
        "duration": 23,
        "start_time": "2024-04-20T18:18:09.007Z"
      },
      {
        "duration": 7509,
        "start_time": "2024-04-20T18:18:24.412Z"
      },
      {
        "duration": 6062,
        "start_time": "2024-04-20T18:23:03.784Z"
      },
      {
        "duration": 1605,
        "start_time": "2024-04-20T18:23:34.492Z"
      },
      {
        "duration": 1059,
        "start_time": "2024-04-20T18:25:25.854Z"
      },
      {
        "duration": 9269,
        "start_time": "2024-04-20T18:39:08.636Z"
      },
      {
        "duration": 17098,
        "start_time": "2024-04-20T18:39:33.834Z"
      },
      {
        "duration": 31573,
        "start_time": "2024-04-20T18:40:05.449Z"
      },
      {
        "duration": 292480,
        "start_time": "2024-04-20T18:41:10.834Z"
      },
      {
        "duration": 33685,
        "start_time": "2024-04-20T18:46:03.316Z"
      },
      {
        "duration": 5155,
        "start_time": "2024-04-20T18:46:38.402Z"
      },
      {
        "duration": 16018,
        "start_time": "2024-04-20T18:48:01.168Z"
      },
      {
        "duration": 241,
        "start_time": "2024-04-20T18:48:36.975Z"
      },
      {
        "duration": 16025,
        "start_time": "2024-04-20T18:48:58.566Z"
      },
      {
        "duration": 28699,
        "start_time": "2024-04-20T18:49:26.993Z"
      },
      {
        "duration": 130574,
        "start_time": "2024-04-20T18:50:24.911Z"
      },
      {
        "duration": 27306,
        "start_time": "2024-04-20T18:53:03.388Z"
      },
      {
        "duration": 18736,
        "start_time": "2024-04-20T18:56:06.154Z"
      },
      {
        "duration": 24335,
        "start_time": "2024-04-20T18:56:36.250Z"
      },
      {
        "duration": 20524,
        "start_time": "2024-04-20T18:57:01.072Z"
      },
      {
        "duration": 25703,
        "start_time": "2024-04-20T18:58:15.096Z"
      },
      {
        "duration": 36,
        "start_time": "2024-04-21T07:49:28.226Z"
      },
      {
        "duration": 62,
        "start_time": "2024-04-21T07:50:29.904Z"
      },
      {
        "duration": 2403,
        "start_time": "2024-04-21T07:50:38.756Z"
      },
      {
        "duration": 18,
        "start_time": "2024-04-21T07:50:41.161Z"
      },
      {
        "duration": 940,
        "start_time": "2024-04-21T07:50:41.180Z"
      },
      {
        "duration": 3,
        "start_time": "2024-04-21T07:50:42.122Z"
      },
      {
        "duration": 39,
        "start_time": "2024-04-21T07:50:42.126Z"
      },
      {
        "duration": 84,
        "start_time": "2024-04-21T07:50:42.166Z"
      },
      {
        "duration": 70,
        "start_time": "2024-04-21T07:50:44.055Z"
      },
      {
        "duration": 53,
        "start_time": "2024-04-21T07:51:02.977Z"
      },
      {
        "duration": 2475,
        "start_time": "2024-04-21T07:51:14.523Z"
      },
      {
        "duration": 19,
        "start_time": "2024-04-21T07:51:17.000Z"
      },
      {
        "duration": 965,
        "start_time": "2024-04-21T07:51:17.020Z"
      },
      {
        "duration": 3,
        "start_time": "2024-04-21T07:51:17.987Z"
      },
      {
        "duration": 55,
        "start_time": "2024-04-21T07:51:17.991Z"
      },
      {
        "duration": 73,
        "start_time": "2024-04-21T07:51:18.048Z"
      },
      {
        "duration": 55,
        "start_time": "2024-04-21T07:51:20.478Z"
      },
      {
        "duration": 2449,
        "start_time": "2024-04-21T07:52:33.596Z"
      },
      {
        "duration": 18,
        "start_time": "2024-04-21T07:52:36.047Z"
      },
      {
        "duration": 922,
        "start_time": "2024-04-21T07:52:36.067Z"
      },
      {
        "duration": 3,
        "start_time": "2024-04-21T07:52:36.990Z"
      },
      {
        "duration": 46,
        "start_time": "2024-04-21T07:52:36.995Z"
      },
      {
        "duration": 85,
        "start_time": "2024-04-21T07:52:37.042Z"
      },
      {
        "duration": 63,
        "start_time": "2024-04-21T07:52:48.674Z"
      },
      {
        "duration": 35,
        "start_time": "2024-04-21T07:54:17.995Z"
      },
      {
        "duration": 3874,
        "start_time": "2024-04-21T07:55:29.833Z"
      },
      {
        "duration": 18,
        "start_time": "2024-04-21T07:55:33.709Z"
      },
      {
        "duration": 955,
        "start_time": "2024-04-21T07:55:33.728Z"
      },
      {
        "duration": 3,
        "start_time": "2024-04-21T07:55:34.685Z"
      },
      {
        "duration": 46,
        "start_time": "2024-04-21T07:55:34.689Z"
      },
      {
        "duration": 88,
        "start_time": "2024-04-21T07:55:34.736Z"
      },
      {
        "duration": 11,
        "start_time": "2024-04-21T07:55:41.660Z"
      },
      {
        "duration": 9,
        "start_time": "2024-04-21T07:56:28.212Z"
      },
      {
        "duration": 2393,
        "start_time": "2024-04-21T07:57:09.771Z"
      },
      {
        "duration": 11,
        "start_time": "2024-04-21T07:57:54.358Z"
      },
      {
        "duration": 849,
        "start_time": "2024-04-21T07:59:02.582Z"
      },
      {
        "duration": 30,
        "start_time": "2024-04-21T08:01:23.367Z"
      },
      {
        "duration": 26,
        "start_time": "2024-04-21T08:01:46.069Z"
      },
      {
        "duration": 1924,
        "start_time": "2024-04-21T08:03:09.959Z"
      },
      {
        "duration": 2430,
        "start_time": "2024-04-21T08:03:39.681Z"
      },
      {
        "duration": 20,
        "start_time": "2024-04-21T08:03:42.114Z"
      },
      {
        "duration": 950,
        "start_time": "2024-04-21T08:03:42.135Z"
      },
      {
        "duration": 3,
        "start_time": "2024-04-21T08:03:43.087Z"
      },
      {
        "duration": 51,
        "start_time": "2024-04-21T08:03:43.091Z"
      },
      {
        "duration": 92,
        "start_time": "2024-04-21T08:03:43.144Z"
      },
      {
        "duration": 1541,
        "start_time": "2024-04-21T08:03:43.238Z"
      },
      {
        "duration": 583,
        "start_time": "2024-04-21T08:04:19.617Z"
      },
      {
        "duration": 32,
        "start_time": "2024-04-21T08:11:01.518Z"
      },
      {
        "duration": 216,
        "start_time": "2024-04-21T08:11:48.512Z"
      },
      {
        "duration": 137,
        "start_time": "2024-04-21T08:12:43.813Z"
      },
      {
        "duration": 28,
        "start_time": "2024-04-21T08:13:58.682Z"
      },
      {
        "duration": 224,
        "start_time": "2024-04-21T08:14:11.762Z"
      },
      {
        "duration": 26,
        "start_time": "2024-04-21T08:14:38.180Z"
      },
      {
        "duration": 26,
        "start_time": "2024-04-21T08:16:05.883Z"
      },
      {
        "duration": 152,
        "start_time": "2024-04-21T08:17:16.957Z"
      },
      {
        "duration": 148,
        "start_time": "2024-04-21T08:17:32.078Z"
      },
      {
        "duration": 30,
        "start_time": "2024-04-21T08:17:46.822Z"
      },
      {
        "duration": 112,
        "start_time": "2024-04-21T08:17:52.797Z"
      },
      {
        "duration": 425,
        "start_time": "2024-04-21T08:19:42.389Z"
      },
      {
        "duration": 350,
        "start_time": "2024-04-21T08:20:45.935Z"
      },
      {
        "duration": 368,
        "start_time": "2024-04-21T08:22:25.133Z"
      },
      {
        "duration": 367,
        "start_time": "2024-04-21T08:22:48.379Z"
      },
      {
        "duration": 373,
        "start_time": "2024-04-21T08:22:59.309Z"
      },
      {
        "duration": 360,
        "start_time": "2024-04-21T08:23:52.953Z"
      },
      {
        "duration": 342,
        "start_time": "2024-04-21T08:24:08.870Z"
      },
      {
        "duration": 377,
        "start_time": "2024-04-21T08:28:06.338Z"
      },
      {
        "duration": 72,
        "start_time": "2024-04-21T08:28:58.842Z"
      },
      {
        "duration": 57,
        "start_time": "2024-04-21T08:30:19.661Z"
      },
      {
        "duration": 281,
        "start_time": "2024-04-21T08:37:11.388Z"
      },
      {
        "duration": 344,
        "start_time": "2024-04-21T08:37:31.085Z"
      },
      {
        "duration": 2474,
        "start_time": "2024-04-21T08:38:14.063Z"
      },
      {
        "duration": 19,
        "start_time": "2024-04-21T08:38:16.540Z"
      },
      {
        "duration": 1024,
        "start_time": "2024-04-21T08:38:16.561Z"
      },
      {
        "duration": 3,
        "start_time": "2024-04-21T08:38:17.587Z"
      },
      {
        "duration": 49,
        "start_time": "2024-04-21T08:38:17.592Z"
      },
      {
        "duration": 73,
        "start_time": "2024-04-21T08:38:17.642Z"
      },
      {
        "duration": 503,
        "start_time": "2024-04-21T08:38:17.717Z"
      },
      {
        "duration": 93,
        "start_time": "2024-04-21T08:38:18.222Z"
      },
      {
        "duration": 293,
        "start_time": "2024-04-21T08:38:27.294Z"
      },
      {
        "duration": 69,
        "start_time": "2024-04-21T08:39:17.803Z"
      },
      {
        "duration": 16,
        "start_time": "2024-04-21T08:39:25.204Z"
      },
      {
        "duration": 598,
        "start_time": "2024-04-21T08:40:27.884Z"
      },
      {
        "duration": 616,
        "start_time": "2024-04-21T08:41:36.549Z"
      },
      {
        "duration": 600,
        "start_time": "2024-04-21T08:41:57.361Z"
      },
      {
        "duration": 9,
        "start_time": "2024-04-21T08:46:20.411Z"
      },
      {
        "duration": 17,
        "start_time": "2024-04-21T08:49:20.714Z"
      },
      {
        "duration": 2442,
        "start_time": "2024-04-21T08:50:16.122Z"
      },
      {
        "duration": 18,
        "start_time": "2024-04-21T08:50:18.566Z"
      },
      {
        "duration": 907,
        "start_time": "2024-04-21T08:50:18.586Z"
      },
      {
        "duration": 3,
        "start_time": "2024-04-21T08:50:19.495Z"
      },
      {
        "duration": 48,
        "start_time": "2024-04-21T08:50:19.499Z"
      },
      {
        "duration": 89,
        "start_time": "2024-04-21T08:50:19.549Z"
      },
      {
        "duration": 18,
        "start_time": "2024-04-21T08:50:19.639Z"
      },
      {
        "duration": 100,
        "start_time": "2024-04-21T08:51:23.569Z"
      },
      {
        "duration": 415,
        "start_time": "2024-04-21T08:51:32.001Z"
      },
      {
        "duration": 1180,
        "start_time": "2024-04-21T08:52:20.921Z"
      },
      {
        "duration": 684,
        "start_time": "2024-04-21T08:53:54.636Z"
      },
      {
        "duration": 682,
        "start_time": "2024-04-21T08:54:29.288Z"
      },
      {
        "duration": 930,
        "start_time": "2024-04-21T08:56:08.452Z"
      },
      {
        "duration": 964,
        "start_time": "2024-04-21T08:56:54.121Z"
      },
      {
        "duration": 980,
        "start_time": "2024-04-21T08:57:53.605Z"
      },
      {
        "duration": 40,
        "start_time": "2024-04-21T09:01:00.801Z"
      },
      {
        "duration": 15,
        "start_time": "2024-04-21T09:02:50.599Z"
      },
      {
        "duration": 76,
        "start_time": "2024-04-21T09:03:48.015Z"
      },
      {
        "duration": 11,
        "start_time": "2024-04-21T09:03:57.385Z"
      },
      {
        "duration": 2883,
        "start_time": "2024-04-21T09:04:43.206Z"
      },
      {
        "duration": 322,
        "start_time": "2024-04-21T09:05:04.007Z"
      },
      {
        "duration": 5,
        "start_time": "2024-04-21T09:07:54.942Z"
      },
      {
        "duration": 23,
        "start_time": "2024-04-21T09:11:30.133Z"
      },
      {
        "duration": 364,
        "start_time": "2024-04-21T09:11:35.409Z"
      },
      {
        "duration": 19,
        "start_time": "2024-04-21T09:13:34.925Z"
      },
      {
        "duration": 41,
        "start_time": "2024-04-21T09:13:55.782Z"
      },
      {
        "duration": 62,
        "start_time": "2024-04-21T09:20:52.310Z"
      },
      {
        "duration": 18,
        "start_time": "2024-04-21T09:21:15.856Z"
      },
      {
        "duration": 83,
        "start_time": "2024-04-21T09:21:49.530Z"
      },
      {
        "duration": 2622,
        "start_time": "2024-04-21T09:22:36.247Z"
      },
      {
        "duration": 18,
        "start_time": "2024-04-21T09:22:38.872Z"
      },
      {
        "duration": 984,
        "start_time": "2024-04-21T09:22:38.892Z"
      },
      {
        "duration": 4,
        "start_time": "2024-04-21T09:22:39.881Z"
      },
      {
        "duration": 72,
        "start_time": "2024-04-21T09:22:39.886Z"
      },
      {
        "duration": 79,
        "start_time": "2024-04-21T09:22:39.959Z"
      },
      {
        "duration": 17,
        "start_time": "2024-04-21T09:22:40.040Z"
      },
      {
        "duration": 1125,
        "start_time": "2024-04-21T09:22:40.059Z"
      },
      {
        "duration": 27,
        "start_time": "2024-04-21T09:22:41.186Z"
      },
      {
        "duration": 103,
        "start_time": "2024-04-21T09:22:41.216Z"
      },
      {
        "duration": 17,
        "start_time": "2024-04-21T09:22:41.320Z"
      },
      {
        "duration": 1265,
        "start_time": "2024-04-21T09:22:41.339Z"
      },
      {
        "duration": 9,
        "start_time": "2024-04-21T09:22:42.606Z"
      },
      {
        "duration": 41,
        "start_time": "2024-04-21T09:22:42.617Z"
      },
      {
        "duration": 30,
        "start_time": "2024-04-21T09:22:42.660Z"
      },
      {
        "duration": 6,
        "start_time": "2024-04-21T09:22:42.691Z"
      },
      {
        "duration": 385,
        "start_time": "2024-04-21T09:22:42.699Z"
      },
      {
        "duration": 26,
        "start_time": "2024-04-21T09:22:43.086Z"
      },
      {
        "duration": 102,
        "start_time": "2024-04-21T09:22:43.113Z"
      },
      {
        "duration": 40,
        "start_time": "2024-04-21T09:22:43.217Z"
      },
      {
        "duration": 126,
        "start_time": "2024-04-21T09:22:43.259Z"
      },
      {
        "duration": 308,
        "start_time": "2024-04-21T09:22:43.387Z"
      },
      {
        "duration": 89,
        "start_time": "2024-04-21T09:22:43.697Z"
      },
      {
        "duration": 5030,
        "start_time": "2024-04-21T09:24:15.798Z"
      },
      {
        "duration": 74,
        "start_time": "2024-04-21T09:40:55.694Z"
      },
      {
        "duration": 7096,
        "start_time": "2024-04-21T09:49:46.886Z"
      },
      {
        "duration": 6383,
        "start_time": "2024-04-21T09:50:05.944Z"
      },
      {
        "duration": 6886,
        "start_time": "2024-04-21T09:50:52.569Z"
      },
      {
        "duration": 976,
        "start_time": "2024-04-21T09:55:08.283Z"
      },
      {
        "duration": 2467,
        "start_time": "2024-04-21T09:56:44.105Z"
      },
      {
        "duration": 19,
        "start_time": "2024-04-21T09:56:46.574Z"
      },
      {
        "duration": 974,
        "start_time": "2024-04-21T09:56:46.594Z"
      },
      {
        "duration": 3,
        "start_time": "2024-04-21T09:56:47.571Z"
      },
      {
        "duration": 45,
        "start_time": "2024-04-21T09:56:47.581Z"
      },
      {
        "duration": 84,
        "start_time": "2024-04-21T09:56:47.628Z"
      },
      {
        "duration": 16,
        "start_time": "2024-04-21T09:56:47.714Z"
      },
      {
        "duration": 1530,
        "start_time": "2024-04-21T09:56:47.731Z"
      },
      {
        "duration": 37,
        "start_time": "2024-04-21T09:56:49.263Z"
      },
      {
        "duration": 105,
        "start_time": "2024-04-21T09:56:49.302Z"
      },
      {
        "duration": 15,
        "start_time": "2024-04-21T09:56:49.409Z"
      },
      {
        "duration": 648,
        "start_time": "2024-04-21T09:56:49.425Z"
      },
      {
        "duration": 8,
        "start_time": "2024-04-21T09:56:50.081Z"
      },
      {
        "duration": 41,
        "start_time": "2024-04-21T09:56:50.091Z"
      },
      {
        "duration": 26,
        "start_time": "2024-04-21T09:56:50.134Z"
      },
      {
        "duration": 304,
        "start_time": "2024-04-21T09:56:50.162Z"
      },
      {
        "duration": 35,
        "start_time": "2024-04-21T09:56:50.467Z"
      },
      {
        "duration": 63,
        "start_time": "2024-04-21T09:56:50.504Z"
      },
      {
        "duration": 46,
        "start_time": "2024-04-21T09:56:50.568Z"
      },
      {
        "duration": 93,
        "start_time": "2024-04-21T09:56:50.615Z"
      },
      {
        "duration": 373,
        "start_time": "2024-04-21T09:56:50.710Z"
      },
      {
        "duration": 73,
        "start_time": "2024-04-21T09:56:51.084Z"
      },
      {
        "duration": 3,
        "start_time": "2024-04-21T13:57:50.148Z"
      },
      {
        "duration": 2461,
        "start_time": "2024-04-21T14:03:22.685Z"
      },
      {
        "duration": 20,
        "start_time": "2024-04-21T14:03:25.148Z"
      },
      {
        "duration": 949,
        "start_time": "2024-04-21T14:03:25.170Z"
      },
      {
        "duration": 3,
        "start_time": "2024-04-21T14:03:26.122Z"
      },
      {
        "duration": 35,
        "start_time": "2024-04-21T14:03:26.127Z"
      },
      {
        "duration": 102,
        "start_time": "2024-04-21T14:03:26.164Z"
      },
      {
        "duration": 34,
        "start_time": "2024-04-21T14:03:26.267Z"
      },
      {
        "duration": 1095,
        "start_time": "2024-04-21T14:03:26.302Z"
      },
      {
        "duration": 27,
        "start_time": "2024-04-21T14:03:27.399Z"
      },
      {
        "duration": 111,
        "start_time": "2024-04-21T14:03:27.428Z"
      },
      {
        "duration": 16,
        "start_time": "2024-04-21T14:03:27.540Z"
      },
      {
        "duration": 626,
        "start_time": "2024-04-21T14:03:27.558Z"
      },
      {
        "duration": 8,
        "start_time": "2024-04-21T14:03:28.186Z"
      },
      {
        "duration": 47,
        "start_time": "2024-04-21T14:03:28.196Z"
      },
      {
        "duration": 14,
        "start_time": "2024-04-21T14:03:28.245Z"
      },
      {
        "duration": 295,
        "start_time": "2024-04-21T14:03:28.261Z"
      },
      {
        "duration": 36,
        "start_time": "2024-04-21T14:03:28.557Z"
      },
      {
        "duration": 62,
        "start_time": "2024-04-21T14:03:28.595Z"
      },
      {
        "duration": 45,
        "start_time": "2024-04-21T14:03:28.658Z"
      },
      {
        "duration": 91,
        "start_time": "2024-04-21T14:03:28.704Z"
      },
      {
        "duration": 300,
        "start_time": "2024-04-21T14:03:28.796Z"
      },
      {
        "duration": 85,
        "start_time": "2024-04-21T14:03:29.097Z"
      },
      {
        "duration": 6796,
        "start_time": "2024-04-21T14:03:29.183Z"
      },
      {
        "duration": 343,
        "start_time": "2024-04-21T14:14:10.464Z"
      },
      {
        "duration": 316,
        "start_time": "2024-04-21T14:14:19.878Z"
      },
      {
        "duration": 303,
        "start_time": "2024-04-21T14:14:40.463Z"
      },
      {
        "duration": 64,
        "start_time": "2024-04-21T14:14:59.567Z"
      },
      {
        "duration": 345,
        "start_time": "2024-04-21T14:15:08.038Z"
      },
      {
        "duration": 13,
        "start_time": "2024-04-21T14:15:30.197Z"
      },
      {
        "duration": 90016,
        "start_time": "2024-04-21T14:15:51.263Z"
      },
      {
        "duration": 14304,
        "start_time": "2024-04-21T14:17:44.117Z"
      },
      {
        "duration": 15,
        "start_time": "2024-04-21T14:21:57.248Z"
      },
      {
        "duration": 16893,
        "start_time": "2024-04-21T14:22:43.040Z"
      },
      {
        "duration": 73,
        "start_time": "2024-04-21T14:26:12.953Z"
      },
      {
        "duration": 88,
        "start_time": "2024-04-21T14:26:49.030Z"
      },
      {
        "duration": 16789,
        "start_time": "2024-04-21T14:27:08.809Z"
      },
      {
        "duration": 57828,
        "start_time": "2024-04-21T14:28:07.654Z"
      },
      {
        "duration": 16483,
        "start_time": "2024-04-21T14:30:09.511Z"
      },
      {
        "duration": 57588,
        "start_time": "2024-04-21T14:30:30.697Z"
      },
      {
        "duration": 660,
        "start_time": "2024-04-21T14:34:11.353Z"
      },
      {
        "duration": 99026,
        "start_time": "2024-04-21T14:35:27.853Z"
      },
      {
        "duration": 4431,
        "start_time": "2024-04-21T14:37:48.808Z"
      },
      {
        "duration": 5460,
        "start_time": "2024-04-21T14:37:57.499Z"
      },
      {
        "duration": 2613,
        "start_time": "2024-04-21T14:40:45.549Z"
      },
      {
        "duration": 77,
        "start_time": "2024-04-21T14:43:04.893Z"
      },
      {
        "duration": 37389,
        "start_time": "2024-04-21T14:44:56.908Z"
      },
      {
        "duration": 381209,
        "start_time": "2024-04-21T14:49:01.787Z"
      },
      {
        "duration": 4,
        "start_time": "2024-04-21T14:55:22.997Z"
      },
      {
        "duration": 146674,
        "start_time": "2024-04-21T14:57:05.217Z"
      },
      {
        "duration": 352156,
        "start_time": "2024-04-21T15:00:41.129Z"
      },
      {
        "duration": 34763,
        "start_time": "2024-04-21T15:07:34.537Z"
      },
      {
        "duration": 73,
        "start_time": "2024-04-21T15:22:26.907Z"
      },
      {
        "duration": 16134,
        "start_time": "2024-04-21T15:23:39.133Z"
      },
      {
        "duration": 54781,
        "start_time": "2024-04-21T15:25:56.107Z"
      },
      {
        "duration": 33450,
        "start_time": "2024-04-21T15:29:39.055Z"
      },
      {
        "duration": 1213,
        "start_time": "2024-04-21T15:41:27.364Z"
      },
      {
        "duration": 8073,
        "start_time": "2024-04-21T15:42:36.924Z"
      },
      {
        "duration": 11893,
        "start_time": "2024-04-21T15:43:27.484Z"
      },
      {
        "duration": 1224,
        "start_time": "2024-04-21T15:44:28.291Z"
      },
      {
        "duration": 8941,
        "start_time": "2024-04-21T15:46:11.172Z"
      },
      {
        "duration": 60,
        "start_time": "2024-04-21T15:51:07.509Z"
      },
      {
        "duration": 91,
        "start_time": "2024-04-21T15:51:15.201Z"
      },
      {
        "duration": 59,
        "start_time": "2024-04-21T15:52:01.642Z"
      },
      {
        "duration": 1203,
        "start_time": "2024-04-21T15:52:08.863Z"
      },
      {
        "duration": 8845,
        "start_time": "2024-04-21T15:52:21.165Z"
      },
      {
        "duration": 62,
        "start_time": "2024-04-21T15:53:53.368Z"
      },
      {
        "duration": 933,
        "start_time": "2024-04-21T15:54:01.704Z"
      },
      {
        "duration": 63,
        "start_time": "2024-04-21T15:55:51.385Z"
      },
      {
        "duration": 1219,
        "start_time": "2024-04-21T15:55:57.144Z"
      },
      {
        "duration": 48,
        "start_time": "2024-04-21T15:56:16.232Z"
      },
      {
        "duration": 102,
        "start_time": "2024-04-21T15:56:39.843Z"
      },
      {
        "duration": 0,
        "start_time": "2024-04-21T15:56:39.947Z"
      },
      {
        "duration": 0,
        "start_time": "2024-04-21T15:56:39.948Z"
      },
      {
        "duration": 0,
        "start_time": "2024-04-21T15:56:39.949Z"
      },
      {
        "duration": 0,
        "start_time": "2024-04-21T15:56:39.951Z"
      },
      {
        "duration": 0,
        "start_time": "2024-04-21T15:56:39.952Z"
      },
      {
        "duration": 0,
        "start_time": "2024-04-21T15:56:39.954Z"
      },
      {
        "duration": 0,
        "start_time": "2024-04-21T15:56:39.955Z"
      },
      {
        "duration": 0,
        "start_time": "2024-04-21T15:56:39.957Z"
      },
      {
        "duration": 0,
        "start_time": "2024-04-21T15:56:39.958Z"
      },
      {
        "duration": 0,
        "start_time": "2024-04-21T15:56:39.959Z"
      },
      {
        "duration": 0,
        "start_time": "2024-04-21T15:56:39.960Z"
      },
      {
        "duration": 0,
        "start_time": "2024-04-21T15:56:39.961Z"
      },
      {
        "duration": 0,
        "start_time": "2024-04-21T15:56:39.962Z"
      },
      {
        "duration": 0,
        "start_time": "2024-04-21T15:56:39.964Z"
      },
      {
        "duration": 0,
        "start_time": "2024-04-21T15:56:39.965Z"
      },
      {
        "duration": 0,
        "start_time": "2024-04-21T15:56:39.966Z"
      },
      {
        "duration": 0,
        "start_time": "2024-04-21T15:56:39.967Z"
      },
      {
        "duration": 0,
        "start_time": "2024-04-21T15:56:39.968Z"
      },
      {
        "duration": 1,
        "start_time": "2024-04-21T15:56:39.969Z"
      },
      {
        "duration": 0,
        "start_time": "2024-04-21T15:56:39.970Z"
      },
      {
        "duration": 0,
        "start_time": "2024-04-21T15:56:39.971Z"
      },
      {
        "duration": 0,
        "start_time": "2024-04-21T15:56:39.972Z"
      },
      {
        "duration": 0,
        "start_time": "2024-04-21T15:56:39.973Z"
      },
      {
        "duration": 0,
        "start_time": "2024-04-21T15:56:39.975Z"
      },
      {
        "duration": 65,
        "start_time": "2024-04-21T15:57:38.333Z"
      },
      {
        "duration": 1,
        "start_time": "2024-04-21T15:57:38.399Z"
      },
      {
        "duration": 0,
        "start_time": "2024-04-21T15:57:38.400Z"
      },
      {
        "duration": 0,
        "start_time": "2024-04-21T15:57:38.401Z"
      },
      {
        "duration": 0,
        "start_time": "2024-04-21T15:57:38.402Z"
      },
      {
        "duration": 0,
        "start_time": "2024-04-21T15:57:38.403Z"
      },
      {
        "duration": 0,
        "start_time": "2024-04-21T15:57:38.404Z"
      },
      {
        "duration": 0,
        "start_time": "2024-04-21T15:57:38.405Z"
      },
      {
        "duration": 0,
        "start_time": "2024-04-21T15:57:38.406Z"
      },
      {
        "duration": 0,
        "start_time": "2024-04-21T15:57:38.408Z"
      },
      {
        "duration": 0,
        "start_time": "2024-04-21T15:57:38.409Z"
      },
      {
        "duration": 0,
        "start_time": "2024-04-21T15:57:38.411Z"
      },
      {
        "duration": 0,
        "start_time": "2024-04-21T15:57:38.412Z"
      },
      {
        "duration": 0,
        "start_time": "2024-04-21T15:57:38.412Z"
      },
      {
        "duration": 0,
        "start_time": "2024-04-21T15:57:38.413Z"
      },
      {
        "duration": 0,
        "start_time": "2024-04-21T15:57:38.414Z"
      },
      {
        "duration": 0,
        "start_time": "2024-04-21T15:57:38.415Z"
      },
      {
        "duration": 0,
        "start_time": "2024-04-21T15:57:38.416Z"
      },
      {
        "duration": 0,
        "start_time": "2024-04-21T15:57:38.417Z"
      },
      {
        "duration": 8,
        "start_time": "2024-04-21T15:57:38.419Z"
      },
      {
        "duration": 0,
        "start_time": "2024-04-21T15:57:38.428Z"
      },
      {
        "duration": 0,
        "start_time": "2024-04-21T15:57:38.429Z"
      },
      {
        "duration": 0,
        "start_time": "2024-04-21T15:57:38.430Z"
      },
      {
        "duration": 0,
        "start_time": "2024-04-21T15:57:38.431Z"
      },
      {
        "duration": 0,
        "start_time": "2024-04-21T15:57:38.432Z"
      },
      {
        "duration": 81,
        "start_time": "2024-04-21T15:58:03.589Z"
      },
      {
        "duration": 0,
        "start_time": "2024-04-21T15:58:03.672Z"
      },
      {
        "duration": 0,
        "start_time": "2024-04-21T15:58:03.673Z"
      },
      {
        "duration": 0,
        "start_time": "2024-04-21T15:58:03.675Z"
      },
      {
        "duration": 0,
        "start_time": "2024-04-21T15:58:03.676Z"
      },
      {
        "duration": 0,
        "start_time": "2024-04-21T15:58:03.678Z"
      },
      {
        "duration": 0,
        "start_time": "2024-04-21T15:58:03.679Z"
      },
      {
        "duration": 0,
        "start_time": "2024-04-21T15:58:03.681Z"
      },
      {
        "duration": 0,
        "start_time": "2024-04-21T15:58:03.682Z"
      },
      {
        "duration": 0,
        "start_time": "2024-04-21T15:58:03.684Z"
      },
      {
        "duration": 0,
        "start_time": "2024-04-21T15:58:03.685Z"
      },
      {
        "duration": 0,
        "start_time": "2024-04-21T15:58:03.687Z"
      },
      {
        "duration": 0,
        "start_time": "2024-04-21T15:58:03.688Z"
      },
      {
        "duration": 0,
        "start_time": "2024-04-21T15:58:03.689Z"
      },
      {
        "duration": 0,
        "start_time": "2024-04-21T15:58:03.691Z"
      },
      {
        "duration": 0,
        "start_time": "2024-04-21T15:58:03.692Z"
      },
      {
        "duration": 0,
        "start_time": "2024-04-21T15:58:03.694Z"
      },
      {
        "duration": 0,
        "start_time": "2024-04-21T15:58:03.695Z"
      },
      {
        "duration": 0,
        "start_time": "2024-04-21T15:58:03.696Z"
      },
      {
        "duration": 0,
        "start_time": "2024-04-21T15:58:03.698Z"
      },
      {
        "duration": 0,
        "start_time": "2024-04-21T15:58:03.699Z"
      },
      {
        "duration": 0,
        "start_time": "2024-04-21T15:58:03.700Z"
      },
      {
        "duration": 1288,
        "start_time": "2024-04-21T15:58:03.703Z"
      },
      {
        "duration": 0,
        "start_time": "2024-04-21T15:58:04.993Z"
      },
      {
        "duration": 69,
        "start_time": "2024-04-21T15:58:23.055Z"
      },
      {
        "duration": 0,
        "start_time": "2024-04-21T15:58:23.127Z"
      },
      {
        "duration": 0,
        "start_time": "2024-04-21T15:58:23.128Z"
      },
      {
        "duration": 0,
        "start_time": "2024-04-21T15:58:23.129Z"
      },
      {
        "duration": 0,
        "start_time": "2024-04-21T15:58:23.130Z"
      },
      {
        "duration": 0,
        "start_time": "2024-04-21T15:58:23.132Z"
      },
      {
        "duration": 0,
        "start_time": "2024-04-21T15:58:23.133Z"
      },
      {
        "duration": 0,
        "start_time": "2024-04-21T15:58:23.134Z"
      },
      {
        "duration": 0,
        "start_time": "2024-04-21T15:58:23.135Z"
      },
      {
        "duration": 0,
        "start_time": "2024-04-21T15:58:23.136Z"
      },
      {
        "duration": 0,
        "start_time": "2024-04-21T15:58:23.137Z"
      },
      {
        "duration": 0,
        "start_time": "2024-04-21T15:58:23.138Z"
      },
      {
        "duration": 0,
        "start_time": "2024-04-21T15:58:23.139Z"
      },
      {
        "duration": 0,
        "start_time": "2024-04-21T15:58:23.141Z"
      },
      {
        "duration": 0,
        "start_time": "2024-04-21T15:58:23.142Z"
      },
      {
        "duration": 0,
        "start_time": "2024-04-21T15:58:23.143Z"
      },
      {
        "duration": 0,
        "start_time": "2024-04-21T15:58:23.144Z"
      },
      {
        "duration": 0,
        "start_time": "2024-04-21T15:58:23.145Z"
      },
      {
        "duration": 0,
        "start_time": "2024-04-21T15:58:23.146Z"
      },
      {
        "duration": 61,
        "start_time": "2024-04-21T15:58:23.148Z"
      },
      {
        "duration": 0,
        "start_time": "2024-04-21T15:58:23.210Z"
      },
      {
        "duration": 0,
        "start_time": "2024-04-21T15:58:23.211Z"
      },
      {
        "duration": 0,
        "start_time": "2024-04-21T15:58:23.212Z"
      },
      {
        "duration": 0,
        "start_time": "2024-04-21T15:58:23.213Z"
      },
      {
        "duration": 0,
        "start_time": "2024-04-21T15:58:23.214Z"
      },
      {
        "duration": 0,
        "start_time": "2024-04-21T15:58:23.215Z"
      },
      {
        "duration": 0,
        "start_time": "2024-04-21T15:58:23.216Z"
      },
      {
        "duration": 0,
        "start_time": "2024-04-21T15:58:23.217Z"
      },
      {
        "duration": 0,
        "start_time": "2024-04-21T15:58:23.217Z"
      },
      {
        "duration": 0,
        "start_time": "2024-04-21T15:58:23.218Z"
      },
      {
        "duration": 0,
        "start_time": "2024-04-21T15:58:23.219Z"
      },
      {
        "duration": 0,
        "start_time": "2024-04-21T15:58:23.220Z"
      },
      {
        "duration": 0,
        "start_time": "2024-04-21T15:58:23.221Z"
      },
      {
        "duration": 0,
        "start_time": "2024-04-21T15:58:23.222Z"
      },
      {
        "duration": 3911,
        "start_time": "2024-04-21T15:58:48.255Z"
      },
      {
        "duration": 2442,
        "start_time": "2024-04-21T15:59:02.126Z"
      },
      {
        "duration": 20,
        "start_time": "2024-04-21T15:59:04.570Z"
      },
      {
        "duration": 3074,
        "start_time": "2024-04-21T15:59:04.591Z"
      },
      {
        "duration": 3,
        "start_time": "2024-04-21T15:59:07.666Z"
      },
      {
        "duration": 51,
        "start_time": "2024-04-21T15:59:07.671Z"
      },
      {
        "duration": 82,
        "start_time": "2024-04-21T15:59:07.724Z"
      },
      {
        "duration": 18,
        "start_time": "2024-04-21T15:59:07.807Z"
      },
      {
        "duration": 1045,
        "start_time": "2024-04-21T15:59:07.827Z"
      },
      {
        "duration": 33,
        "start_time": "2024-04-21T15:59:08.873Z"
      },
      {
        "duration": 121,
        "start_time": "2024-04-21T15:59:08.907Z"
      },
      {
        "duration": 17,
        "start_time": "2024-04-21T15:59:09.029Z"
      },
      {
        "duration": 707,
        "start_time": "2024-04-21T15:59:09.048Z"
      },
      {
        "duration": 9,
        "start_time": "2024-04-21T15:59:09.757Z"
      },
      {
        "duration": 45,
        "start_time": "2024-04-21T15:59:09.768Z"
      },
      {
        "duration": 13,
        "start_time": "2024-04-21T15:59:09.815Z"
      },
      {
        "duration": 320,
        "start_time": "2024-04-21T15:59:09.830Z"
      },
      {
        "duration": 37,
        "start_time": "2024-04-21T15:59:10.152Z"
      },
      {
        "duration": 65,
        "start_time": "2024-04-21T15:59:10.191Z"
      },
      {
        "duration": 54,
        "start_time": "2024-04-21T15:59:10.258Z"
      },
      {
        "duration": 103,
        "start_time": "2024-04-21T15:59:10.313Z"
      },
      {
        "duration": 344,
        "start_time": "2024-04-21T15:59:10.417Z"
      },
      {
        "duration": 82,
        "start_time": "2024-04-21T15:59:10.762Z"
      },
      {
        "duration": 13374,
        "start_time": "2024-04-21T15:59:10.846Z"
      },
      {
        "duration": 16,
        "start_time": "2024-04-21T15:59:24.222Z"
      },
      {
        "duration": 81,
        "start_time": "2024-04-21T15:59:24.240Z"
      },
      {
        "duration": 16,
        "start_time": "2024-04-21T15:59:29.145Z"
      },
      {
        "duration": 12,
        "start_time": "2024-04-21T15:59:39.253Z"
      },
      {
        "duration": 2354,
        "start_time": "2024-04-21T16:00:46.065Z"
      },
      {
        "duration": 83,
        "start_time": "2024-04-21T16:00:53.385Z"
      },
      {
        "duration": 1315,
        "start_time": "2024-04-21T16:01:02.524Z"
      },
      {
        "duration": 7936,
        "start_time": "2024-04-21T16:01:11.658Z"
      },
      {
        "duration": 2682,
        "start_time": "2024-04-21T16:25:01.710Z"
      },
      {
        "duration": 22,
        "start_time": "2024-04-21T16:25:04.395Z"
      },
      {
        "duration": 1037,
        "start_time": "2024-04-21T16:25:04.419Z"
      },
      {
        "duration": 3,
        "start_time": "2024-04-21T16:25:05.458Z"
      },
      {
        "duration": 60,
        "start_time": "2024-04-21T16:25:05.463Z"
      },
      {
        "duration": 83,
        "start_time": "2024-04-21T16:25:05.525Z"
      },
      {
        "duration": 16,
        "start_time": "2024-04-21T16:25:05.610Z"
      },
      {
        "duration": 1217,
        "start_time": "2024-04-21T16:25:05.628Z"
      },
      {
        "duration": 36,
        "start_time": "2024-04-21T16:25:06.847Z"
      },
      {
        "duration": 104,
        "start_time": "2024-04-21T16:25:06.884Z"
      },
      {
        "duration": 15,
        "start_time": "2024-04-21T16:25:06.990Z"
      },
      {
        "duration": 678,
        "start_time": "2024-04-21T16:25:07.006Z"
      },
      {
        "duration": 9,
        "start_time": "2024-04-21T16:25:07.685Z"
      },
      {
        "duration": 45,
        "start_time": "2024-04-21T16:25:07.698Z"
      },
      {
        "duration": 16,
        "start_time": "2024-04-21T16:25:07.744Z"
      },
      {
        "duration": 311,
        "start_time": "2024-04-21T16:25:07.761Z"
      },
      {
        "duration": 25,
        "start_time": "2024-04-21T16:25:08.082Z"
      },
      {
        "duration": 84,
        "start_time": "2024-04-21T16:25:08.109Z"
      },
      {
        "duration": 47,
        "start_time": "2024-04-21T16:25:08.195Z"
      },
      {
        "duration": 96,
        "start_time": "2024-04-21T16:25:08.244Z"
      },
      {
        "duration": 355,
        "start_time": "2024-04-21T16:25:08.342Z"
      },
      {
        "duration": 96,
        "start_time": "2024-04-21T16:25:08.698Z"
      },
      {
        "duration": 13769,
        "start_time": "2024-04-21T16:25:08.795Z"
      },
      {
        "duration": 28,
        "start_time": "2024-04-21T16:25:22.566Z"
      },
      {
        "duration": 85,
        "start_time": "2024-04-21T16:25:22.597Z"
      },
      {
        "duration": 1331,
        "start_time": "2024-04-21T16:25:31.419Z"
      },
      {
        "duration": 1347,
        "start_time": "2024-04-21T16:26:36.710Z"
      },
      {
        "duration": 1330,
        "start_time": "2024-04-21T16:27:07.561Z"
      },
      {
        "duration": 1709,
        "start_time": "2024-04-21T16:27:53.300Z"
      },
      {
        "duration": 1718,
        "start_time": "2024-04-21T16:28:44.381Z"
      },
      {
        "duration": 168,
        "start_time": "2024-04-21T16:30:39.786Z"
      },
      {
        "duration": 1608,
        "start_time": "2024-04-21T16:30:53.862Z"
      },
      {
        "duration": 69,
        "start_time": "2024-04-21T16:32:29.337Z"
      },
      {
        "duration": 1470,
        "start_time": "2024-04-21T16:32:36.386Z"
      },
      {
        "duration": 64,
        "start_time": "2024-04-21T16:34:18.122Z"
      },
      {
        "duration": 1457,
        "start_time": "2024-04-21T16:34:25.692Z"
      },
      {
        "duration": 1114,
        "start_time": "2024-04-21T16:36:15.813Z"
      },
      {
        "duration": 1102,
        "start_time": "2024-04-21T16:37:29.592Z"
      },
      {
        "duration": 6883,
        "start_time": "2024-04-21T16:38:38.833Z"
      },
      {
        "duration": 10,
        "start_time": "2024-04-21T16:41:07.533Z"
      },
      {
        "duration": 367,
        "start_time": "2024-04-21T16:41:16.593Z"
      },
      {
        "duration": 344,
        "start_time": "2024-04-21T16:41:29.313Z"
      },
      {
        "duration": 356,
        "start_time": "2024-04-21T16:41:43.313Z"
      },
      {
        "duration": 358,
        "start_time": "2024-04-21T16:41:59.553Z"
      },
      {
        "duration": 1411,
        "start_time": "2024-04-21T16:42:21.973Z"
      },
      {
        "duration": 9187,
        "start_time": "2024-04-21T16:43:00.613Z"
      },
      {
        "duration": 2404,
        "start_time": "2024-04-21T16:44:39.773Z"
      },
      {
        "duration": 2389,
        "start_time": "2024-04-21T16:45:47.592Z"
      },
      {
        "duration": 16191,
        "start_time": "2024-04-21T16:46:00.094Z"
      },
      {
        "duration": 9196,
        "start_time": "2024-04-21T16:51:14.526Z"
      },
      {
        "duration": 23978,
        "start_time": "2024-04-21T16:52:40.414Z"
      },
      {
        "duration": 64,
        "start_time": "2024-04-21T17:00:37.502Z"
      },
      {
        "duration": 13,
        "start_time": "2024-04-21T17:02:49.768Z"
      },
      {
        "duration": 13,
        "start_time": "2024-04-21T17:03:49.421Z"
      },
      {
        "duration": 29064,
        "start_time": "2024-04-21T17:04:22.427Z"
      },
      {
        "duration": 27184,
        "start_time": "2024-04-21T17:05:17.807Z"
      },
      {
        "duration": 64,
        "start_time": "2024-04-21T17:06:29.532Z"
      },
      {
        "duration": 29107,
        "start_time": "2024-04-21T17:06:33.578Z"
      },
      {
        "duration": 70,
        "start_time": "2024-04-21T17:07:07.088Z"
      },
      {
        "duration": 26857,
        "start_time": "2024-04-21T17:07:11.147Z"
      },
      {
        "duration": 2705,
        "start_time": "2024-04-21T17:08:35.558Z"
      },
      {
        "duration": 2441,
        "start_time": "2024-04-21T17:09:36.368Z"
      },
      {
        "duration": 42802,
        "start_time": "2024-04-21T17:09:51.288Z"
      },
      {
        "duration": 38178,
        "start_time": "2024-04-21T17:13:22.313Z"
      },
      {
        "duration": 47585,
        "start_time": "2024-04-21T17:14:30.003Z"
      },
      {
        "duration": 8894,
        "start_time": "2024-04-21T17:15:17.591Z"
      },
      {
        "duration": 3732,
        "start_time": "2024-04-21T17:16:28.378Z"
      },
      {
        "duration": 100029,
        "start_time": "2024-04-21T17:18:04.459Z"
      },
      {
        "duration": 125727,
        "start_time": "2024-04-21T17:20:31.268Z"
      },
      {
        "duration": 59116,
        "start_time": "2024-04-21T17:27:00.729Z"
      },
      {
        "duration": 82,
        "start_time": "2024-04-21T17:28:27.557Z"
      },
      {
        "duration": 4265,
        "start_time": "2024-04-21T17:29:45.606Z"
      },
      {
        "duration": 342619,
        "start_time": "2024-04-21T17:31:52.127Z"
      },
      {
        "duration": 5144,
        "start_time": "2024-04-22T07:26:01.666Z"
      },
      {
        "duration": 19,
        "start_time": "2024-04-22T07:26:06.813Z"
      },
      {
        "duration": 1499,
        "start_time": "2024-04-22T07:26:06.834Z"
      },
      {
        "duration": 3,
        "start_time": "2024-04-22T07:26:08.335Z"
      },
      {
        "duration": 50,
        "start_time": "2024-04-22T07:26:08.339Z"
      },
      {
        "duration": 81,
        "start_time": "2024-04-22T07:26:08.391Z"
      },
      {
        "duration": 36,
        "start_time": "2024-04-22T07:26:08.474Z"
      },
      {
        "duration": 1295,
        "start_time": "2024-04-22T07:26:08.513Z"
      },
      {
        "duration": 26,
        "start_time": "2024-04-22T07:26:09.810Z"
      },
      {
        "duration": 196,
        "start_time": "2024-04-22T07:26:09.840Z"
      },
      {
        "duration": 16,
        "start_time": "2024-04-22T07:26:10.037Z"
      },
      {
        "duration": 719,
        "start_time": "2024-04-22T07:26:10.055Z"
      },
      {
        "duration": 8,
        "start_time": "2024-04-22T07:26:10.775Z"
      },
      {
        "duration": 44,
        "start_time": "2024-04-22T07:26:10.793Z"
      },
      {
        "duration": 13,
        "start_time": "2024-04-22T07:26:10.839Z"
      },
      {
        "duration": 322,
        "start_time": "2024-04-22T07:26:10.853Z"
      },
      {
        "duration": 34,
        "start_time": "2024-04-22T07:26:11.177Z"
      },
      {
        "duration": 61,
        "start_time": "2024-04-22T07:26:11.212Z"
      },
      {
        "duration": 46,
        "start_time": "2024-04-22T07:26:11.275Z"
      },
      {
        "duration": 85,
        "start_time": "2024-04-22T07:26:11.322Z"
      },
      {
        "duration": 301,
        "start_time": "2024-04-22T07:26:11.408Z"
      },
      {
        "duration": 85,
        "start_time": "2024-04-22T07:26:11.710Z"
      },
      {
        "duration": 12902,
        "start_time": "2024-04-22T07:26:11.796Z"
      },
      {
        "duration": 17,
        "start_time": "2024-04-22T07:26:24.700Z"
      },
      {
        "duration": 99,
        "start_time": "2024-04-22T07:26:24.719Z"
      },
      {
        "duration": 43211,
        "start_time": "2024-04-22T07:27:08.295Z"
      },
      {
        "duration": 1304,
        "start_time": "2024-04-22T07:44:03.055Z"
      },
      {
        "duration": 17529,
        "start_time": "2024-04-22T07:48:00.780Z"
      },
      {
        "duration": 25453,
        "start_time": "2024-04-22T07:48:43.045Z"
      },
      {
        "duration": 85293,
        "start_time": "2024-04-22T07:50:09.003Z"
      },
      {
        "duration": 2406,
        "start_time": "2024-04-22T08:08:44.189Z"
      },
      {
        "duration": 2,
        "start_time": "2024-04-22T08:10:13.529Z"
      },
      {
        "duration": 3,
        "start_time": "2024-04-22T08:10:27.578Z"
      },
      {
        "duration": 53779,
        "start_time": "2024-04-22T08:12:00.771Z"
      },
      {
        "duration": 4131,
        "start_time": "2024-04-22T08:16:12.901Z"
      },
      {
        "duration": 21,
        "start_time": "2024-04-22T08:16:17.034Z"
      },
      {
        "duration": 1118,
        "start_time": "2024-04-22T08:16:17.056Z"
      },
      {
        "duration": 3,
        "start_time": "2024-04-22T08:16:18.176Z"
      },
      {
        "duration": 92,
        "start_time": "2024-04-22T08:16:18.180Z"
      },
      {
        "duration": 110,
        "start_time": "2024-04-22T08:16:18.273Z"
      },
      {
        "duration": 21,
        "start_time": "2024-04-22T08:16:18.384Z"
      },
      {
        "duration": 1093,
        "start_time": "2024-04-22T08:16:18.407Z"
      },
      {
        "duration": 27,
        "start_time": "2024-04-22T08:16:19.502Z"
      },
      {
        "duration": 123,
        "start_time": "2024-04-22T08:16:19.532Z"
      },
      {
        "duration": 16,
        "start_time": "2024-04-22T08:16:19.656Z"
      },
      {
        "duration": 709,
        "start_time": "2024-04-22T08:16:19.674Z"
      },
      {
        "duration": 10,
        "start_time": "2024-04-22T08:16:20.393Z"
      },
      {
        "duration": 42,
        "start_time": "2024-04-22T08:16:20.404Z"
      },
      {
        "duration": 15,
        "start_time": "2024-04-22T08:16:20.448Z"
      },
      {
        "duration": 313,
        "start_time": "2024-04-22T08:16:20.465Z"
      },
      {
        "duration": 32,
        "start_time": "2024-04-22T08:16:20.780Z"
      },
      {
        "duration": 84,
        "start_time": "2024-04-22T08:16:20.814Z"
      },
      {
        "duration": 36,
        "start_time": "2024-04-22T08:16:20.900Z"
      },
      {
        "duration": 99,
        "start_time": "2024-04-22T08:16:20.937Z"
      },
      {
        "duration": 363,
        "start_time": "2024-04-22T08:16:21.038Z"
      },
      {
        "duration": 110,
        "start_time": "2024-04-22T08:16:21.403Z"
      },
      {
        "duration": 13863,
        "start_time": "2024-04-22T08:16:21.515Z"
      },
      {
        "duration": 17,
        "start_time": "2024-04-22T08:16:35.380Z"
      },
      {
        "duration": 1378,
        "start_time": "2024-04-22T08:16:35.399Z"
      },
      {
        "duration": 7637,
        "start_time": "2024-04-22T08:16:36.778Z"
      },
      {
        "duration": 92992,
        "start_time": "2024-04-22T08:16:44.417Z"
      },
      {
        "duration": 34199,
        "start_time": "2024-04-22T08:18:17.412Z"
      },
      {
        "duration": 2475,
        "start_time": "2024-04-22T08:18:51.612Z"
      },
      {
        "duration": 52501,
        "start_time": "2024-04-22T08:18:54.089Z"
      },
      {
        "duration": 26409,
        "start_time": "2024-04-22T08:19:46.592Z"
      },
      {
        "duration": 4,
        "start_time": "2024-04-22T08:20:13.002Z"
      },
      {
        "duration": 2605,
        "start_time": "2024-04-22T11:21:53.173Z"
      },
      {
        "duration": 18,
        "start_time": "2024-04-22T11:21:55.781Z"
      },
      {
        "duration": 1404,
        "start_time": "2024-04-22T11:21:55.801Z"
      },
      {
        "duration": 4,
        "start_time": "2024-04-22T11:21:57.207Z"
      },
      {
        "duration": 345,
        "start_time": "2024-04-22T11:21:57.213Z"
      },
      {
        "duration": 98,
        "start_time": "2024-04-22T11:21:57.559Z"
      },
      {
        "duration": 17,
        "start_time": "2024-04-22T11:21:57.658Z"
      },
      {
        "duration": 1224,
        "start_time": "2024-04-22T11:21:57.676Z"
      },
      {
        "duration": 28,
        "start_time": "2024-04-22T11:21:58.902Z"
      },
      {
        "duration": 124,
        "start_time": "2024-04-22T11:21:58.934Z"
      },
      {
        "duration": 16,
        "start_time": "2024-04-22T11:21:59.060Z"
      },
      {
        "duration": 658,
        "start_time": "2024-04-22T11:21:59.078Z"
      },
      {
        "duration": 8,
        "start_time": "2024-04-22T11:21:59.738Z"
      },
      {
        "duration": 55,
        "start_time": "2024-04-22T11:21:59.748Z"
      },
      {
        "duration": 14,
        "start_time": "2024-04-22T11:21:59.804Z"
      },
      {
        "duration": 342,
        "start_time": "2024-04-22T11:21:59.820Z"
      },
      {
        "duration": 37,
        "start_time": "2024-04-22T11:22:00.163Z"
      },
      {
        "duration": 113,
        "start_time": "2024-04-22T11:22:00.201Z"
      },
      {
        "duration": 188,
        "start_time": "2024-04-22T11:22:00.316Z"
      },
      {
        "duration": 212,
        "start_time": "2024-04-22T11:22:00.506Z"
      },
      {
        "duration": 395,
        "start_time": "2024-04-22T11:22:00.720Z"
      },
      {
        "duration": 88,
        "start_time": "2024-04-22T11:22:01.117Z"
      },
      {
        "duration": 14174,
        "start_time": "2024-04-22T11:22:01.206Z"
      },
      {
        "duration": 17,
        "start_time": "2024-04-22T11:22:15.382Z"
      },
      {
        "duration": 207,
        "start_time": "2024-04-22T11:22:15.402Z"
      },
      {
        "duration": 13,
        "start_time": "2024-04-22T11:22:26.374Z"
      },
      {
        "duration": 4,
        "start_time": "2024-04-22T11:22:34.579Z"
      },
      {
        "duration": 1605,
        "start_time": "2024-04-22T11:29:14.819Z"
      },
      {
        "duration": 3984,
        "start_time": "2024-04-22T11:40:38.026Z"
      },
      {
        "duration": 18,
        "start_time": "2024-04-22T11:40:42.012Z"
      },
      {
        "duration": 1027,
        "start_time": "2024-04-22T11:40:42.032Z"
      },
      {
        "duration": 3,
        "start_time": "2024-04-22T11:40:43.062Z"
      },
      {
        "duration": 84,
        "start_time": "2024-04-22T11:40:43.066Z"
      },
      {
        "duration": 116,
        "start_time": "2024-04-22T11:40:43.152Z"
      },
      {
        "duration": 26,
        "start_time": "2024-04-22T11:40:43.269Z"
      },
      {
        "duration": 1088,
        "start_time": "2024-04-22T11:40:43.296Z"
      },
      {
        "duration": 26,
        "start_time": "2024-04-22T11:40:44.394Z"
      },
      {
        "duration": 125,
        "start_time": "2024-04-22T11:40:44.424Z"
      },
      {
        "duration": 16,
        "start_time": "2024-04-22T11:40:44.551Z"
      },
      {
        "duration": 730,
        "start_time": "2024-04-22T11:40:44.569Z"
      },
      {
        "duration": 8,
        "start_time": "2024-04-22T11:40:45.301Z"
      },
      {
        "duration": 156,
        "start_time": "2024-04-22T11:40:45.310Z"
      },
      {
        "duration": 179,
        "start_time": "2024-04-22T11:40:45.468Z"
      },
      {
        "duration": 324,
        "start_time": "2024-04-22T11:40:45.649Z"
      },
      {
        "duration": 35,
        "start_time": "2024-04-22T11:40:45.974Z"
      },
      {
        "duration": 62,
        "start_time": "2024-04-22T11:40:46.011Z"
      },
      {
        "duration": 47,
        "start_time": "2024-04-22T11:40:46.075Z"
      },
      {
        "duration": 91,
        "start_time": "2024-04-22T11:40:46.124Z"
      },
      {
        "duration": 354,
        "start_time": "2024-04-22T11:40:46.217Z"
      },
      {
        "duration": 81,
        "start_time": "2024-04-22T11:40:46.573Z"
      },
      {
        "duration": 13370,
        "start_time": "2024-04-22T11:40:46.656Z"
      },
      {
        "duration": 17,
        "start_time": "2024-04-22T11:41:00.028Z"
      },
      {
        "duration": 1484,
        "start_time": "2024-04-22T11:41:00.046Z"
      },
      {
        "duration": 7435,
        "start_time": "2024-04-22T11:41:01.532Z"
      },
      {
        "duration": 93378,
        "start_time": "2024-04-22T11:41:08.969Z"
      },
      {
        "duration": 361873,
        "start_time": "2024-04-22T11:42:42.351Z"
      },
      {
        "duration": 811,
        "start_time": "2024-04-22T11:48:44.226Z"
      },
      {
        "duration": 0,
        "start_time": "2024-04-22T11:48:45.040Z"
      },
      {
        "duration": 0,
        "start_time": "2024-04-22T11:48:45.042Z"
      },
      {
        "duration": 0,
        "start_time": "2024-04-22T11:48:45.045Z"
      },
      {
        "duration": 4302,
        "start_time": "2024-04-22T11:50:36.940Z"
      },
      {
        "duration": 19,
        "start_time": "2024-04-22T11:50:41.245Z"
      },
      {
        "duration": 1246,
        "start_time": "2024-04-22T11:50:41.266Z"
      },
      {
        "duration": 4,
        "start_time": "2024-04-22T11:50:42.515Z"
      },
      {
        "duration": 69,
        "start_time": "2024-04-22T11:50:42.522Z"
      },
      {
        "duration": 80,
        "start_time": "2024-04-22T11:50:42.592Z"
      },
      {
        "duration": 31,
        "start_time": "2024-04-22T11:50:42.674Z"
      },
      {
        "duration": 1154,
        "start_time": "2024-04-22T11:50:42.707Z"
      },
      {
        "duration": 36,
        "start_time": "2024-04-22T11:50:43.863Z"
      },
      {
        "duration": 140,
        "start_time": "2024-04-22T11:50:43.904Z"
      },
      {
        "duration": 16,
        "start_time": "2024-04-22T11:50:44.045Z"
      },
      {
        "duration": 745,
        "start_time": "2024-04-22T11:50:44.062Z"
      },
      {
        "duration": 9,
        "start_time": "2024-04-22T11:50:44.809Z"
      },
      {
        "duration": 47,
        "start_time": "2024-04-22T11:50:44.820Z"
      },
      {
        "duration": 26,
        "start_time": "2024-04-22T11:50:44.869Z"
      },
      {
        "duration": 377,
        "start_time": "2024-04-22T11:50:44.897Z"
      },
      {
        "duration": 32,
        "start_time": "2024-04-22T11:50:45.275Z"
      },
      {
        "duration": 138,
        "start_time": "2024-04-22T11:50:45.309Z"
      },
      {
        "duration": 63,
        "start_time": "2024-04-22T11:50:45.449Z"
      },
      {
        "duration": 100,
        "start_time": "2024-04-22T11:50:45.514Z"
      },
      {
        "duration": 354,
        "start_time": "2024-04-22T11:50:45.616Z"
      },
      {
        "duration": 93,
        "start_time": "2024-04-22T11:50:45.971Z"
      },
      {
        "duration": 15984,
        "start_time": "2024-04-22T11:50:46.066Z"
      },
      {
        "duration": 21,
        "start_time": "2024-04-22T11:51:02.052Z"
      },
      {
        "duration": 1498,
        "start_time": "2024-04-22T11:51:02.075Z"
      },
      {
        "duration": 7914,
        "start_time": "2024-04-22T11:51:03.574Z"
      },
      {
        "duration": 97445,
        "start_time": "2024-04-22T11:51:11.494Z"
      },
      {
        "duration": 437764,
        "start_time": "2024-04-22T11:52:48.943Z"
      },
      {
        "duration": 0,
        "start_time": "2024-04-22T12:00:06.709Z"
      },
      {
        "duration": 1,
        "start_time": "2024-04-22T12:00:06.710Z"
      },
      {
        "duration": 0,
        "start_time": "2024-04-22T12:00:06.713Z"
      },
      {
        "duration": 0,
        "start_time": "2024-04-22T12:00:06.715Z"
      },
      {
        "duration": 4092,
        "start_time": "2024-04-22T12:00:42.637Z"
      },
      {
        "duration": 24,
        "start_time": "2024-04-22T12:00:46.733Z"
      },
      {
        "duration": 1135,
        "start_time": "2024-04-22T12:00:46.760Z"
      },
      {
        "duration": 3,
        "start_time": "2024-04-22T12:00:47.897Z"
      },
      {
        "duration": 83,
        "start_time": "2024-04-22T12:00:47.901Z"
      },
      {
        "duration": 87,
        "start_time": "2024-04-22T12:00:47.986Z"
      },
      {
        "duration": 31,
        "start_time": "2024-04-22T12:00:48.075Z"
      },
      {
        "duration": 1088,
        "start_time": "2024-04-22T12:00:48.108Z"
      },
      {
        "duration": 27,
        "start_time": "2024-04-22T12:00:49.198Z"
      },
      {
        "duration": 133,
        "start_time": "2024-04-22T12:00:49.227Z"
      },
      {
        "duration": 16,
        "start_time": "2024-04-22T12:00:49.361Z"
      },
      {
        "duration": 741,
        "start_time": "2024-04-22T12:00:49.378Z"
      },
      {
        "duration": 8,
        "start_time": "2024-04-22T12:00:50.121Z"
      },
      {
        "duration": 68,
        "start_time": "2024-04-22T12:00:50.131Z"
      },
      {
        "duration": 39,
        "start_time": "2024-04-22T12:00:50.200Z"
      },
      {
        "duration": 340,
        "start_time": "2024-04-22T12:00:50.241Z"
      },
      {
        "duration": 31,
        "start_time": "2024-04-22T12:00:50.583Z"
      },
      {
        "duration": 81,
        "start_time": "2024-04-22T12:00:50.616Z"
      },
      {
        "duration": 36,
        "start_time": "2024-04-22T12:00:50.698Z"
      },
      {
        "duration": 91,
        "start_time": "2024-04-22T12:00:50.736Z"
      },
      {
        "duration": 390,
        "start_time": "2024-04-22T12:00:50.828Z"
      },
      {
        "duration": 99,
        "start_time": "2024-04-22T12:00:51.221Z"
      },
      {
        "duration": 9867,
        "start_time": "2024-04-22T12:00:51.322Z"
      },
      {
        "duration": 0,
        "start_time": "2024-04-22T12:01:01.190Z"
      },
      {
        "duration": 0,
        "start_time": "2024-04-22T12:01:01.192Z"
      },
      {
        "duration": 0,
        "start_time": "2024-04-22T12:01:01.193Z"
      },
      {
        "duration": 0,
        "start_time": "2024-04-22T12:01:01.194Z"
      },
      {
        "duration": 0,
        "start_time": "2024-04-22T12:01:01.195Z"
      },
      {
        "duration": 0,
        "start_time": "2024-04-22T12:01:01.196Z"
      },
      {
        "duration": 0,
        "start_time": "2024-04-22T12:01:01.197Z"
      },
      {
        "duration": 0,
        "start_time": "2024-04-22T12:01:01.198Z"
      },
      {
        "duration": 0,
        "start_time": "2024-04-22T12:01:01.199Z"
      },
      {
        "duration": 2652,
        "start_time": "2024-04-22T12:02:51.036Z"
      },
      {
        "duration": 19,
        "start_time": "2024-04-22T12:02:53.691Z"
      },
      {
        "duration": 1058,
        "start_time": "2024-04-22T12:02:53.712Z"
      },
      {
        "duration": 3,
        "start_time": "2024-04-22T12:02:54.773Z"
      },
      {
        "duration": 53,
        "start_time": "2024-04-22T12:02:54.777Z"
      },
      {
        "duration": 108,
        "start_time": "2024-04-22T12:02:54.832Z"
      },
      {
        "duration": 18,
        "start_time": "2024-04-22T12:02:54.942Z"
      },
      {
        "duration": 1123,
        "start_time": "2024-04-22T12:02:54.962Z"
      },
      {
        "duration": 27,
        "start_time": "2024-04-22T12:02:56.093Z"
      },
      {
        "duration": 120,
        "start_time": "2024-04-22T12:02:56.122Z"
      },
      {
        "duration": 16,
        "start_time": "2024-04-22T12:02:56.243Z"
      },
      {
        "duration": 633,
        "start_time": "2024-04-22T12:02:56.261Z"
      },
      {
        "duration": 9,
        "start_time": "2024-04-22T12:02:56.895Z"
      },
      {
        "duration": 47,
        "start_time": "2024-04-22T12:02:56.905Z"
      },
      {
        "duration": 31,
        "start_time": "2024-04-22T12:02:56.954Z"
      },
      {
        "duration": 333,
        "start_time": "2024-04-22T12:02:56.986Z"
      },
      {
        "duration": 23,
        "start_time": "2024-04-22T12:02:57.320Z"
      },
      {
        "duration": 98,
        "start_time": "2024-04-22T12:02:57.344Z"
      },
      {
        "duration": 56,
        "start_time": "2024-04-22T12:02:57.443Z"
      },
      {
        "duration": 93,
        "start_time": "2024-04-22T12:02:57.501Z"
      },
      {
        "duration": 317,
        "start_time": "2024-04-22T12:02:57.596Z"
      },
      {
        "duration": 91,
        "start_time": "2024-04-22T12:02:57.914Z"
      },
      {
        "duration": 6897,
        "start_time": "2024-04-22T12:03:13.133Z"
      },
      {
        "duration": 4205,
        "start_time": "2024-04-22T12:05:09.843Z"
      },
      {
        "duration": 22,
        "start_time": "2024-04-22T12:05:14.051Z"
      },
      {
        "duration": 1127,
        "start_time": "2024-04-22T12:05:14.075Z"
      },
      {
        "duration": 4,
        "start_time": "2024-04-22T12:05:15.204Z"
      },
      {
        "duration": 197,
        "start_time": "2024-04-22T12:05:15.210Z"
      },
      {
        "duration": 216,
        "start_time": "2024-04-22T12:05:15.408Z"
      },
      {
        "duration": 19,
        "start_time": "2024-04-22T12:05:15.626Z"
      },
      {
        "duration": 1175,
        "start_time": "2024-04-22T12:05:15.646Z"
      },
      {
        "duration": 32,
        "start_time": "2024-04-22T12:05:16.823Z"
      },
      {
        "duration": 138,
        "start_time": "2024-04-22T12:05:16.857Z"
      },
      {
        "duration": 22,
        "start_time": "2024-04-22T12:05:16.997Z"
      },
      {
        "duration": 783,
        "start_time": "2024-04-22T12:05:17.020Z"
      },
      {
        "duration": 9,
        "start_time": "2024-04-22T12:05:17.805Z"
      },
      {
        "duration": 57,
        "start_time": "2024-04-22T12:05:17.816Z"
      },
      {
        "duration": 15,
        "start_time": "2024-04-22T12:05:17.874Z"
      },
      {
        "duration": 330,
        "start_time": "2024-04-22T12:05:17.895Z"
      },
      {
        "duration": 24,
        "start_time": "2024-04-22T12:05:18.226Z"
      },
      {
        "duration": 89,
        "start_time": "2024-04-22T12:05:18.251Z"
      },
      {
        "duration": 58,
        "start_time": "2024-04-22T12:05:18.341Z"
      },
      {
        "duration": 101,
        "start_time": "2024-04-22T12:05:18.401Z"
      },
      {
        "duration": 429,
        "start_time": "2024-04-22T12:05:18.505Z"
      },
      {
        "duration": 113,
        "start_time": "2024-04-22T12:05:18.936Z"
      },
      {
        "duration": 7313,
        "start_time": "2024-04-22T12:05:19.050Z"
      },
      {
        "duration": 0,
        "start_time": "2024-04-22T12:05:26.365Z"
      },
      {
        "duration": 0,
        "start_time": "2024-04-22T12:05:26.366Z"
      },
      {
        "duration": 0,
        "start_time": "2024-04-22T12:05:26.367Z"
      },
      {
        "duration": 0,
        "start_time": "2024-04-22T12:05:26.368Z"
      },
      {
        "duration": 0,
        "start_time": "2024-04-22T12:05:26.369Z"
      },
      {
        "duration": 0,
        "start_time": "2024-04-22T12:05:26.370Z"
      },
      {
        "duration": 0,
        "start_time": "2024-04-22T12:05:26.371Z"
      },
      {
        "duration": 0,
        "start_time": "2024-04-22T12:05:26.372Z"
      },
      {
        "duration": 0,
        "start_time": "2024-04-22T12:05:26.373Z"
      },
      {
        "duration": 4377,
        "start_time": "2024-04-22T12:06:54.502Z"
      },
      {
        "duration": 21,
        "start_time": "2024-04-22T12:06:58.882Z"
      },
      {
        "duration": 1189,
        "start_time": "2024-04-22T12:06:58.906Z"
      },
      {
        "duration": 4,
        "start_time": "2024-04-22T12:07:00.097Z"
      },
      {
        "duration": 103,
        "start_time": "2024-04-22T12:07:00.102Z"
      },
      {
        "duration": 155,
        "start_time": "2024-04-22T12:07:00.207Z"
      },
      {
        "duration": 19,
        "start_time": "2024-04-22T12:07:00.364Z"
      },
      {
        "duration": 1330,
        "start_time": "2024-04-22T12:07:00.395Z"
      },
      {
        "duration": 27,
        "start_time": "2024-04-22T12:07:01.727Z"
      },
      {
        "duration": 377,
        "start_time": "2024-04-22T12:07:01.757Z"
      },
      {
        "duration": 113,
        "start_time": "2024-04-22T12:07:02.136Z"
      },
      {
        "duration": 751,
        "start_time": "2024-04-22T12:07:02.251Z"
      },
      {
        "duration": 13,
        "start_time": "2024-04-22T12:07:03.003Z"
      },
      {
        "duration": 129,
        "start_time": "2024-04-22T12:07:03.018Z"
      },
      {
        "duration": 33,
        "start_time": "2024-04-22T12:07:03.148Z"
      },
      {
        "duration": 430,
        "start_time": "2024-04-22T12:07:03.183Z"
      },
      {
        "duration": 29,
        "start_time": "2024-04-22T12:07:03.617Z"
      },
      {
        "duration": 140,
        "start_time": "2024-04-22T12:07:03.648Z"
      },
      {
        "duration": 45,
        "start_time": "2024-04-22T12:07:03.790Z"
      },
      {
        "duration": 111,
        "start_time": "2024-04-22T12:07:03.837Z"
      },
      {
        "duration": 381,
        "start_time": "2024-04-22T12:07:03.949Z"
      },
      {
        "duration": 98,
        "start_time": "2024-04-22T12:07:04.332Z"
      },
      {
        "duration": 8594,
        "start_time": "2024-04-22T12:07:04.432Z"
      },
      {
        "duration": 17,
        "start_time": "2024-04-22T12:07:13.028Z"
      },
      {
        "duration": 1462,
        "start_time": "2024-04-22T12:07:13.046Z"
      },
      {
        "duration": 8161,
        "start_time": "2024-04-22T12:07:14.509Z"
      },
      {
        "duration": 104560,
        "start_time": "2024-04-22T12:07:22.672Z"
      },
      {
        "duration": 940562,
        "start_time": "2024-04-22T12:09:07.235Z"
      },
      {
        "duration": 0,
        "start_time": "2024-04-22T12:24:47.800Z"
      },
      {
        "duration": 0,
        "start_time": "2024-04-22T12:24:47.801Z"
      },
      {
        "duration": 0,
        "start_time": "2024-04-22T12:24:47.803Z"
      },
      {
        "duration": 0,
        "start_time": "2024-04-22T12:24:47.804Z"
      },
      {
        "duration": 100875,
        "start_time": "2024-04-22T12:24:58.747Z"
      },
      {
        "duration": 3917,
        "start_time": "2024-04-22T13:01:52.057Z"
      },
      {
        "duration": 19,
        "start_time": "2024-04-22T13:01:55.976Z"
      },
      {
        "duration": 1021,
        "start_time": "2024-04-22T13:01:55.996Z"
      },
      {
        "duration": 4,
        "start_time": "2024-04-22T13:01:57.019Z"
      },
      {
        "duration": 46,
        "start_time": "2024-04-22T13:01:57.024Z"
      },
      {
        "duration": 83,
        "start_time": "2024-04-22T13:01:57.072Z"
      },
      {
        "duration": 17,
        "start_time": "2024-04-22T13:01:57.157Z"
      },
      {
        "duration": 1175,
        "start_time": "2024-04-22T13:01:57.176Z"
      },
      {
        "duration": 24,
        "start_time": "2024-04-22T13:01:58.353Z"
      },
      {
        "duration": 101,
        "start_time": "2024-04-22T13:01:58.380Z"
      },
      {
        "duration": 24,
        "start_time": "2024-04-22T13:01:58.483Z"
      },
      {
        "duration": 599,
        "start_time": "2024-04-22T13:01:58.508Z"
      },
      {
        "duration": 8,
        "start_time": "2024-04-22T13:01:59.109Z"
      },
      {
        "duration": 92,
        "start_time": "2024-04-22T13:01:59.118Z"
      },
      {
        "duration": 24,
        "start_time": "2024-04-22T13:01:59.212Z"
      },
      {
        "duration": 343,
        "start_time": "2024-04-22T13:01:59.238Z"
      },
      {
        "duration": 31,
        "start_time": "2024-04-22T13:01:59.582Z"
      },
      {
        "duration": 61,
        "start_time": "2024-04-22T13:01:59.615Z"
      },
      {
        "duration": 34,
        "start_time": "2024-04-22T13:01:59.693Z"
      },
      {
        "duration": 85,
        "start_time": "2024-04-22T13:01:59.729Z"
      },
      {
        "duration": 338,
        "start_time": "2024-04-22T13:01:59.816Z"
      },
      {
        "duration": 80,
        "start_time": "2024-04-22T13:02:00.156Z"
      },
      {
        "duration": 7248,
        "start_time": "2024-04-22T13:02:00.238Z"
      },
      {
        "duration": 21,
        "start_time": "2024-04-22T13:02:07.488Z"
      },
      {
        "duration": 1352,
        "start_time": "2024-04-22T13:02:07.511Z"
      },
      {
        "duration": 8148,
        "start_time": "2024-04-22T13:02:08.865Z"
      },
      {
        "duration": 89573,
        "start_time": "2024-04-22T13:02:17.014Z"
      },
      {
        "duration": 35202,
        "start_time": "2024-04-22T13:03:46.593Z"
      },
      {
        "duration": 2356,
        "start_time": "2024-04-22T13:04:21.797Z"
      },
      {
        "duration": 9783,
        "start_time": "2024-04-22T15:12:59.856Z"
      },
      {
        "duration": 19,
        "start_time": "2024-04-22T15:13:09.641Z"
      },
      {
        "duration": 2987,
        "start_time": "2024-04-22T15:13:09.662Z"
      },
      {
        "duration": 3,
        "start_time": "2024-04-22T15:13:12.651Z"
      },
      {
        "duration": 50,
        "start_time": "2024-04-22T15:13:12.656Z"
      },
      {
        "duration": 76,
        "start_time": "2024-04-22T15:13:12.708Z"
      },
      {
        "duration": 16,
        "start_time": "2024-04-22T15:13:12.786Z"
      },
      {
        "duration": 1116,
        "start_time": "2024-04-22T15:13:12.804Z"
      },
      {
        "duration": 26,
        "start_time": "2024-04-22T15:13:13.922Z"
      },
      {
        "duration": 114,
        "start_time": "2024-04-22T15:13:13.951Z"
      },
      {
        "duration": 15,
        "start_time": "2024-04-22T15:13:14.066Z"
      },
      {
        "duration": 605,
        "start_time": "2024-04-22T15:13:14.083Z"
      },
      {
        "duration": 8,
        "start_time": "2024-04-22T15:13:14.689Z"
      },
      {
        "duration": 35,
        "start_time": "2024-04-22T15:13:14.699Z"
      },
      {
        "duration": 39,
        "start_time": "2024-04-22T15:13:14.735Z"
      },
      {
        "duration": 270,
        "start_time": "2024-04-22T15:13:14.776Z"
      },
      {
        "duration": 22,
        "start_time": "2024-04-22T15:13:15.066Z"
      },
      {
        "duration": 113,
        "start_time": "2024-04-22T15:13:15.090Z"
      },
      {
        "duration": 34,
        "start_time": "2024-04-22T15:13:15.204Z"
      },
      {
        "duration": 95,
        "start_time": "2024-04-22T15:13:15.240Z"
      },
      {
        "duration": 311,
        "start_time": "2024-04-22T15:13:15.337Z"
      },
      {
        "duration": 87,
        "start_time": "2024-04-22T15:13:15.650Z"
      },
      {
        "duration": 6225,
        "start_time": "2024-04-22T15:13:15.739Z"
      },
      {
        "duration": 16,
        "start_time": "2024-04-22T15:13:21.965Z"
      },
      {
        "duration": 1261,
        "start_time": "2024-04-22T15:13:21.983Z"
      },
      {
        "duration": 7125,
        "start_time": "2024-04-22T15:13:23.246Z"
      },
      {
        "duration": 86478,
        "start_time": "2024-04-22T15:13:30.373Z"
      },
      {
        "duration": 34127,
        "start_time": "2024-04-22T15:14:56.854Z"
      },
      {
        "duration": 2374,
        "start_time": "2024-04-22T15:15:30.983Z"
      },
      {
        "duration": 48874,
        "start_time": "2024-04-22T15:15:33.359Z"
      },
      {
        "duration": 24438,
        "start_time": "2024-04-22T15:16:22.234Z"
      },
      {
        "duration": 3,
        "start_time": "2024-04-22T15:16:46.674Z"
      },
      {
        "duration": 5634,
        "start_time": "2024-04-23T06:05:25.903Z"
      },
      {
        "duration": 20,
        "start_time": "2024-04-23T06:05:31.539Z"
      },
      {
        "duration": 1553,
        "start_time": "2024-04-23T06:05:31.561Z"
      },
      {
        "duration": 3,
        "start_time": "2024-04-23T06:05:33.116Z"
      },
      {
        "duration": 68,
        "start_time": "2024-04-23T06:05:33.120Z"
      },
      {
        "duration": 107,
        "start_time": "2024-04-23T06:05:33.190Z"
      },
      {
        "duration": 17,
        "start_time": "2024-04-23T06:05:33.299Z"
      },
      {
        "duration": 1153,
        "start_time": "2024-04-23T06:05:33.318Z"
      },
      {
        "duration": 38,
        "start_time": "2024-04-23T06:05:34.473Z"
      },
      {
        "duration": 111,
        "start_time": "2024-04-23T06:05:34.513Z"
      },
      {
        "duration": 15,
        "start_time": "2024-04-23T06:05:34.626Z"
      },
      {
        "duration": 671,
        "start_time": "2024-04-23T06:05:34.642Z"
      },
      {
        "duration": 8,
        "start_time": "2024-04-23T06:05:35.315Z"
      },
      {
        "duration": 85,
        "start_time": "2024-04-23T06:05:35.324Z"
      },
      {
        "duration": 13,
        "start_time": "2024-04-23T06:05:35.411Z"
      },
      {
        "duration": 325,
        "start_time": "2024-04-23T06:05:35.425Z"
      },
      {
        "duration": 22,
        "start_time": "2024-04-23T06:05:35.752Z"
      },
      {
        "duration": 76,
        "start_time": "2024-04-23T06:05:35.775Z"
      },
      {
        "duration": 50,
        "start_time": "2024-04-23T06:05:35.853Z"
      },
      {
        "duration": 73,
        "start_time": "2024-04-23T06:05:35.904Z"
      },
      {
        "duration": 320,
        "start_time": "2024-04-23T06:05:35.979Z"
      },
      {
        "duration": 75,
        "start_time": "2024-04-23T06:05:36.300Z"
      },
      {
        "duration": 118,
        "start_time": "2024-04-23T06:08:20.479Z"
      },
      {
        "duration": 224,
        "start_time": "2024-04-23T06:08:48.928Z"
      },
      {
        "duration": 5675,
        "start_time": "2024-04-23T06:09:57.600Z"
      },
      {
        "duration": 15945,
        "start_time": "2024-04-23T06:10:49.448Z"
      },
      {
        "duration": 2812,
        "start_time": "2024-04-23T06:22:27.487Z"
      },
      {
        "duration": 2404,
        "start_time": "2024-04-23T06:23:00.740Z"
      },
      {
        "duration": 18,
        "start_time": "2024-04-23T06:23:03.146Z"
      },
      {
        "duration": 1074,
        "start_time": "2024-04-23T06:23:03.166Z"
      },
      {
        "duration": 3,
        "start_time": "2024-04-23T06:23:04.242Z"
      },
      {
        "duration": 154,
        "start_time": "2024-04-23T06:23:04.247Z"
      },
      {
        "duration": 0,
        "start_time": "2024-04-23T06:23:04.403Z"
      },
      {
        "duration": 0,
        "start_time": "2024-04-23T06:23:04.404Z"
      },
      {
        "duration": 0,
        "start_time": "2024-04-23T06:23:04.405Z"
      },
      {
        "duration": 0,
        "start_time": "2024-04-23T06:23:04.406Z"
      },
      {
        "duration": 377,
        "start_time": "2024-04-23T06:23:12.886Z"
      },
      {
        "duration": 36,
        "start_time": "2024-04-23T06:23:47.909Z"
      },
      {
        "duration": 20,
        "start_time": "2024-04-23T06:25:00.163Z"
      },
      {
        "duration": 38,
        "start_time": "2024-04-23T06:26:43.628Z"
      },
      {
        "duration": 29,
        "start_time": "2024-04-23T06:26:49.023Z"
      },
      {
        "duration": 23,
        "start_time": "2024-04-23T06:27:10.438Z"
      },
      {
        "duration": 21,
        "start_time": "2024-04-23T06:27:18.329Z"
      },
      {
        "duration": 21,
        "start_time": "2024-04-23T06:28:04.406Z"
      },
      {
        "duration": 25,
        "start_time": "2024-04-23T06:28:20.088Z"
      },
      {
        "duration": 23,
        "start_time": "2024-04-23T06:28:36.632Z"
      },
      {
        "duration": 27,
        "start_time": "2024-04-23T06:29:40.481Z"
      },
      {
        "duration": 22,
        "start_time": "2024-04-23T06:29:48.089Z"
      },
      {
        "duration": 114,
        "start_time": "2024-04-23T06:31:01.063Z"
      },
      {
        "duration": 193,
        "start_time": "2024-04-23T07:03:42.347Z"
      },
      {
        "duration": 2473,
        "start_time": "2024-04-23T07:06:47.954Z"
      },
      {
        "duration": 18,
        "start_time": "2024-04-23T07:06:50.430Z"
      },
      {
        "duration": 1011,
        "start_time": "2024-04-23T07:06:50.449Z"
      },
      {
        "duration": 3,
        "start_time": "2024-04-23T07:06:51.462Z"
      },
      {
        "duration": 111,
        "start_time": "2024-04-23T07:06:51.466Z"
      },
      {
        "duration": 0,
        "start_time": "2024-04-23T07:06:51.579Z"
      },
      {
        "duration": 0,
        "start_time": "2024-04-23T07:06:51.580Z"
      },
      {
        "duration": 0,
        "start_time": "2024-04-23T07:06:51.581Z"
      },
      {
        "duration": 0,
        "start_time": "2024-04-23T07:06:51.582Z"
      },
      {
        "duration": 0,
        "start_time": "2024-04-23T07:06:51.583Z"
      },
      {
        "duration": 0,
        "start_time": "2024-04-23T07:06:51.584Z"
      },
      {
        "duration": 0,
        "start_time": "2024-04-23T07:06:51.585Z"
      },
      {
        "duration": 0,
        "start_time": "2024-04-23T07:06:51.587Z"
      },
      {
        "duration": 0,
        "start_time": "2024-04-23T07:06:51.588Z"
      },
      {
        "duration": 0,
        "start_time": "2024-04-23T07:06:51.589Z"
      },
      {
        "duration": 0,
        "start_time": "2024-04-23T07:06:51.590Z"
      },
      {
        "duration": 0,
        "start_time": "2024-04-23T07:06:51.590Z"
      },
      {
        "duration": 0,
        "start_time": "2024-04-23T07:06:51.592Z"
      },
      {
        "duration": 158,
        "start_time": "2024-04-23T07:07:51.871Z"
      },
      {
        "duration": 38,
        "start_time": "2024-04-23T07:08:11.211Z"
      },
      {
        "duration": 29,
        "start_time": "2024-04-23T07:08:36.594Z"
      },
      {
        "duration": 18,
        "start_time": "2024-04-23T07:08:42.316Z"
      },
      {
        "duration": 356,
        "start_time": "2024-04-23T07:12:06.193Z"
      },
      {
        "duration": 43,
        "start_time": "2024-04-23T07:12:12.763Z"
      },
      {
        "duration": 22,
        "start_time": "2024-04-23T07:12:21.392Z"
      },
      {
        "duration": 18,
        "start_time": "2024-04-23T07:12:25.233Z"
      },
      {
        "duration": 1241,
        "start_time": "2024-04-23T07:22:46.663Z"
      },
      {
        "duration": 2432,
        "start_time": "2024-04-23T07:22:56.977Z"
      },
      {
        "duration": 20,
        "start_time": "2024-04-23T07:22:59.412Z"
      },
      {
        "duration": 968,
        "start_time": "2024-04-23T07:22:59.433Z"
      },
      {
        "duration": 3,
        "start_time": "2024-04-23T07:23:00.403Z"
      },
      {
        "duration": 131,
        "start_time": "2024-04-23T07:23:00.408Z"
      },
      {
        "duration": 0,
        "start_time": "2024-04-23T07:23:00.541Z"
      },
      {
        "duration": 0,
        "start_time": "2024-04-23T07:23:00.542Z"
      },
      {
        "duration": 0,
        "start_time": "2024-04-23T07:23:00.543Z"
      },
      {
        "duration": 0,
        "start_time": "2024-04-23T07:23:00.544Z"
      },
      {
        "duration": 0,
        "start_time": "2024-04-23T07:23:00.545Z"
      },
      {
        "duration": 0,
        "start_time": "2024-04-23T07:23:00.546Z"
      },
      {
        "duration": 0,
        "start_time": "2024-04-23T07:23:00.547Z"
      },
      {
        "duration": 0,
        "start_time": "2024-04-23T07:23:00.548Z"
      },
      {
        "duration": 0,
        "start_time": "2024-04-23T07:23:00.549Z"
      },
      {
        "duration": 0,
        "start_time": "2024-04-23T07:23:00.550Z"
      },
      {
        "duration": 0,
        "start_time": "2024-04-23T07:23:00.551Z"
      },
      {
        "duration": 0,
        "start_time": "2024-04-23T07:23:00.551Z"
      },
      {
        "duration": 1,
        "start_time": "2024-04-23T07:23:00.552Z"
      },
      {
        "duration": 0,
        "start_time": "2024-04-23T07:23:00.553Z"
      },
      {
        "duration": 1872,
        "start_time": "2024-04-23T07:23:07.471Z"
      },
      {
        "duration": 1516,
        "start_time": "2024-04-23T07:23:36.752Z"
      },
      {
        "duration": 26,
        "start_time": "2024-04-23T07:24:15.345Z"
      },
      {
        "duration": 68,
        "start_time": "2024-04-23T07:24:34.673Z"
      },
      {
        "duration": 48,
        "start_time": "2024-04-23T07:25:14.034Z"
      },
      {
        "duration": 77,
        "start_time": "2024-04-23T07:25:16.601Z"
      },
      {
        "duration": 27,
        "start_time": "2024-04-23T07:26:03.493Z"
      },
      {
        "duration": 78,
        "start_time": "2024-04-23T07:34:20.594Z"
      },
      {
        "duration": 451,
        "start_time": "2024-04-23T07:36:53.094Z"
      },
      {
        "duration": 360,
        "start_time": "2024-04-23T07:39:11.975Z"
      },
      {
        "duration": 381,
        "start_time": "2024-04-23T07:40:23.643Z"
      },
      {
        "duration": 352,
        "start_time": "2024-04-23T07:40:33.909Z"
      },
      {
        "duration": 422,
        "start_time": "2024-04-23T07:42:28.348Z"
      },
      {
        "duration": 131,
        "start_time": "2024-04-23T07:42:34.682Z"
      },
      {
        "duration": 92,
        "start_time": "2024-04-23T07:50:40.549Z"
      },
      {
        "duration": 2455,
        "start_time": "2024-04-23T07:50:54.390Z"
      },
      {
        "duration": 18,
        "start_time": "2024-04-23T07:50:56.848Z"
      },
      {
        "duration": 1064,
        "start_time": "2024-04-23T07:50:56.868Z"
      },
      {
        "duration": 4,
        "start_time": "2024-04-23T07:50:57.934Z"
      },
      {
        "duration": 96,
        "start_time": "2024-04-23T07:50:57.939Z"
      },
      {
        "duration": 0,
        "start_time": "2024-04-23T07:50:58.037Z"
      },
      {
        "duration": 0,
        "start_time": "2024-04-23T07:50:58.038Z"
      },
      {
        "duration": 0,
        "start_time": "2024-04-23T07:50:58.040Z"
      },
      {
        "duration": 0,
        "start_time": "2024-04-23T07:50:58.041Z"
      },
      {
        "duration": 92,
        "start_time": "2024-04-23T07:51:01.558Z"
      },
      {
        "duration": 79,
        "start_time": "2024-04-23T07:53:55.282Z"
      },
      {
        "duration": 16,
        "start_time": "2024-04-23T07:54:28.152Z"
      },
      {
        "duration": 1672,
        "start_time": "2024-04-23T07:54:47.024Z"
      },
      {
        "duration": 341,
        "start_time": "2024-04-23T07:55:52.154Z"
      },
      {
        "duration": 300,
        "start_time": "2024-04-23T07:56:49.320Z"
      },
      {
        "duration": 342,
        "start_time": "2024-04-23T08:01:01.962Z"
      },
      {
        "duration": 395,
        "start_time": "2024-04-23T08:02:51.180Z"
      },
      {
        "duration": 4,
        "start_time": "2024-04-23T08:09:07.719Z"
      },
      {
        "duration": 419,
        "start_time": "2024-04-23T08:11:03.508Z"
      },
      {
        "duration": 19,
        "start_time": "2024-04-23T08:19:23.324Z"
      },
      {
        "duration": 17,
        "start_time": "2024-04-23T08:19:51.635Z"
      },
      {
        "duration": 21,
        "start_time": "2024-04-23T08:20:15.440Z"
      },
      {
        "duration": 345,
        "start_time": "2024-04-23T08:21:01.753Z"
      },
      {
        "duration": 2462,
        "start_time": "2024-04-23T08:22:35.804Z"
      },
      {
        "duration": 18,
        "start_time": "2024-04-23T08:22:38.269Z"
      },
      {
        "duration": 1034,
        "start_time": "2024-04-23T08:22:38.288Z"
      },
      {
        "duration": 3,
        "start_time": "2024-04-23T08:22:39.323Z"
      },
      {
        "duration": 121,
        "start_time": "2024-04-23T08:22:39.328Z"
      },
      {
        "duration": 0,
        "start_time": "2024-04-23T08:22:39.450Z"
      },
      {
        "duration": 0,
        "start_time": "2024-04-23T08:22:39.451Z"
      },
      {
        "duration": 0,
        "start_time": "2024-04-23T08:22:39.452Z"
      },
      {
        "duration": 0,
        "start_time": "2024-04-23T08:22:39.453Z"
      },
      {
        "duration": 0,
        "start_time": "2024-04-23T08:22:39.454Z"
      },
      {
        "duration": 0,
        "start_time": "2024-04-23T08:22:39.455Z"
      },
      {
        "duration": 415,
        "start_time": "2024-04-23T08:22:43.747Z"
      },
      {
        "duration": 315,
        "start_time": "2024-04-23T08:24:13.561Z"
      },
      {
        "duration": 2568,
        "start_time": "2024-04-23T08:25:00.131Z"
      },
      {
        "duration": 18,
        "start_time": "2024-04-23T08:25:02.701Z"
      },
      {
        "duration": 1186,
        "start_time": "2024-04-23T08:25:02.720Z"
      },
      {
        "duration": 2,
        "start_time": "2024-04-23T08:25:03.908Z"
      },
      {
        "duration": 130,
        "start_time": "2024-04-23T08:25:03.912Z"
      },
      {
        "duration": 0,
        "start_time": "2024-04-23T08:25:04.044Z"
      },
      {
        "duration": 0,
        "start_time": "2024-04-23T08:25:04.045Z"
      },
      {
        "duration": 0,
        "start_time": "2024-04-23T08:25:04.046Z"
      },
      {
        "duration": 0,
        "start_time": "2024-04-23T08:25:04.047Z"
      },
      {
        "duration": 0,
        "start_time": "2024-04-23T08:25:04.048Z"
      },
      {
        "duration": 99,
        "start_time": "2024-04-23T08:25:07.701Z"
      },
      {
        "duration": 438,
        "start_time": "2024-04-23T08:25:12.434Z"
      },
      {
        "duration": 294,
        "start_time": "2024-04-23T08:27:27.101Z"
      },
      {
        "duration": 2506,
        "start_time": "2024-04-23T08:58:48.272Z"
      },
      {
        "duration": 21,
        "start_time": "2024-04-23T08:58:50.781Z"
      },
      {
        "duration": 1019,
        "start_time": "2024-04-23T08:58:50.804Z"
      },
      {
        "duration": 3,
        "start_time": "2024-04-23T08:58:51.826Z"
      },
      {
        "duration": 102,
        "start_time": "2024-04-23T08:58:51.831Z"
      },
      {
        "duration": 0,
        "start_time": "2024-04-23T08:58:51.936Z"
      },
      {
        "duration": 0,
        "start_time": "2024-04-23T08:58:51.937Z"
      },
      {
        "duration": 0,
        "start_time": "2024-04-23T08:58:51.939Z"
      },
      {
        "duration": 0,
        "start_time": "2024-04-23T08:58:51.940Z"
      },
      {
        "duration": 0,
        "start_time": "2024-04-23T08:58:51.942Z"
      },
      {
        "duration": 0,
        "start_time": "2024-04-23T08:58:51.943Z"
      },
      {
        "duration": 0,
        "start_time": "2024-04-23T08:58:51.945Z"
      },
      {
        "duration": 0,
        "start_time": "2024-04-23T08:58:51.946Z"
      },
      {
        "duration": 0,
        "start_time": "2024-04-23T08:58:51.948Z"
      },
      {
        "duration": 0,
        "start_time": "2024-04-23T08:58:51.949Z"
      },
      {
        "duration": 0,
        "start_time": "2024-04-23T08:58:51.950Z"
      },
      {
        "duration": 0,
        "start_time": "2024-04-23T08:58:51.951Z"
      },
      {
        "duration": 0,
        "start_time": "2024-04-23T08:58:51.953Z"
      },
      {
        "duration": 0,
        "start_time": "2024-04-23T08:58:51.954Z"
      },
      {
        "duration": 0,
        "start_time": "2024-04-23T08:58:51.955Z"
      },
      {
        "duration": 0,
        "start_time": "2024-04-23T08:58:51.957Z"
      },
      {
        "duration": 0,
        "start_time": "2024-04-23T08:58:51.958Z"
      },
      {
        "duration": 0,
        "start_time": "2024-04-23T08:58:51.959Z"
      },
      {
        "duration": 0,
        "start_time": "2024-04-23T08:58:51.961Z"
      },
      {
        "duration": 0,
        "start_time": "2024-04-23T08:58:51.962Z"
      },
      {
        "duration": 0,
        "start_time": "2024-04-23T08:58:51.964Z"
      },
      {
        "duration": 149,
        "start_time": "2024-04-23T08:58:55.146Z"
      },
      {
        "duration": 2583,
        "start_time": "2024-04-23T09:00:33.340Z"
      },
      {
        "duration": 17,
        "start_time": "2024-04-23T09:00:35.926Z"
      },
      {
        "duration": 972,
        "start_time": "2024-04-23T09:00:35.945Z"
      },
      {
        "duration": 3,
        "start_time": "2024-04-23T09:00:36.919Z"
      },
      {
        "duration": 59,
        "start_time": "2024-04-23T09:00:36.924Z"
      },
      {
        "duration": 76,
        "start_time": "2024-04-23T09:00:36.985Z"
      },
      {
        "duration": 17,
        "start_time": "2024-04-23T09:00:37.062Z"
      },
      {
        "duration": 1127,
        "start_time": "2024-04-23T09:00:37.094Z"
      },
      {
        "duration": 29,
        "start_time": "2024-04-23T09:00:38.223Z"
      },
      {
        "duration": 446,
        "start_time": "2024-04-23T09:00:38.254Z"
      },
      {
        "duration": 72,
        "start_time": "2024-04-23T09:00:38.701Z"
      },
      {
        "duration": 34,
        "start_time": "2024-04-23T09:00:38.774Z"
      },
      {
        "duration": 678,
        "start_time": "2024-04-23T09:00:38.810Z"
      },
      {
        "duration": 8,
        "start_time": "2024-04-23T09:00:39.495Z"
      },
      {
        "duration": 57,
        "start_time": "2024-04-23T09:00:39.504Z"
      },
      {
        "duration": 15,
        "start_time": "2024-04-23T09:00:39.562Z"
      },
      {
        "duration": 344,
        "start_time": "2024-04-23T09:00:39.578Z"
      },
      {
        "duration": 3,
        "start_time": "2024-04-23T09:00:39.924Z"
      },
      {
        "duration": 93,
        "start_time": "2024-04-23T09:00:39.928Z"
      },
      {
        "duration": 59,
        "start_time": "2024-04-23T09:00:40.022Z"
      },
      {
        "duration": 48,
        "start_time": "2024-04-23T09:00:40.082Z"
      },
      {
        "duration": 91,
        "start_time": "2024-04-23T09:00:40.132Z"
      },
      {
        "duration": 375,
        "start_time": "2024-04-23T09:00:40.224Z"
      },
      {
        "duration": 396,
        "start_time": "2024-04-23T09:00:40.601Z"
      },
      {
        "duration": 110,
        "start_time": "2024-04-23T09:00:40.999Z"
      },
      {
        "duration": 108,
        "start_time": "2024-04-23T09:00:41.111Z"
      },
      {
        "duration": 1855,
        "start_time": "2024-04-23T09:05:23.998Z"
      },
      {
        "duration": 978,
        "start_time": "2024-04-23T09:06:07.767Z"
      },
      {
        "duration": 1781,
        "start_time": "2024-04-23T09:06:25.625Z"
      },
      {
        "duration": 21,
        "start_time": "2024-04-23T09:06:37.837Z"
      },
      {
        "duration": 5,
        "start_time": "2024-04-23T09:07:05.836Z"
      },
      {
        "duration": 35,
        "start_time": "2024-04-23T09:07:37.026Z"
      },
      {
        "duration": 53,
        "start_time": "2024-04-23T09:07:50.245Z"
      },
      {
        "duration": 52,
        "start_time": "2024-04-23T09:08:48.676Z"
      },
      {
        "duration": 48,
        "start_time": "2024-04-23T09:08:56.118Z"
      },
      {
        "duration": 14,
        "start_time": "2024-04-23T09:09:05.397Z"
      },
      {
        "duration": 2600,
        "start_time": "2024-04-23T09:44:48.319Z"
      },
      {
        "duration": 17,
        "start_time": "2024-04-23T09:44:50.922Z"
      },
      {
        "duration": 1030,
        "start_time": "2024-04-23T09:44:50.941Z"
      },
      {
        "duration": 3,
        "start_time": "2024-04-23T09:44:51.973Z"
      },
      {
        "duration": 66,
        "start_time": "2024-04-23T09:44:51.979Z"
      },
      {
        "duration": 95,
        "start_time": "2024-04-23T09:44:52.047Z"
      },
      {
        "duration": 17,
        "start_time": "2024-04-23T09:44:52.144Z"
      },
      {
        "duration": 1121,
        "start_time": "2024-04-23T09:44:52.163Z"
      },
      {
        "duration": 30,
        "start_time": "2024-04-23T09:44:53.286Z"
      },
      {
        "duration": 412,
        "start_time": "2024-04-23T09:44:53.317Z"
      },
      {
        "duration": 88,
        "start_time": "2024-04-23T09:44:53.730Z"
      },
      {
        "duration": 16,
        "start_time": "2024-04-23T09:44:53.819Z"
      },
      {
        "duration": 664,
        "start_time": "2024-04-23T09:44:53.836Z"
      },
      {
        "duration": 8,
        "start_time": "2024-04-23T09:44:54.502Z"
      },
      {
        "duration": 75,
        "start_time": "2024-04-23T09:44:54.511Z"
      },
      {
        "duration": 31,
        "start_time": "2024-04-23T09:44:54.587Z"
      },
      {
        "duration": 436,
        "start_time": "2024-04-23T09:44:54.619Z"
      },
      {
        "duration": 3,
        "start_time": "2024-04-23T09:44:55.056Z"
      },
      {
        "duration": 119,
        "start_time": "2024-04-23T09:44:55.061Z"
      },
      {
        "duration": 50,
        "start_time": "2024-04-23T09:44:55.182Z"
      },
      {
        "duration": 49,
        "start_time": "2024-04-23T09:44:55.234Z"
      },
      {
        "duration": 85,
        "start_time": "2024-04-23T09:44:55.285Z"
      },
      {
        "duration": 337,
        "start_time": "2024-04-23T09:44:55.371Z"
      },
      {
        "duration": 426,
        "start_time": "2024-04-23T09:44:55.710Z"
      },
      {
        "duration": 102,
        "start_time": "2024-04-23T09:44:56.138Z"
      },
      {
        "duration": 9513,
        "start_time": "2024-04-23T09:44:56.242Z"
      },
      {
        "duration": 17,
        "start_time": "2024-04-23T09:45:05.757Z"
      },
      {
        "duration": 105,
        "start_time": "2024-04-23T09:45:05.776Z"
      },
      {
        "duration": 797,
        "start_time": "2024-04-23T09:45:25.899Z"
      },
      {
        "duration": 3670,
        "start_time": "2024-04-23T09:46:34.283Z"
      },
      {
        "duration": 16013,
        "start_time": "2024-04-23T09:46:57.554Z"
      },
      {
        "duration": 32676,
        "start_time": "2024-04-23T09:47:27.231Z"
      },
      {
        "duration": 978,
        "start_time": "2024-04-23T09:48:57.449Z"
      },
      {
        "duration": 13688,
        "start_time": "2024-04-23T09:49:03.777Z"
      },
      {
        "duration": 27363,
        "start_time": "2024-04-23T09:49:22.838Z"
      },
      {
        "duration": 2479,
        "start_time": "2024-04-23T10:32:48.944Z"
      },
      {
        "duration": 18,
        "start_time": "2024-04-23T10:32:51.425Z"
      },
      {
        "duration": 986,
        "start_time": "2024-04-23T10:32:51.445Z"
      },
      {
        "duration": 3,
        "start_time": "2024-04-23T10:32:52.434Z"
      },
      {
        "duration": 98,
        "start_time": "2024-04-23T10:32:52.439Z"
      },
      {
        "duration": 72,
        "start_time": "2024-04-23T10:32:52.538Z"
      },
      {
        "duration": 26,
        "start_time": "2024-04-23T10:32:52.612Z"
      },
      {
        "duration": 1044,
        "start_time": "2024-04-23T10:32:52.640Z"
      },
      {
        "duration": 24,
        "start_time": "2024-04-23T10:32:53.693Z"
      },
      {
        "duration": 442,
        "start_time": "2024-04-23T10:32:53.719Z"
      },
      {
        "duration": 83,
        "start_time": "2024-04-23T10:32:54.163Z"
      },
      {
        "duration": 19,
        "start_time": "2024-04-23T10:32:54.247Z"
      },
      {
        "duration": 628,
        "start_time": "2024-04-23T10:32:54.268Z"
      },
      {
        "duration": 8,
        "start_time": "2024-04-23T10:32:54.898Z"
      },
      {
        "duration": 41,
        "start_time": "2024-04-23T10:32:54.907Z"
      },
      {
        "duration": 14,
        "start_time": "2024-04-23T10:32:54.949Z"
      },
      {
        "duration": 364,
        "start_time": "2024-04-23T10:32:54.965Z"
      },
      {
        "duration": 3,
        "start_time": "2024-04-23T10:32:55.330Z"
      },
      {
        "duration": 118,
        "start_time": "2024-04-23T10:32:55.334Z"
      },
      {
        "duration": 65,
        "start_time": "2024-04-23T10:32:55.454Z"
      },
      {
        "duration": 40,
        "start_time": "2024-04-23T10:32:55.520Z"
      },
      {
        "duration": 90,
        "start_time": "2024-04-23T10:32:55.561Z"
      },
      {
        "duration": 360,
        "start_time": "2024-04-23T10:32:55.653Z"
      },
      {
        "duration": 430,
        "start_time": "2024-04-23T10:32:56.015Z"
      },
      {
        "duration": 102,
        "start_time": "2024-04-23T10:32:56.446Z"
      },
      {
        "duration": 9054,
        "start_time": "2024-04-23T10:32:56.550Z"
      },
      {
        "duration": 19,
        "start_time": "2024-04-23T10:33:05.606Z"
      },
      {
        "duration": 786,
        "start_time": "2024-04-23T10:33:05.628Z"
      },
      {
        "duration": 749,
        "start_time": "2024-04-23T10:33:18.045Z"
      },
      {
        "duration": 19969,
        "start_time": "2024-04-23T10:33:28.136Z"
      },
      {
        "duration": 50,
        "start_time": "2024-04-23T10:33:53.229Z"
      },
      {
        "duration": 332,
        "start_time": "2024-04-23T10:35:52.569Z"
      },
      {
        "duration": 977,
        "start_time": "2024-04-23T10:36:01.251Z"
      },
      {
        "duration": 167,
        "start_time": "2024-04-23T10:37:16.159Z"
      },
      {
        "duration": 312,
        "start_time": "2024-04-23T10:40:16.026Z"
      },
      {
        "duration": 40,
        "start_time": "2024-04-23T10:41:03.984Z"
      },
      {
        "duration": 11747,
        "start_time": "2024-04-23T10:41:27.458Z"
      },
      {
        "duration": 147,
        "start_time": "2024-04-23T10:54:44.755Z"
      },
      {
        "duration": 148,
        "start_time": "2024-04-23T10:54:50.927Z"
      },
      {
        "duration": 2515,
        "start_time": "2024-04-23T10:55:26.612Z"
      },
      {
        "duration": 17,
        "start_time": "2024-04-23T10:55:29.130Z"
      },
      {
        "duration": 1050,
        "start_time": "2024-04-23T10:55:29.149Z"
      },
      {
        "duration": 3,
        "start_time": "2024-04-23T10:55:30.201Z"
      },
      {
        "duration": 157,
        "start_time": "2024-04-23T10:55:30.205Z"
      },
      {
        "duration": 119,
        "start_time": "2024-04-23T10:55:30.363Z"
      },
      {
        "duration": 18,
        "start_time": "2024-04-23T10:55:30.484Z"
      },
      {
        "duration": 1206,
        "start_time": "2024-04-23T10:55:30.503Z"
      },
      {
        "duration": 24,
        "start_time": "2024-04-23T10:55:31.711Z"
      },
      {
        "duration": 258,
        "start_time": "2024-04-23T10:55:31.737Z"
      },
      {
        "duration": 2557,
        "start_time": "2024-04-23T10:56:46.701Z"
      },
      {
        "duration": 17,
        "start_time": "2024-04-23T10:56:49.261Z"
      },
      {
        "duration": 984,
        "start_time": "2024-04-23T10:56:49.280Z"
      },
      {
        "duration": 3,
        "start_time": "2024-04-23T10:56:50.266Z"
      },
      {
        "duration": 58,
        "start_time": "2024-04-23T10:56:50.270Z"
      },
      {
        "duration": 38,
        "start_time": "2024-04-23T10:57:11.396Z"
      },
      {
        "duration": 173,
        "start_time": "2024-04-23T10:57:14.952Z"
      },
      {
        "duration": 135,
        "start_time": "2024-04-23T10:58:45.613Z"
      },
      {
        "duration": 2511,
        "start_time": "2024-04-23T11:00:04.103Z"
      },
      {
        "duration": 18,
        "start_time": "2024-04-23T11:00:06.616Z"
      },
      {
        "duration": 977,
        "start_time": "2024-04-23T11:00:06.635Z"
      },
      {
        "duration": 3,
        "start_time": "2024-04-23T11:00:07.614Z"
      },
      {
        "duration": 86,
        "start_time": "2024-04-23T11:00:07.618Z"
      },
      {
        "duration": 174,
        "start_time": "2024-04-23T11:00:07.705Z"
      },
      {
        "duration": 34,
        "start_time": "2024-04-23T11:00:07.880Z"
      },
      {
        "duration": 1168,
        "start_time": "2024-04-23T11:00:07.916Z"
      },
      {
        "duration": 3,
        "start_time": "2024-04-23T11:00:09.093Z"
      },
      {
        "duration": 207,
        "start_time": "2024-04-23T11:00:09.099Z"
      },
      {
        "duration": 139,
        "start_time": "2024-04-23T11:00:18.654Z"
      },
      {
        "duration": 96,
        "start_time": "2024-04-23T11:00:54.673Z"
      },
      {
        "duration": 26,
        "start_time": "2024-04-23T11:03:23.583Z"
      },
      {
        "duration": 19,
        "start_time": "2024-04-23T11:11:33.972Z"
      },
      {
        "duration": 2413,
        "start_time": "2024-04-23T11:11:48.257Z"
      },
      {
        "duration": 16,
        "start_time": "2024-04-23T11:11:50.673Z"
      },
      {
        "duration": 945,
        "start_time": "2024-04-23T11:11:50.691Z"
      },
      {
        "duration": 3,
        "start_time": "2024-04-23T11:11:51.638Z"
      },
      {
        "duration": 54,
        "start_time": "2024-04-23T11:11:51.643Z"
      },
      {
        "duration": 73,
        "start_time": "2024-04-23T11:11:51.699Z"
      },
      {
        "duration": 31,
        "start_time": "2024-04-23T11:11:51.774Z"
      },
      {
        "duration": 1066,
        "start_time": "2024-04-23T11:11:51.806Z"
      },
      {
        "duration": 2,
        "start_time": "2024-04-23T11:11:52.874Z"
      },
      {
        "duration": 19,
        "start_time": "2024-04-23T11:11:55.544Z"
      },
      {
        "duration": 14,
        "start_time": "2024-04-23T11:11:58.200Z"
      },
      {
        "duration": 339,
        "start_time": "2024-04-23T11:12:11.636Z"
      },
      {
        "duration": 2927,
        "start_time": "2024-04-23T11:18:31.416Z"
      },
      {
        "duration": 2595,
        "start_time": "2024-04-23T11:19:02.969Z"
      },
      {
        "duration": 18,
        "start_time": "2024-04-23T11:19:05.566Z"
      },
      {
        "duration": 1045,
        "start_time": "2024-04-23T11:19:05.585Z"
      },
      {
        "duration": 3,
        "start_time": "2024-04-23T11:19:06.632Z"
      },
      {
        "duration": 16,
        "start_time": "2024-04-23T11:19:12.006Z"
      },
      {
        "duration": 72,
        "start_time": "2024-04-23T11:19:42.256Z"
      },
      {
        "duration": 88,
        "start_time": "2024-04-23T11:20:09.939Z"
      },
      {
        "duration": 86,
        "start_time": "2024-04-23T11:20:38.053Z"
      },
      {
        "duration": 4167,
        "start_time": "2024-04-23T11:22:02.956Z"
      },
      {
        "duration": 19,
        "start_time": "2024-04-23T11:22:07.126Z"
      },
      {
        "duration": 1039,
        "start_time": "2024-04-23T11:22:07.146Z"
      },
      {
        "duration": 8,
        "start_time": "2024-04-23T11:22:08.186Z"
      },
      {
        "duration": 119,
        "start_time": "2024-04-23T11:22:08.195Z"
      },
      {
        "duration": 45,
        "start_time": "2024-04-23T11:22:08.316Z"
      },
      {
        "duration": 98,
        "start_time": "2024-04-23T11:22:08.362Z"
      },
      {
        "duration": 16,
        "start_time": "2024-04-23T11:22:08.461Z"
      },
      {
        "duration": 1206,
        "start_time": "2024-04-23T11:22:08.479Z"
      },
      {
        "duration": 154,
        "start_time": "2024-04-23T11:22:09.696Z"
      },
      {
        "duration": 86,
        "start_time": "2024-04-23T11:22:09.852Z"
      },
      {
        "duration": 17,
        "start_time": "2024-04-23T11:22:09.940Z"
      },
      {
        "duration": 709,
        "start_time": "2024-04-23T11:22:09.959Z"
      },
      {
        "duration": 24,
        "start_time": "2024-04-23T11:22:10.670Z"
      },
      {
        "duration": 73,
        "start_time": "2024-04-23T11:22:10.696Z"
      },
      {
        "duration": 14,
        "start_time": "2024-04-23T11:22:10.771Z"
      },
      {
        "duration": 347,
        "start_time": "2024-04-23T11:22:10.787Z"
      },
      {
        "duration": 3,
        "start_time": "2024-04-23T11:22:11.135Z"
      },
      {
        "duration": 92,
        "start_time": "2024-04-23T11:22:11.139Z"
      },
      {
        "duration": 62,
        "start_time": "2024-04-23T11:22:11.232Z"
      },
      {
        "duration": 40,
        "start_time": "2024-04-23T11:22:11.296Z"
      },
      {
        "duration": 95,
        "start_time": "2024-04-23T11:22:11.337Z"
      },
      {
        "duration": 362,
        "start_time": "2024-04-23T11:22:11.434Z"
      },
      {
        "duration": 363,
        "start_time": "2024-04-23T11:22:11.797Z"
      },
      {
        "duration": 132,
        "start_time": "2024-04-23T11:22:12.162Z"
      },
      {
        "duration": 9054,
        "start_time": "2024-04-23T11:22:12.296Z"
      },
      {
        "duration": 23,
        "start_time": "2024-04-23T11:22:21.352Z"
      },
      {
        "duration": 402,
        "start_time": "2024-04-23T11:22:21.377Z"
      },
      {
        "duration": 626,
        "start_time": "2024-04-23T11:22:21.781Z"
      },
      {
        "duration": 3669,
        "start_time": "2024-04-23T11:22:22.409Z"
      },
      {
        "duration": 518,
        "start_time": "2024-04-23T11:22:26.080Z"
      },
      {
        "duration": 670,
        "start_time": "2024-04-23T11:22:26.600Z"
      },
      {
        "duration": 0,
        "start_time": "2024-04-23T11:22:27.272Z"
      },
      {
        "duration": 0,
        "start_time": "2024-04-23T11:22:27.273Z"
      },
      {
        "duration": 0,
        "start_time": "2024-04-23T11:22:27.274Z"
      },
      {
        "duration": 0,
        "start_time": "2024-04-23T11:22:27.275Z"
      },
      {
        "duration": 359,
        "start_time": "2024-04-23T11:24:17.593Z"
      },
      {
        "duration": 4096,
        "start_time": "2024-04-23T11:24:30.745Z"
      },
      {
        "duration": 11786,
        "start_time": "2024-04-23T11:24:39.925Z"
      },
      {
        "duration": 2670,
        "start_time": "2024-04-23T11:29:27.008Z"
      },
      {
        "duration": 17,
        "start_time": "2024-04-23T11:29:29.681Z"
      },
      {
        "duration": 987,
        "start_time": "2024-04-23T11:29:29.700Z"
      },
      {
        "duration": 3,
        "start_time": "2024-04-23T11:29:30.693Z"
      },
      {
        "duration": 184,
        "start_time": "2024-04-23T11:29:30.698Z"
      },
      {
        "duration": 69,
        "start_time": "2024-04-23T11:29:30.884Z"
      },
      {
        "duration": 128,
        "start_time": "2024-04-23T11:29:30.954Z"
      },
      {
        "duration": 17,
        "start_time": "2024-04-23T11:29:31.084Z"
      },
      {
        "duration": 1093,
        "start_time": "2024-04-23T11:29:31.103Z"
      },
      {
        "duration": 186,
        "start_time": "2024-04-23T11:29:32.199Z"
      },
      {
        "duration": 81,
        "start_time": "2024-04-23T11:29:32.387Z"
      },
      {
        "duration": 39,
        "start_time": "2024-04-23T11:29:32.469Z"
      },
      {
        "duration": 661,
        "start_time": "2024-04-23T11:29:32.509Z"
      },
      {
        "duration": 23,
        "start_time": "2024-04-23T11:29:33.171Z"
      },
      {
        "duration": 37,
        "start_time": "2024-04-23T11:29:33.196Z"
      },
      {
        "duration": 14,
        "start_time": "2024-04-23T11:29:33.234Z"
      },
      {
        "duration": 425,
        "start_time": "2024-04-23T11:29:33.249Z"
      },
      {
        "duration": 2,
        "start_time": "2024-04-23T11:29:33.675Z"
      },
      {
        "duration": 92,
        "start_time": "2024-04-23T11:29:33.679Z"
      },
      {
        "duration": 55,
        "start_time": "2024-04-23T11:29:33.772Z"
      },
      {
        "duration": 41,
        "start_time": "2024-04-23T11:29:33.829Z"
      },
      {
        "duration": 91,
        "start_time": "2024-04-23T11:29:33.872Z"
      },
      {
        "duration": 330,
        "start_time": "2024-04-23T11:29:33.965Z"
      },
      {
        "duration": 363,
        "start_time": "2024-04-23T11:29:34.297Z"
      },
      {
        "duration": 123,
        "start_time": "2024-04-23T11:29:34.662Z"
      },
      {
        "duration": 7896,
        "start_time": "2024-04-23T11:29:34.787Z"
      },
      {
        "duration": 23,
        "start_time": "2024-04-23T11:29:42.684Z"
      },
      {
        "duration": 2203,
        "start_time": "2024-04-23T11:29:42.711Z"
      },
      {
        "duration": 0,
        "start_time": "2024-04-23T11:29:44.915Z"
      },
      {
        "duration": 0,
        "start_time": "2024-04-23T11:29:44.917Z"
      },
      {
        "duration": 0,
        "start_time": "2024-04-23T11:29:44.918Z"
      },
      {
        "duration": 0,
        "start_time": "2024-04-23T11:29:44.919Z"
      },
      {
        "duration": 0,
        "start_time": "2024-04-23T11:29:44.921Z"
      },
      {
        "duration": 0,
        "start_time": "2024-04-23T11:29:44.922Z"
      },
      {
        "duration": 0,
        "start_time": "2024-04-23T11:29:44.924Z"
      },
      {
        "duration": 0,
        "start_time": "2024-04-23T11:29:44.925Z"
      },
      {
        "duration": 357,
        "start_time": "2024-04-23T11:30:50.271Z"
      },
      {
        "duration": 4102,
        "start_time": "2024-04-23T11:30:55.447Z"
      },
      {
        "duration": 11661,
        "start_time": "2024-04-23T11:31:09.530Z"
      },
      {
        "duration": 32049,
        "start_time": "2024-04-23T11:31:29.257Z"
      },
      {
        "duration": 3930,
        "start_time": "2024-04-23T11:33:14.337Z"
      },
      {
        "duration": 18,
        "start_time": "2024-04-23T11:33:18.269Z"
      },
      {
        "duration": 1039,
        "start_time": "2024-04-23T11:33:18.288Z"
      },
      {
        "duration": 4,
        "start_time": "2024-04-23T11:33:19.328Z"
      },
      {
        "duration": 163,
        "start_time": "2024-04-23T11:33:19.333Z"
      },
      {
        "duration": 44,
        "start_time": "2024-04-23T11:33:19.498Z"
      },
      {
        "duration": 110,
        "start_time": "2024-04-23T11:33:19.544Z"
      },
      {
        "duration": 36,
        "start_time": "2024-04-23T11:33:19.656Z"
      },
      {
        "duration": 1154,
        "start_time": "2024-04-23T11:33:19.694Z"
      },
      {
        "duration": 149,
        "start_time": "2024-04-23T11:33:20.850Z"
      },
      {
        "duration": 77,
        "start_time": "2024-04-23T11:33:21.001Z"
      },
      {
        "duration": 30,
        "start_time": "2024-04-23T11:33:21.079Z"
      },
      {
        "duration": 661,
        "start_time": "2024-04-23T11:33:21.111Z"
      },
      {
        "duration": 8,
        "start_time": "2024-04-23T11:33:21.773Z"
      },
      {
        "duration": 50,
        "start_time": "2024-04-23T11:33:21.793Z"
      },
      {
        "duration": 21,
        "start_time": "2024-04-23T11:33:21.844Z"
      },
      {
        "duration": 311,
        "start_time": "2024-04-23T11:33:21.866Z"
      },
      {
        "duration": 11,
        "start_time": "2024-04-23T11:33:22.179Z"
      },
      {
        "duration": 94,
        "start_time": "2024-04-23T11:33:22.196Z"
      },
      {
        "duration": 51,
        "start_time": "2024-04-23T11:33:22.291Z"
      },
      {
        "duration": 51,
        "start_time": "2024-04-23T11:33:22.343Z"
      },
      {
        "duration": 77,
        "start_time": "2024-04-23T11:33:22.396Z"
      },
      {
        "duration": 309,
        "start_time": "2024-04-23T11:33:22.475Z"
      },
      {
        "duration": 340,
        "start_time": "2024-04-23T11:33:22.794Z"
      },
      {
        "duration": 115,
        "start_time": "2024-04-23T11:33:23.135Z"
      },
      {
        "duration": 9942,
        "start_time": "2024-04-23T11:33:23.252Z"
      },
      {
        "duration": 30,
        "start_time": "2024-04-23T11:33:33.196Z"
      },
      {
        "duration": 412,
        "start_time": "2024-04-23T11:33:33.229Z"
      },
      {
        "duration": 4196,
        "start_time": "2024-04-23T11:33:33.643Z"
      },
      {
        "duration": 12257,
        "start_time": "2024-04-23T11:33:37.840Z"
      },
      {
        "duration": 163450,
        "start_time": "2024-04-23T11:33:50.098Z"
      },
      {
        "duration": 1095,
        "start_time": "2024-04-23T11:36:33.550Z"
      },
      {
        "duration": 0,
        "start_time": "2024-04-23T11:36:34.646Z"
      },
      {
        "duration": 0,
        "start_time": "2024-04-23T11:36:34.647Z"
      },
      {
        "duration": 1,
        "start_time": "2024-04-23T11:36:34.648Z"
      },
      {
        "duration": 0,
        "start_time": "2024-04-23T11:36:34.694Z"
      },
      {
        "duration": 0,
        "start_time": "2024-04-23T11:36:34.695Z"
      },
      {
        "duration": 6949,
        "start_time": "2024-04-23T11:36:46.248Z"
      },
      {
        "duration": 2551,
        "start_time": "2024-04-23T11:37:20.937Z"
      },
      {
        "duration": 18,
        "start_time": "2024-04-23T11:37:23.491Z"
      },
      {
        "duration": 1036,
        "start_time": "2024-04-23T11:37:23.511Z"
      },
      {
        "duration": 4,
        "start_time": "2024-04-23T11:37:24.550Z"
      },
      {
        "duration": 180,
        "start_time": "2024-04-23T11:37:24.555Z"
      },
      {
        "duration": 57,
        "start_time": "2024-04-23T11:37:24.737Z"
      },
      {
        "duration": 78,
        "start_time": "2024-04-23T11:37:24.796Z"
      },
      {
        "duration": 29,
        "start_time": "2024-04-23T11:37:24.876Z"
      },
      {
        "duration": 1189,
        "start_time": "2024-04-23T11:37:24.906Z"
      },
      {
        "duration": 176,
        "start_time": "2024-04-23T11:37:26.100Z"
      },
      {
        "duration": 83,
        "start_time": "2024-04-23T11:37:26.278Z"
      },
      {
        "duration": 37,
        "start_time": "2024-04-23T11:37:26.363Z"
      },
      {
        "duration": 666,
        "start_time": "2024-04-23T11:37:26.402Z"
      },
      {
        "duration": 9,
        "start_time": "2024-04-23T11:37:27.069Z"
      },
      {
        "duration": 67,
        "start_time": "2024-04-23T11:37:27.079Z"
      },
      {
        "duration": 34,
        "start_time": "2024-04-23T11:37:27.148Z"
      },
      {
        "duration": 288,
        "start_time": "2024-04-23T11:37:27.183Z"
      },
      {
        "duration": 2,
        "start_time": "2024-04-23T11:37:27.472Z"
      },
      {
        "duration": 191,
        "start_time": "2024-04-23T11:37:27.476Z"
      },
      {
        "duration": 64,
        "start_time": "2024-04-23T11:37:27.669Z"
      },
      {
        "duration": 70,
        "start_time": "2024-04-23T11:37:27.735Z"
      },
      {
        "duration": 91,
        "start_time": "2024-04-23T11:37:27.807Z"
      },
      {
        "duration": 310,
        "start_time": "2024-04-23T11:37:27.900Z"
      },
      {
        "duration": 413,
        "start_time": "2024-04-23T11:37:28.212Z"
      },
      {
        "duration": 117,
        "start_time": "2024-04-23T11:37:28.626Z"
      },
      {
        "duration": 9293,
        "start_time": "2024-04-23T11:37:28.744Z"
      },
      {
        "duration": 3,
        "start_time": "2024-04-23T11:37:38.039Z"
      },
      {
        "duration": 452,
        "start_time": "2024-04-23T11:37:38.045Z"
      },
      {
        "duration": 5036,
        "start_time": "2024-04-23T11:37:45.955Z"
      },
      {
        "duration": 16869,
        "start_time": "2024-04-23T11:38:01.258Z"
      },
      {
        "duration": 33943,
        "start_time": "2024-04-23T11:38:23.468Z"
      },
      {
        "duration": 347,
        "start_time": "2024-04-23T11:39:34.587Z"
      },
      {
        "duration": 4110,
        "start_time": "2024-04-23T11:39:48.715Z"
      },
      {
        "duration": 18,
        "start_time": "2024-04-23T11:39:52.827Z"
      },
      {
        "duration": 1056,
        "start_time": "2024-04-23T11:39:52.846Z"
      },
      {
        "duration": 4,
        "start_time": "2024-04-23T11:39:53.904Z"
      },
      {
        "duration": 163,
        "start_time": "2024-04-23T11:39:53.909Z"
      },
      {
        "duration": 41,
        "start_time": "2024-04-23T11:39:54.073Z"
      },
      {
        "duration": 120,
        "start_time": "2024-04-23T11:39:54.116Z"
      },
      {
        "duration": 17,
        "start_time": "2024-04-23T11:39:54.238Z"
      },
      {
        "duration": 1229,
        "start_time": "2024-04-23T11:39:54.256Z"
      },
      {
        "duration": 143,
        "start_time": "2024-04-23T11:39:55.495Z"
      },
      {
        "duration": 88,
        "start_time": "2024-04-23T11:39:55.640Z"
      },
      {
        "duration": 18,
        "start_time": "2024-04-23T11:39:55.729Z"
      },
      {
        "duration": 724,
        "start_time": "2024-04-23T11:39:55.748Z"
      },
      {
        "duration": 21,
        "start_time": "2024-04-23T11:39:56.474Z"
      },
      {
        "duration": 38,
        "start_time": "2024-04-23T11:39:56.496Z"
      },
      {
        "duration": 14,
        "start_time": "2024-04-23T11:39:56.536Z"
      },
      {
        "duration": 314,
        "start_time": "2024-04-23T11:39:56.552Z"
      },
      {
        "duration": 3,
        "start_time": "2024-04-23T11:39:56.868Z"
      },
      {
        "duration": 89,
        "start_time": "2024-04-23T11:39:56.872Z"
      },
      {
        "duration": 64,
        "start_time": "2024-04-23T11:39:56.963Z"
      },
      {
        "duration": 40,
        "start_time": "2024-04-23T11:39:57.029Z"
      },
      {
        "duration": 97,
        "start_time": "2024-04-23T11:39:57.070Z"
      },
      {
        "duration": 347,
        "start_time": "2024-04-23T11:39:57.168Z"
      },
      {
        "duration": 411,
        "start_time": "2024-04-23T11:39:57.516Z"
      },
      {
        "duration": 120,
        "start_time": "2024-04-23T11:39:57.928Z"
      },
      {
        "duration": 9049,
        "start_time": "2024-04-23T11:39:58.049Z"
      },
      {
        "duration": 23,
        "start_time": "2024-04-23T11:40:07.100Z"
      },
      {
        "duration": 378,
        "start_time": "2024-04-23T11:40:07.127Z"
      },
      {
        "duration": 4094,
        "start_time": "2024-04-23T11:40:07.507Z"
      },
      {
        "duration": 12392,
        "start_time": "2024-04-23T11:40:11.602Z"
      },
      {
        "duration": 28201,
        "start_time": "2024-04-23T11:40:23.996Z"
      },
      {
        "duration": 1127,
        "start_time": "2024-04-23T11:40:52.198Z"
      },
      {
        "duration": 11026,
        "start_time": "2024-04-23T11:40:53.327Z"
      },
      {
        "duration": 24944,
        "start_time": "2024-04-23T11:41:04.355Z"
      },
      {
        "duration": 34612,
        "start_time": "2024-04-23T11:41:29.301Z"
      },
      {
        "duration": 4,
        "start_time": "2024-04-23T11:42:03.994Z"
      },
      {
        "duration": 2536,
        "start_time": "2024-04-23T11:45:34.400Z"
      },
      {
        "duration": 17,
        "start_time": "2024-04-23T11:45:36.939Z"
      },
      {
        "duration": 961,
        "start_time": "2024-04-23T11:45:36.958Z"
      },
      {
        "duration": 3,
        "start_time": "2024-04-23T11:45:37.921Z"
      },
      {
        "duration": 103,
        "start_time": "2024-04-23T11:45:37.925Z"
      },
      {
        "duration": 59,
        "start_time": "2024-04-23T11:45:38.029Z"
      },
      {
        "duration": 75,
        "start_time": "2024-04-23T11:45:38.090Z"
      },
      {
        "duration": 16,
        "start_time": "2024-04-23T11:45:38.167Z"
      },
      {
        "duration": 1097,
        "start_time": "2024-04-23T11:45:38.184Z"
      },
      {
        "duration": 141,
        "start_time": "2024-04-23T11:45:39.283Z"
      },
      {
        "duration": 4278,
        "start_time": "2024-04-23T11:46:29.120Z"
      },
      {
        "duration": 19,
        "start_time": "2024-04-23T11:46:33.400Z"
      },
      {
        "duration": 1122,
        "start_time": "2024-04-23T11:46:33.421Z"
      },
      {
        "duration": 3,
        "start_time": "2024-04-23T11:46:34.546Z"
      },
      {
        "duration": 147,
        "start_time": "2024-04-23T11:46:34.551Z"
      },
      {
        "duration": 46,
        "start_time": "2024-04-23T11:46:34.700Z"
      },
      {
        "duration": 124,
        "start_time": "2024-04-23T11:46:34.748Z"
      },
      {
        "duration": 41,
        "start_time": "2024-04-23T11:46:34.874Z"
      },
      {
        "duration": 1242,
        "start_time": "2024-04-23T11:46:34.917Z"
      },
      {
        "duration": 155,
        "start_time": "2024-04-23T11:46:36.162Z"
      },
      {
        "duration": 90,
        "start_time": "2024-04-23T11:46:36.319Z"
      },
      {
        "duration": 21,
        "start_time": "2024-04-23T11:46:36.411Z"
      },
      {
        "duration": 744,
        "start_time": "2024-04-23T11:46:36.434Z"
      },
      {
        "duration": 16,
        "start_time": "2024-04-23T11:46:37.180Z"
      },
      {
        "duration": 73,
        "start_time": "2024-04-23T11:46:37.197Z"
      },
      {
        "duration": 40,
        "start_time": "2024-04-23T11:46:37.272Z"
      },
      {
        "duration": 330,
        "start_time": "2024-04-23T11:46:37.313Z"
      },
      {
        "duration": 3,
        "start_time": "2024-04-23T11:46:37.645Z"
      },
      {
        "duration": 129,
        "start_time": "2024-04-23T11:46:37.651Z"
      },
      {
        "duration": 60,
        "start_time": "2024-04-23T11:46:37.781Z"
      },
      {
        "duration": 76,
        "start_time": "2024-04-23T11:46:37.843Z"
      },
      {
        "duration": 95,
        "start_time": "2024-04-23T11:46:37.921Z"
      },
      {
        "duration": 356,
        "start_time": "2024-04-23T11:46:38.018Z"
      },
      {
        "duration": 373,
        "start_time": "2024-04-23T11:46:38.375Z"
      },
      {
        "duration": 126,
        "start_time": "2024-04-23T11:46:38.750Z"
      },
      {
        "duration": 9612,
        "start_time": "2024-04-23T11:46:38.878Z"
      },
      {
        "duration": 23,
        "start_time": "2024-04-23T11:46:48.492Z"
      },
      {
        "duration": 395,
        "start_time": "2024-04-23T11:46:48.519Z"
      },
      {
        "duration": 4009,
        "start_time": "2024-04-23T11:46:48.918Z"
      },
      {
        "duration": 13977,
        "start_time": "2024-04-23T11:46:52.929Z"
      },
      {
        "duration": 118405,
        "start_time": "2024-04-23T11:47:06.908Z"
      },
      {
        "duration": 1120,
        "start_time": "2024-04-23T11:49:05.314Z"
      },
      {
        "duration": 9846,
        "start_time": "2024-04-23T11:49:06.435Z"
      },
      {
        "duration": 21725,
        "start_time": "2024-04-23T11:49:16.282Z"
      },
      {
        "duration": 20906,
        "start_time": "2024-04-23T11:49:38.093Z"
      },
      {
        "duration": 4,
        "start_time": "2024-04-23T11:49:59.001Z"
      },
      {
        "duration": 3967,
        "start_time": "2024-04-23T11:52:07.289Z"
      },
      {
        "duration": 18,
        "start_time": "2024-04-23T11:52:11.258Z"
      },
      {
        "duration": 1026,
        "start_time": "2024-04-23T11:52:11.278Z"
      },
      {
        "duration": 3,
        "start_time": "2024-04-23T11:52:12.305Z"
      },
      {
        "duration": 99,
        "start_time": "2024-04-23T11:52:12.310Z"
      },
      {
        "duration": 48,
        "start_time": "2024-04-23T11:52:12.410Z"
      },
      {
        "duration": 87,
        "start_time": "2024-04-23T11:52:12.460Z"
      },
      {
        "duration": 16,
        "start_time": "2024-04-23T11:52:12.548Z"
      },
      {
        "duration": 1192,
        "start_time": "2024-04-23T11:52:12.566Z"
      },
      {
        "duration": 64,
        "start_time": "2024-04-23T11:52:13.759Z"
      },
      {
        "duration": 82,
        "start_time": "2024-04-23T11:52:13.824Z"
      },
      {
        "duration": 16,
        "start_time": "2024-04-23T11:52:13.907Z"
      },
      {
        "duration": 677,
        "start_time": "2024-04-23T11:52:13.925Z"
      },
      {
        "duration": 9,
        "start_time": "2024-04-23T11:52:14.606Z"
      },
      {
        "duration": 46,
        "start_time": "2024-04-23T11:52:14.616Z"
      },
      {
        "duration": 17,
        "start_time": "2024-04-23T11:52:14.663Z"
      },
      {
        "duration": 282,
        "start_time": "2024-04-23T11:52:14.694Z"
      },
      {
        "duration": 2,
        "start_time": "2024-04-23T11:52:14.978Z"
      },
      {
        "duration": 123,
        "start_time": "2024-04-23T11:52:14.994Z"
      },
      {
        "duration": 50,
        "start_time": "2024-04-23T11:52:15.119Z"
      },
      {
        "duration": 124,
        "start_time": "2024-04-23T11:52:15.170Z"
      },
      {
        "duration": 214,
        "start_time": "2024-04-23T11:52:15.296Z"
      },
      {
        "duration": 369,
        "start_time": "2024-04-23T11:52:15.512Z"
      },
      {
        "duration": 358,
        "start_time": "2024-04-23T11:52:15.882Z"
      },
      {
        "duration": 99,
        "start_time": "2024-04-23T11:52:16.241Z"
      },
      {
        "duration": 9473,
        "start_time": "2024-04-23T11:52:16.341Z"
      },
      {
        "duration": 18,
        "start_time": "2024-04-23T11:52:25.816Z"
      },
      {
        "duration": 324,
        "start_time": "2024-04-23T11:52:25.836Z"
      },
      {
        "duration": 3605,
        "start_time": "2024-04-23T11:52:26.162Z"
      },
      {
        "duration": 14329,
        "start_time": "2024-04-23T11:52:29.769Z"
      },
      {
        "duration": 27719,
        "start_time": "2024-04-23T11:52:44.100Z"
      },
      {
        "duration": 1021,
        "start_time": "2024-04-23T11:53:11.822Z"
      },
      {
        "duration": 9985,
        "start_time": "2024-04-23T11:53:12.845Z"
      },
      {
        "duration": 23070,
        "start_time": "2024-04-23T11:53:22.831Z"
      },
      {
        "duration": 13401,
        "start_time": "2024-04-23T11:53:45.902Z"
      },
      {
        "duration": 4,
        "start_time": "2024-04-23T11:53:59.304Z"
      },
      {
        "duration": 134,
        "start_time": "2024-04-23T11:56:08.779Z"
      },
      {
        "duration": 3798,
        "start_time": "2024-04-23T11:58:52.628Z"
      },
      {
        "duration": 18,
        "start_time": "2024-04-23T11:58:56.428Z"
      },
      {
        "duration": 1014,
        "start_time": "2024-04-23T11:58:56.448Z"
      },
      {
        "duration": 3,
        "start_time": "2024-04-23T11:58:57.464Z"
      },
      {
        "duration": 108,
        "start_time": "2024-04-23T11:58:57.469Z"
      },
      {
        "duration": 51,
        "start_time": "2024-04-23T11:58:57.579Z"
      },
      {
        "duration": 85,
        "start_time": "2024-04-23T11:58:57.631Z"
      },
      {
        "duration": 17,
        "start_time": "2024-04-23T11:58:57.718Z"
      },
      {
        "duration": 1127,
        "start_time": "2024-04-23T11:58:57.737Z"
      },
      {
        "duration": 171,
        "start_time": "2024-04-23T11:58:58.865Z"
      },
      {
        "duration": 82,
        "start_time": "2024-04-23T11:58:59.038Z"
      },
      {
        "duration": 15,
        "start_time": "2024-04-23T11:58:59.122Z"
      },
      {
        "duration": 667,
        "start_time": "2024-04-23T11:58:59.139Z"
      },
      {
        "duration": 7,
        "start_time": "2024-04-23T11:58:59.808Z"
      },
      {
        "duration": 36,
        "start_time": "2024-04-23T11:58:59.817Z"
      },
      {
        "duration": 13,
        "start_time": "2024-04-23T11:58:59.854Z"
      },
      {
        "duration": 306,
        "start_time": "2024-04-23T11:58:59.868Z"
      },
      {
        "duration": 3,
        "start_time": "2024-04-23T11:59:00.175Z"
      },
      {
        "duration": 342,
        "start_time": "2024-04-23T11:59:00.194Z"
      },
      {
        "duration": 163,
        "start_time": "2024-04-23T11:59:00.537Z"
      },
      {
        "duration": 444,
        "start_time": "2024-04-23T11:59:00.702Z"
      },
      {
        "duration": 108,
        "start_time": "2024-04-23T11:59:01.148Z"
      },
      {
        "duration": 362,
        "start_time": "2024-04-23T11:59:01.257Z"
      },
      {
        "duration": 402,
        "start_time": "2024-04-23T11:59:01.621Z"
      },
      {
        "duration": 115,
        "start_time": "2024-04-23T11:59:02.024Z"
      },
      {
        "duration": 9025,
        "start_time": "2024-04-23T11:59:02.141Z"
      },
      {
        "duration": 22,
        "start_time": "2024-04-23T11:59:11.167Z"
      },
      {
        "duration": 356,
        "start_time": "2024-04-23T11:59:11.191Z"
      },
      {
        "duration": 4026,
        "start_time": "2024-04-23T11:59:11.548Z"
      },
      {
        "duration": 12291,
        "start_time": "2024-04-23T11:59:15.576Z"
      },
      {
        "duration": 28442,
        "start_time": "2024-04-23T11:59:27.868Z"
      },
      {
        "duration": 1146,
        "start_time": "2024-04-23T11:59:56.312Z"
      },
      {
        "duration": 9774,
        "start_time": "2024-04-23T11:59:57.460Z"
      },
      {
        "duration": 18868,
        "start_time": "2024-04-23T12:00:07.236Z"
      },
      {
        "duration": 12491,
        "start_time": "2024-04-23T12:00:26.106Z"
      },
      {
        "duration": 4,
        "start_time": "2024-04-23T12:00:38.599Z"
      },
      {
        "duration": 3887,
        "start_time": "2024-04-23T12:01:51.602Z"
      },
      {
        "duration": 19,
        "start_time": "2024-04-23T12:01:55.491Z"
      },
      {
        "duration": 1032,
        "start_time": "2024-04-23T12:01:55.512Z"
      },
      {
        "duration": 3,
        "start_time": "2024-04-23T12:01:56.546Z"
      },
      {
        "duration": 127,
        "start_time": "2024-04-23T12:01:56.550Z"
      },
      {
        "duration": 41,
        "start_time": "2024-04-23T12:01:56.678Z"
      },
      {
        "duration": 148,
        "start_time": "2024-04-23T12:01:56.721Z"
      },
      {
        "duration": 18,
        "start_time": "2024-04-23T12:01:56.871Z"
      },
      {
        "duration": 1174,
        "start_time": "2024-04-23T12:01:56.894Z"
      },
      {
        "duration": 138,
        "start_time": "2024-04-23T12:01:58.070Z"
      },
      {
        "duration": 70,
        "start_time": "2024-04-23T12:01:58.210Z"
      },
      {
        "duration": 27,
        "start_time": "2024-04-23T12:01:58.281Z"
      },
      {
        "duration": 666,
        "start_time": "2024-04-23T12:01:58.309Z"
      },
      {
        "duration": 21,
        "start_time": "2024-04-23T12:01:58.976Z"
      },
      {
        "duration": 70,
        "start_time": "2024-04-23T12:01:58.999Z"
      },
      {
        "duration": 158,
        "start_time": "2024-04-23T12:01:59.071Z"
      },
      {
        "duration": 321,
        "start_time": "2024-04-23T12:01:59.231Z"
      },
      {
        "duration": 2,
        "start_time": "2024-04-23T12:01:59.553Z"
      },
      {
        "duration": 82,
        "start_time": "2024-04-23T12:01:59.556Z"
      },
      {
        "duration": 62,
        "start_time": "2024-04-23T12:01:59.639Z"
      },
      {
        "duration": 37,
        "start_time": "2024-04-23T12:01:59.703Z"
      },
      {
        "duration": 91,
        "start_time": "2024-04-23T12:01:59.742Z"
      },
      {
        "duration": 331,
        "start_time": "2024-04-23T12:01:59.834Z"
      },
      {
        "duration": 364,
        "start_time": "2024-04-23T12:02:00.166Z"
      },
      {
        "duration": 112,
        "start_time": "2024-04-23T12:02:00.532Z"
      },
      {
        "duration": 9101,
        "start_time": "2024-04-23T12:02:00.645Z"
      },
      {
        "duration": 22,
        "start_time": "2024-04-23T12:02:09.748Z"
      },
      {
        "duration": 434,
        "start_time": "2024-04-23T12:02:09.773Z"
      },
      {
        "duration": 3830,
        "start_time": "2024-04-23T12:02:10.209Z"
      },
      {
        "duration": 11656,
        "start_time": "2024-04-23T12:02:14.041Z"
      },
      {
        "duration": 28007,
        "start_time": "2024-04-23T12:02:25.698Z"
      },
      {
        "duration": 1126,
        "start_time": "2024-04-23T12:02:53.707Z"
      },
      {
        "duration": 8870,
        "start_time": "2024-04-23T12:02:54.835Z"
      },
      {
        "duration": 25199,
        "start_time": "2024-04-23T12:03:03.707Z"
      },
      {
        "duration": 13810,
        "start_time": "2024-04-23T12:03:28.908Z"
      },
      {
        "duration": 76,
        "start_time": "2024-04-23T12:03:42.719Z"
      },
      {
        "duration": 113,
        "start_time": "2024-04-23T12:04:52.009Z"
      },
      {
        "duration": 4340,
        "start_time": "2024-04-23T12:11:10.748Z"
      },
      {
        "duration": 19,
        "start_time": "2024-04-23T12:11:15.090Z"
      },
      {
        "duration": 1104,
        "start_time": "2024-04-23T12:11:15.111Z"
      },
      {
        "duration": 3,
        "start_time": "2024-04-23T12:11:16.216Z"
      },
      {
        "duration": 132,
        "start_time": "2024-04-23T12:11:16.221Z"
      },
      {
        "duration": 62,
        "start_time": "2024-04-23T12:11:16.355Z"
      },
      {
        "duration": 113,
        "start_time": "2024-04-23T12:11:16.418Z"
      },
      {
        "duration": 16,
        "start_time": "2024-04-23T12:11:16.533Z"
      },
      {
        "duration": 1205,
        "start_time": "2024-04-23T12:11:16.550Z"
      },
      {
        "duration": 147,
        "start_time": "2024-04-23T12:11:17.757Z"
      },
      {
        "duration": 70,
        "start_time": "2024-04-23T12:11:17.906Z"
      },
      {
        "duration": 18,
        "start_time": "2024-04-23T12:11:17.994Z"
      },
      {
        "duration": 660,
        "start_time": "2024-04-23T12:11:18.013Z"
      },
      {
        "duration": 21,
        "start_time": "2024-04-23T12:11:18.674Z"
      },
      {
        "duration": 50,
        "start_time": "2024-04-23T12:11:18.697Z"
      },
      {
        "duration": 40,
        "start_time": "2024-04-23T12:11:18.749Z"
      },
      {
        "duration": 324,
        "start_time": "2024-04-23T12:11:18.791Z"
      },
      {
        "duration": 2,
        "start_time": "2024-04-23T12:11:19.116Z"
      },
      {
        "duration": 111,
        "start_time": "2024-04-23T12:11:19.119Z"
      },
      {
        "duration": 54,
        "start_time": "2024-04-23T12:11:19.231Z"
      },
      {
        "duration": 62,
        "start_time": "2024-04-23T12:11:19.288Z"
      },
      {
        "duration": 86,
        "start_time": "2024-04-23T12:11:19.352Z"
      },
      {
        "duration": 357,
        "start_time": "2024-04-23T12:11:19.440Z"
      },
      {
        "duration": 357,
        "start_time": "2024-04-23T12:11:19.798Z"
      },
      {
        "duration": 111,
        "start_time": "2024-04-23T12:11:20.157Z"
      },
      {
        "duration": 9033,
        "start_time": "2024-04-23T12:11:20.269Z"
      },
      {
        "duration": 28,
        "start_time": "2024-04-23T12:11:29.305Z"
      },
      {
        "duration": 378,
        "start_time": "2024-04-23T12:11:29.338Z"
      },
      {
        "duration": 3975,
        "start_time": "2024-04-23T12:11:29.718Z"
      },
      {
        "duration": 11157,
        "start_time": "2024-04-23T12:11:33.695Z"
      },
      {
        "duration": 27941,
        "start_time": "2024-04-23T12:11:44.854Z"
      },
      {
        "duration": 1113,
        "start_time": "2024-04-23T12:12:12.796Z"
      },
      {
        "duration": 9366,
        "start_time": "2024-04-23T12:12:13.911Z"
      },
      {
        "duration": 18428,
        "start_time": "2024-04-23T12:12:23.278Z"
      },
      {
        "duration": 13292,
        "start_time": "2024-04-23T12:12:41.708Z"
      },
      {
        "duration": 4,
        "start_time": "2024-04-23T12:12:55.002Z"
      },
      {
        "duration": 49,
        "start_time": "2024-04-23T16:09:21.354Z"
      },
      {
        "duration": 5104,
        "start_time": "2024-04-23T16:13:04.987Z"
      },
      {
        "duration": 22,
        "start_time": "2024-04-23T16:13:10.094Z"
      },
      {
        "duration": 1280,
        "start_time": "2024-04-23T16:13:10.118Z"
      },
      {
        "duration": 4,
        "start_time": "2024-04-23T16:13:11.399Z"
      },
      {
        "duration": 114,
        "start_time": "2024-04-23T16:13:11.405Z"
      },
      {
        "duration": 37,
        "start_time": "2024-04-23T16:13:11.521Z"
      },
      {
        "duration": 90,
        "start_time": "2024-04-23T16:13:11.560Z"
      },
      {
        "duration": 16,
        "start_time": "2024-04-23T16:13:11.651Z"
      },
      {
        "duration": 982,
        "start_time": "2024-04-23T16:13:11.669Z"
      },
      {
        "duration": 132,
        "start_time": "2024-04-23T16:13:12.653Z"
      },
      {
        "duration": 88,
        "start_time": "2024-04-23T16:13:12.786Z"
      },
      {
        "duration": 17,
        "start_time": "2024-04-23T16:13:12.876Z"
      },
      {
        "duration": 656,
        "start_time": "2024-04-23T16:13:12.894Z"
      },
      {
        "duration": 22,
        "start_time": "2024-04-23T16:13:13.552Z"
      },
      {
        "duration": 34,
        "start_time": "2024-04-23T16:13:13.576Z"
      },
      {
        "duration": 14,
        "start_time": "2024-04-23T16:13:13.611Z"
      },
      {
        "duration": 318,
        "start_time": "2024-04-23T16:13:13.627Z"
      },
      {
        "duration": 3,
        "start_time": "2024-04-23T16:13:13.946Z"
      },
      {
        "duration": 92,
        "start_time": "2024-04-23T16:13:13.951Z"
      },
      {
        "duration": 58,
        "start_time": "2024-04-23T16:13:14.045Z"
      },
      {
        "duration": 38,
        "start_time": "2024-04-23T16:13:14.104Z"
      },
      {
        "duration": 145,
        "start_time": "2024-04-23T16:13:14.144Z"
      },
      {
        "duration": 297,
        "start_time": "2024-04-23T16:13:14.291Z"
      },
      {
        "duration": 359,
        "start_time": "2024-04-23T16:13:14.589Z"
      },
      {
        "duration": 114,
        "start_time": "2024-04-23T16:13:14.949Z"
      },
      {
        "duration": 8654,
        "start_time": "2024-04-23T16:13:15.065Z"
      },
      {
        "duration": 26,
        "start_time": "2024-04-23T16:13:23.720Z"
      },
      {
        "duration": 13,
        "start_time": "2024-04-23T16:13:23.748Z"
      },
      {
        "duration": 35,
        "start_time": "2024-04-23T16:13:55.346Z"
      },
      {
        "duration": 72,
        "start_time": "2024-04-23T16:14:23.308Z"
      },
      {
        "duration": 10,
        "start_time": "2024-04-23T16:15:09.596Z"
      },
      {
        "duration": 4,
        "start_time": "2024-04-23T16:21:48.074Z"
      },
      {
        "duration": 48,
        "start_time": "2024-04-23T16:26:49.504Z"
      },
      {
        "duration": 113,
        "start_time": "2024-04-23T16:30:17.807Z"
      },
      {
        "duration": 93,
        "start_time": "2024-04-23T16:30:43.727Z"
      },
      {
        "duration": 128,
        "start_time": "2024-04-23T16:31:49.296Z"
      },
      {
        "duration": 67,
        "start_time": "2024-04-23T16:38:10.976Z"
      },
      {
        "duration": 272,
        "start_time": "2024-04-23T16:38:19.506Z"
      },
      {
        "duration": 3018,
        "start_time": "2024-04-23T16:38:33.427Z"
      },
      {
        "duration": 9101,
        "start_time": "2024-04-23T16:38:42.747Z"
      },
      {
        "duration": 9532,
        "start_time": "2024-04-23T16:40:04.102Z"
      },
      {
        "duration": 22322,
        "start_time": "2024-04-23T16:40:18.854Z"
      },
      {
        "duration": 11,
        "start_time": "2024-04-23T16:44:40.735Z"
      },
      {
        "duration": 168,
        "start_time": "2024-04-23T16:45:24.130Z"
      },
      {
        "duration": 13662,
        "start_time": "2024-04-23T16:45:31.815Z"
      },
      {
        "duration": 12504,
        "start_time": "2024-04-23T16:45:45.478Z"
      },
      {
        "duration": 81,
        "start_time": "2024-04-23T16:49:41.183Z"
      },
      {
        "duration": 45,
        "start_time": "2024-04-23T16:51:22.439Z"
      },
      {
        "duration": 38,
        "start_time": "2024-04-23T16:52:23.475Z"
      },
      {
        "duration": 42,
        "start_time": "2024-04-23T16:52:43.886Z"
      },
      {
        "duration": 22,
        "start_time": "2024-04-23T16:54:14.480Z"
      },
      {
        "duration": 3733,
        "start_time": "2024-04-23T16:59:16.186Z"
      },
      {
        "duration": 19,
        "start_time": "2024-04-23T16:59:19.921Z"
      },
      {
        "duration": 981,
        "start_time": "2024-04-23T16:59:19.942Z"
      },
      {
        "duration": 3,
        "start_time": "2024-04-23T16:59:20.925Z"
      },
      {
        "duration": 102,
        "start_time": "2024-04-23T16:59:20.929Z"
      },
      {
        "duration": 47,
        "start_time": "2024-04-23T16:59:21.032Z"
      },
      {
        "duration": 96,
        "start_time": "2024-04-23T16:59:21.081Z"
      },
      {
        "duration": 19,
        "start_time": "2024-04-23T16:59:21.178Z"
      },
      {
        "duration": 1121,
        "start_time": "2024-04-23T16:59:21.199Z"
      },
      {
        "duration": 134,
        "start_time": "2024-04-23T16:59:22.322Z"
      },
      {
        "duration": 73,
        "start_time": "2024-04-23T16:59:22.458Z"
      },
      {
        "duration": 15,
        "start_time": "2024-04-23T16:59:22.532Z"
      },
      {
        "duration": 688,
        "start_time": "2024-04-23T16:59:22.549Z"
      },
      {
        "duration": 7,
        "start_time": "2024-04-23T16:59:23.238Z"
      },
      {
        "duration": 51,
        "start_time": "2024-04-23T16:59:23.247Z"
      },
      {
        "duration": 13,
        "start_time": "2024-04-23T16:59:23.300Z"
      },
      {
        "duration": 322,
        "start_time": "2024-04-23T16:59:23.314Z"
      },
      {
        "duration": 2,
        "start_time": "2024-04-23T16:59:23.638Z"
      },
      {
        "duration": 86,
        "start_time": "2024-04-23T16:59:23.641Z"
      },
      {
        "duration": 57,
        "start_time": "2024-04-23T16:59:23.728Z"
      },
      {
        "duration": 37,
        "start_time": "2024-04-23T16:59:23.787Z"
      },
      {
        "duration": 86,
        "start_time": "2024-04-23T16:59:23.826Z"
      },
      {
        "duration": 363,
        "start_time": "2024-04-23T16:59:23.913Z"
      },
      {
        "duration": 358,
        "start_time": "2024-04-23T16:59:24.277Z"
      },
      {
        "duration": 115,
        "start_time": "2024-04-23T16:59:24.637Z"
      },
      {
        "duration": 8586,
        "start_time": "2024-04-23T16:59:24.753Z"
      },
      {
        "duration": 21,
        "start_time": "2024-04-23T16:59:33.340Z"
      },
      {
        "duration": 82,
        "start_time": "2024-04-23T16:59:33.364Z"
      },
      {
        "duration": 271,
        "start_time": "2024-04-23T16:59:33.448Z"
      },
      {
        "duration": 2969,
        "start_time": "2024-04-23T16:59:33.721Z"
      },
      {
        "duration": 9463,
        "start_time": "2024-04-23T16:59:36.691Z"
      },
      {
        "duration": 31020,
        "start_time": "2024-04-23T16:59:46.156Z"
      },
      {
        "duration": 827,
        "start_time": "2024-04-23T17:00:17.178Z"
      },
      {
        "duration": 7084,
        "start_time": "2024-04-23T17:00:18.007Z"
      },
      {
        "duration": 14691,
        "start_time": "2024-04-23T17:00:25.093Z"
      },
      {
        "duration": 10601,
        "start_time": "2024-04-23T17:00:39.786Z"
      },
      {
        "duration": 85,
        "start_time": "2024-04-23T17:00:50.389Z"
      },
      {
        "duration": 4086,
        "start_time": "2024-04-23T17:03:13.194Z"
      },
      {
        "duration": 19,
        "start_time": "2024-04-23T17:03:17.282Z"
      },
      {
        "duration": 951,
        "start_time": "2024-04-23T17:03:17.303Z"
      },
      {
        "duration": 3,
        "start_time": "2024-04-23T17:03:18.256Z"
      },
      {
        "duration": 99,
        "start_time": "2024-04-23T17:03:18.261Z"
      },
      {
        "duration": 44,
        "start_time": "2024-04-23T17:03:18.362Z"
      },
      {
        "duration": 84,
        "start_time": "2024-04-23T17:03:18.407Z"
      },
      {
        "duration": 17,
        "start_time": "2024-04-23T17:03:18.492Z"
      },
      {
        "duration": 1108,
        "start_time": "2024-04-23T17:03:18.510Z"
      },
      {
        "duration": 144,
        "start_time": "2024-04-23T17:03:19.619Z"
      },
      {
        "duration": 70,
        "start_time": "2024-04-23T17:03:19.765Z"
      },
      {
        "duration": 15,
        "start_time": "2024-04-23T17:03:19.837Z"
      },
      {
        "duration": 691,
        "start_time": "2024-04-23T17:03:19.854Z"
      },
      {
        "duration": 7,
        "start_time": "2024-04-23T17:03:20.548Z"
      },
      {
        "duration": 52,
        "start_time": "2024-04-23T17:03:20.557Z"
      },
      {
        "duration": 15,
        "start_time": "2024-04-23T17:03:20.611Z"
      },
      {
        "duration": 307,
        "start_time": "2024-04-23T17:03:20.628Z"
      },
      {
        "duration": 2,
        "start_time": "2024-04-23T17:03:20.936Z"
      },
      {
        "duration": 92,
        "start_time": "2024-04-23T17:03:20.940Z"
      },
      {
        "duration": 53,
        "start_time": "2024-04-23T17:03:21.033Z"
      },
      {
        "duration": 38,
        "start_time": "2024-04-23T17:03:21.087Z"
      },
      {
        "duration": 103,
        "start_time": "2024-04-23T17:03:21.127Z"
      },
      {
        "duration": 323,
        "start_time": "2024-04-23T17:03:21.233Z"
      },
      {
        "duration": 352,
        "start_time": "2024-04-23T17:03:21.558Z"
      },
      {
        "duration": 108,
        "start_time": "2024-04-23T17:03:21.911Z"
      },
      {
        "duration": 8539,
        "start_time": "2024-04-23T17:03:22.020Z"
      },
      {
        "duration": 26,
        "start_time": "2024-04-23T17:03:30.560Z"
      },
      {
        "duration": 122,
        "start_time": "2024-04-23T17:03:30.588Z"
      },
      {
        "duration": 305,
        "start_time": "2024-04-23T17:03:30.711Z"
      },
      {
        "duration": 2996,
        "start_time": "2024-04-23T17:03:31.018Z"
      },
      {
        "duration": 12902,
        "start_time": "2024-04-23T17:03:34.016Z"
      },
      {
        "duration": 20667,
        "start_time": "2024-04-23T17:03:46.920Z"
      },
      {
        "duration": 820,
        "start_time": "2024-04-23T17:04:07.589Z"
      },
      {
        "duration": 10243,
        "start_time": "2024-04-23T17:04:08.411Z"
      },
      {
        "duration": 19123,
        "start_time": "2024-04-23T17:04:18.655Z"
      },
      {
        "duration": 11508,
        "start_time": "2024-04-23T17:04:37.779Z"
      },
      {
        "duration": 87,
        "start_time": "2024-04-23T17:04:49.289Z"
      },
      {
        "duration": 5294,
        "start_time": "2024-04-23T21:19:21.922Z"
      },
      {
        "duration": 18,
        "start_time": "2024-04-23T21:19:27.218Z"
      },
      {
        "duration": 1069,
        "start_time": "2024-04-23T21:19:27.237Z"
      },
      {
        "duration": 3,
        "start_time": "2024-04-23T21:19:28.308Z"
      },
      {
        "duration": 78,
        "start_time": "2024-04-23T21:19:28.312Z"
      },
      {
        "duration": 43,
        "start_time": "2024-04-23T21:19:28.392Z"
      },
      {
        "duration": 69,
        "start_time": "2024-04-23T21:19:28.436Z"
      },
      {
        "duration": 15,
        "start_time": "2024-04-23T21:19:28.506Z"
      },
      {
        "duration": 939,
        "start_time": "2024-04-23T21:19:28.522Z"
      },
      {
        "duration": 128,
        "start_time": "2024-04-23T21:19:29.463Z"
      },
      {
        "duration": 67,
        "start_time": "2024-04-23T21:19:29.592Z"
      },
      {
        "duration": 32,
        "start_time": "2024-04-23T21:19:29.660Z"
      },
      {
        "duration": 649,
        "start_time": "2024-04-23T21:19:29.693Z"
      },
      {
        "duration": 6,
        "start_time": "2024-04-23T21:19:30.343Z"
      },
      {
        "duration": 101,
        "start_time": "2024-04-23T21:19:30.350Z"
      },
      {
        "duration": 69,
        "start_time": "2024-04-23T21:19:30.452Z"
      },
      {
        "duration": 322,
        "start_time": "2024-04-23T21:19:30.523Z"
      },
      {
        "duration": 2,
        "start_time": "2024-04-23T21:19:30.846Z"
      },
      {
        "duration": 113,
        "start_time": "2024-04-23T21:19:30.849Z"
      },
      {
        "duration": 102,
        "start_time": "2024-04-23T21:19:30.963Z"
      },
      {
        "duration": 136,
        "start_time": "2024-04-23T21:19:31.066Z"
      },
      {
        "duration": 95,
        "start_time": "2024-04-23T21:19:31.203Z"
      },
      {
        "duration": 268,
        "start_time": "2024-04-23T21:19:31.300Z"
      },
      {
        "duration": 325,
        "start_time": "2024-04-23T21:19:31.585Z"
      },
      {
        "duration": 85,
        "start_time": "2024-04-23T21:19:31.912Z"
      },
      {
        "duration": 7298,
        "start_time": "2024-04-23T21:19:31.999Z"
      },
      {
        "duration": 22,
        "start_time": "2024-04-23T21:19:39.299Z"
      },
      {
        "duration": 77,
        "start_time": "2024-04-23T21:19:39.324Z"
      },
      {
        "duration": 236,
        "start_time": "2024-04-23T21:19:39.402Z"
      },
      {
        "duration": 2574,
        "start_time": "2024-04-23T21:19:39.639Z"
      },
      {
        "duration": 8857,
        "start_time": "2024-04-23T21:19:42.215Z"
      },
      {
        "duration": 76520,
        "start_time": "2024-04-23T21:19:51.073Z"
      },
      {
        "duration": 783,
        "start_time": "2024-04-23T21:21:07.595Z"
      },
      {
        "duration": 8424,
        "start_time": "2024-04-23T21:21:08.379Z"
      },
      {
        "duration": 23378,
        "start_time": "2024-04-23T21:21:16.805Z"
      },
      {
        "duration": 800,
        "start_time": "2024-04-23T21:21:40.185Z"
      },
      {
        "duration": 3,
        "start_time": "2024-04-23T21:21:40.987Z"
      },
      {
        "duration": 3878,
        "start_time": "2024-04-23T21:26:55.363Z"
      },
      {
        "duration": 18,
        "start_time": "2024-04-23T21:26:59.243Z"
      },
      {
        "duration": 815,
        "start_time": "2024-04-23T21:26:59.262Z"
      },
      {
        "duration": 3,
        "start_time": "2024-04-23T21:27:00.085Z"
      },
      {
        "duration": 111,
        "start_time": "2024-04-23T21:27:00.090Z"
      },
      {
        "duration": 137,
        "start_time": "2024-04-23T21:27:00.202Z"
      },
      {
        "duration": 194,
        "start_time": "2024-04-23T21:27:00.341Z"
      },
      {
        "duration": 150,
        "start_time": "2024-04-23T21:27:00.536Z"
      },
      {
        "duration": 968,
        "start_time": "2024-04-23T21:27:00.687Z"
      },
      {
        "duration": 124,
        "start_time": "2024-04-23T21:27:01.657Z"
      },
      {
        "duration": 202,
        "start_time": "2024-04-23T21:27:01.783Z"
      },
      {
        "duration": 331,
        "start_time": "2024-04-23T21:27:01.986Z"
      },
      {
        "duration": 633,
        "start_time": "2024-04-23T21:27:02.318Z"
      },
      {
        "duration": 6,
        "start_time": "2024-04-23T21:27:02.952Z"
      },
      {
        "duration": 43,
        "start_time": "2024-04-23T21:27:02.959Z"
      },
      {
        "duration": 36,
        "start_time": "2024-04-23T21:27:03.003Z"
      },
      {
        "duration": 287,
        "start_time": "2024-04-23T21:27:03.040Z"
      },
      {
        "duration": 2,
        "start_time": "2024-04-23T21:27:03.328Z"
      },
      {
        "duration": 77,
        "start_time": "2024-04-23T21:27:03.331Z"
      },
      {
        "duration": 42,
        "start_time": "2024-04-23T21:27:03.409Z"
      },
      {
        "duration": 41,
        "start_time": "2024-04-23T21:27:03.452Z"
      },
      {
        "duration": 70,
        "start_time": "2024-04-23T21:27:03.494Z"
      },
      {
        "duration": 291,
        "start_time": "2024-04-23T21:27:03.565Z"
      },
      {
        "duration": 354,
        "start_time": "2024-04-23T21:27:03.857Z"
      },
      {
        "duration": 78,
        "start_time": "2024-04-23T21:27:04.213Z"
      },
      {
        "duration": 7192,
        "start_time": "2024-04-23T21:27:04.293Z"
      },
      {
        "duration": 20,
        "start_time": "2024-04-23T21:27:11.486Z"
      },
      {
        "duration": 126,
        "start_time": "2024-04-23T21:27:11.509Z"
      },
      {
        "duration": 0,
        "start_time": "2024-04-23T21:27:11.636Z"
      },
      {
        "duration": 0,
        "start_time": "2024-04-23T21:27:11.637Z"
      },
      {
        "duration": 0,
        "start_time": "2024-04-23T21:27:11.638Z"
      },
      {
        "duration": 0,
        "start_time": "2024-04-23T21:27:11.638Z"
      },
      {
        "duration": 0,
        "start_time": "2024-04-23T21:27:11.639Z"
      },
      {
        "duration": 0,
        "start_time": "2024-04-23T21:27:11.640Z"
      },
      {
        "duration": 0,
        "start_time": "2024-04-23T21:27:11.641Z"
      },
      {
        "duration": 0,
        "start_time": "2024-04-23T21:27:11.642Z"
      },
      {
        "duration": 0,
        "start_time": "2024-04-23T21:27:11.643Z"
      },
      {
        "duration": 4016,
        "start_time": "2024-04-23T21:29:06.958Z"
      },
      {
        "duration": 19,
        "start_time": "2024-04-23T21:29:10.977Z"
      },
      {
        "duration": 809,
        "start_time": "2024-04-23T21:29:10.997Z"
      },
      {
        "duration": 3,
        "start_time": "2024-04-23T21:29:11.808Z"
      },
      {
        "duration": 79,
        "start_time": "2024-04-23T21:29:11.812Z"
      },
      {
        "duration": 44,
        "start_time": "2024-04-23T21:29:11.893Z"
      },
      {
        "duration": 81,
        "start_time": "2024-04-23T21:29:11.938Z"
      },
      {
        "duration": 16,
        "start_time": "2024-04-23T21:29:12.020Z"
      },
      {
        "duration": 999,
        "start_time": "2024-04-23T21:29:12.037Z"
      },
      {
        "duration": 124,
        "start_time": "2024-04-23T21:29:13.038Z"
      },
      {
        "duration": 73,
        "start_time": "2024-04-23T21:29:13.163Z"
      },
      {
        "duration": 16,
        "start_time": "2024-04-23T21:29:13.237Z"
      },
      {
        "duration": 663,
        "start_time": "2024-04-23T21:29:13.254Z"
      },
      {
        "duration": 7,
        "start_time": "2024-04-23T21:29:13.919Z"
      },
      {
        "duration": 60,
        "start_time": "2024-04-23T21:29:13.927Z"
      },
      {
        "duration": 14,
        "start_time": "2024-04-23T21:29:13.989Z"
      },
      {
        "duration": 281,
        "start_time": "2024-04-23T21:29:14.004Z"
      },
      {
        "duration": 3,
        "start_time": "2024-04-23T21:29:14.287Z"
      },
      {
        "duration": 58,
        "start_time": "2024-04-23T21:29:14.291Z"
      },
      {
        "duration": 54,
        "start_time": "2024-04-23T21:29:14.351Z"
      },
      {
        "duration": 34,
        "start_time": "2024-04-23T21:29:14.406Z"
      },
      {
        "duration": 75,
        "start_time": "2024-04-23T21:29:14.441Z"
      },
      {
        "duration": 322,
        "start_time": "2024-04-23T21:29:14.517Z"
      },
      {
        "duration": 360,
        "start_time": "2024-04-23T21:29:14.840Z"
      },
      {
        "duration": 89,
        "start_time": "2024-04-23T21:29:15.202Z"
      },
      {
        "duration": 7964,
        "start_time": "2024-04-23T21:29:15.293Z"
      },
      {
        "duration": 21,
        "start_time": "2024-04-23T21:29:23.258Z"
      },
      {
        "duration": 67,
        "start_time": "2024-04-23T21:29:23.282Z"
      },
      {
        "duration": 218,
        "start_time": "2024-04-23T21:29:23.351Z"
      },
      {
        "duration": 2604,
        "start_time": "2024-04-23T21:29:23.571Z"
      },
      {
        "duration": 8710,
        "start_time": "2024-04-23T21:29:26.177Z"
      },
      {
        "duration": 150624,
        "start_time": "2024-04-23T21:29:34.889Z"
      },
      {
        "duration": 772,
        "start_time": "2024-04-23T21:32:05.514Z"
      },
      {
        "duration": 7971,
        "start_time": "2024-04-23T21:32:06.287Z"
      },
      {
        "duration": 17727,
        "start_time": "2024-04-23T21:32:14.260Z"
      },
      {
        "duration": 805,
        "start_time": "2024-04-23T21:32:31.988Z"
      },
      {
        "duration": 3,
        "start_time": "2024-04-23T21:32:32.795Z"
      }
    ],
    "kernelspec": {
      "display_name": "Python 3 (ipykernel)",
      "language": "python",
      "name": "python3"
    },
    "language_info": {
      "codemirror_mode": {
        "name": "ipython",
        "version": 3
      },
      "file_extension": ".py",
      "mimetype": "text/x-python",
      "name": "python",
      "nbconvert_exporter": "python",
      "pygments_lexer": "ipython3",
      "version": "3.9.5"
    },
    "toc": {
      "base_numbering": 1,
      "nav_menu": {},
      "number_sections": true,
      "sideBar": true,
      "skip_h1_title": true,
      "title_cell": "Table of Contents",
      "title_sidebar": "Contents",
      "toc_cell": false,
      "toc_position": {
        "height": "calc(100% - 180px)",
        "left": "10px",
        "top": "150px",
        "width": "165px"
      },
      "toc_section_display": true,
      "toc_window_display": true
    },
    "colab": {
      "provenance": [],
      "toc_visible": true,
      "include_colab_link": true
    }
  },
  "nbformat": 4,
  "nbformat_minor": 0
}